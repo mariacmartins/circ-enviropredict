{
  "nbformat": 4,
  "nbformat_minor": 0,
  "metadata": {
    "colab": {
      "provenance": []
    },
    "kernelspec": {
      "name": "python3",
      "display_name": "Python 3"
    },
    "language_info": {
      "name": "python"
    }
  },
  "cells": [
    {
      "cell_type": "code",
      "execution_count": 2,
      "metadata": {
        "colab": {
          "base_uri": "https://localhost:8080/"
        },
        "id": "3tzD0stACoXo",
        "outputId": "3be43f9b-2854-4644-8063-011fb6f0b272"
      },
      "outputs": [
        {
          "output_type": "stream",
          "name": "stderr",
          "text": [
            "<ipython-input-2-34b853adfa88>:10: FutureWarning: Downcasting behavior in `replace` is deprecated and will be removed in a future version. To retain the old behavior, explicitly call `result.infer_objects(copy=False)`. To opt-in to the future behavior, set `pd.set_option('future.no_silent_downcasting', True)`\n",
            "  df_cold = rice_df.query('stress == \"-\" or stress == \"cold\"').replace('-', 0).replace('cold', 1)\n"
          ]
        },
        {
          "output_type": "stream",
          "name": "stdout",
          "text": [
            "              precision    recall  f1-score   support\n",
            "\n",
            "           0       0.74      0.83      0.78      1632\n",
            "           1       0.71      0.58      0.64      1149\n",
            "\n",
            "    accuracy                           0.73      2781\n",
            "   macro avg       0.72      0.70      0.71      2781\n",
            "weighted avg       0.72      0.73      0.72      2781\n",
            "\n",
            "Cold Model created.\n"
          ]
        }
      ],
      "source": [
        "import pandas as pd\n",
        "from sklearn.model_selection import train_test_split\n",
        "from sklearn.metrics import classification_report\n",
        "from imblearn.under_sampling import RandomUnderSampler\n",
        "from sklearn.ensemble import RandomForestClassifier\n",
        "from joblib import dump\n",
        "\n",
        "rice_df = pd.read_excel('rice_word2vec_3mer_dataset.xlsx')\n",
        "\n",
        "df_cold = rice_df.query('stress == \"-\" or stress == \"cold\"').replace('-', 0).replace('cold', 1)\n",
        "\n",
        "# Define X and y (target) variables\n",
        "X = df_cold.drop(['circName','stress','tissue','chr','start','end','strand','start_anno'], axis=1)\n",
        "y = df_cold['stress']\n",
        "\n",
        "ros = RandomUnderSampler(sampling_strategy=0.7)\n",
        "\n",
        "X_res, y_res = ros.fit_resample(X, y)\n",
        "\n",
        "X_train, X_test, y_train, y_test = train_test_split(X_res, y_res, test_size=0.20)\n",
        "\n",
        "modelrf = RandomForestClassifier()\n",
        "modelrf.fit(X_train, y_train)\n",
        "\n",
        "y_pred = modelrf.predict(X_test)\n",
        "report = classification_report(y_test, y_pred)\n",
        "print(report)\n",
        "\n",
        "# Saving the model\n",
        "\n",
        "dump(modelrf, 'rf_model_cold.joblib')\n",
        "print('Cold Model created.')"
      ]
    }
  ]
}