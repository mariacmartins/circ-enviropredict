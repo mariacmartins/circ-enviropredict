{
  "nbformat": 4,
  "nbformat_minor": 0,
  "metadata": {
    "colab": {
      "provenance": []
    },
    "kernelspec": {
      "name": "python3",
      "display_name": "Python 3"
    },
    "language_info": {
      "name": "python"
    }
  },
  "cells": [
    {
      "cell_type": "code",
      "source": [
        "!pip install scikit-learn==1.3.2"
      ],
      "metadata": {
        "colab": {
          "base_uri": "https://localhost:8080/"
        },
        "collapsed": true,
        "id": "pQoO9biMSJWn",
        "outputId": "b12968d8-6e72-4895-fe5a-a85e5289d15e"
      },
      "execution_count": 1,
      "outputs": [
        {
          "output_type": "stream",
          "name": "stdout",
          "text": [
            "Requirement already satisfied: scikit-learn==1.3.2 in /usr/local/lib/python3.10/dist-packages (1.3.2)\n",
            "Requirement already satisfied: numpy<2.0,>=1.17.3 in /usr/local/lib/python3.10/dist-packages (from scikit-learn==1.3.2) (1.26.4)\n",
            "Requirement already satisfied: scipy>=1.5.0 in /usr/local/lib/python3.10/dist-packages (from scikit-learn==1.3.2) (1.13.1)\n",
            "Requirement already satisfied: joblib>=1.1.1 in /usr/local/lib/python3.10/dist-packages (from scikit-learn==1.3.2) (1.4.2)\n",
            "Requirement already satisfied: threadpoolctl>=2.0.0 in /usr/local/lib/python3.10/dist-packages (from scikit-learn==1.3.2) (3.5.0)\n"
          ]
        }
      ]
    },
    {
      "cell_type": "code",
      "source": [
        "import pandas as pd\n",
        "from sklearn.model_selection import train_test_split\n",
        "from sklearn.metrics import classification_report\n",
        "from imblearn.under_sampling import RandomUnderSampler\n",
        "import lightgbm as lgb\n",
        "from joblib import dump\n",
        "from sklearn.metrics import confusion_matrix\n",
        "import itertools\n",
        "import matplotlib.pyplot as plt\n",
        "import numpy as np"
      ],
      "metadata": {
        "colab": {
          "base_uri": "https://localhost:8080/"
        },
        "collapsed": true,
        "id": "4amZwp5jREEs",
        "outputId": "886e40e1-c666-411b-af9b-933ad00269be"
      },
      "execution_count": 1,
      "outputs": [
        {
          "output_type": "stream",
          "name": "stderr",
          "text": [
            "/usr/local/lib/python3.10/dist-packages/dask/dataframe/__init__.py:42: FutureWarning: \n",
            "Dask dataframe query planning is disabled because dask-expr is not installed.\n",
            "\n",
            "You can install it with `pip install dask[dataframe]` or `conda install dask`.\n",
            "This will raise in a future version.\n",
            "\n",
            "  warnings.warn(msg, FutureWarning)\n"
          ]
        }
      ]
    },
    {
      "cell_type": "code",
      "source": [
        "rice_df = pd.read_excel('rice_word2vec_3mer_dataset.xlsx')"
      ],
      "metadata": {
        "id": "aUHp8UQQRG5G"
      },
      "execution_count": 2,
      "outputs": []
    },
    {
      "cell_type": "code",
      "source": [
        "df_cold = rice_df.query('stress == \"-\" or stress == \"cold\"').replace('-', 0).replace('cold', 1)"
      ],
      "metadata": {
        "colab": {
          "base_uri": "https://localhost:8080/"
        },
        "id": "kA1F3SLERJ26",
        "outputId": "61022af0-b065-4ce7-f77d-66b5cad73178"
      },
      "execution_count": 3,
      "outputs": [
        {
          "output_type": "stream",
          "name": "stderr",
          "text": [
            "<ipython-input-3-9bf9b2fbb131>:1: FutureWarning: Downcasting behavior in `replace` is deprecated and will be removed in a future version. To retain the old behavior, explicitly call `result.infer_objects(copy=False)`. To opt-in to the future behavior, set `pd.set_option('future.no_silent_downcasting', True)`\n",
            "  df_cold = rice_df.query('stress == \"-\" or stress == \"cold\"').replace('-', 0).replace('cold', 1)\n"
          ]
        }
      ]
    },
    {
      "cell_type": "markdown",
      "source": [
        "### LGBM Cold Model"
      ],
      "metadata": {
        "id": "aBd2ivQ4gHOO"
      }
    },
    {
      "cell_type": "code",
      "source": [
        "# Define X and y (target) variables\n",
        "X = df_cold.drop(['circName','stress','tissue','chr','start','end','strand','start_anno'], axis=1)\n",
        "y = df_cold['stress']"
      ],
      "metadata": {
        "id": "3ZELGM8nSgZ-"
      },
      "execution_count": 4,
      "outputs": []
    },
    {
      "cell_type": "code",
      "source": [
        "ros = RandomUnderSampler(sampling_strategy=0.7)\n",
        "\n",
        "X_res, y_res = ros.fit_resample(X, y)\n",
        "\n",
        "X_train, X_test, y_train, y_test = train_test_split(X_res, y_res, test_size=0.20, random_state=12)"
      ],
      "metadata": {
        "id": "iEhmm1SlRPmw"
      },
      "execution_count": 17,
      "outputs": []
    },
    {
      "cell_type": "code",
      "source": [
        "model_lgb = lgb.LGBMClassifier(random_state=12)\n",
        "model_lgb.fit(X_train, y_train)\n",
        "\n",
        "y_pred = model_lgb.predict(X_test)\n",
        "report = classification_report(y_test, y_pred)\n",
        "print(report)"
      ],
      "metadata": {
        "colab": {
          "base_uri": "https://localhost:8080/"
        },
        "id": "2BJRw4AsSkcO",
        "outputId": "fc97976c-9fe4-431f-e633-1de9add286e1"
      },
      "execution_count": 18,
      "outputs": [
        {
          "output_type": "stream",
          "name": "stdout",
          "text": [
            "[LightGBM] [Info] Number of positive: 4526, number of negative: 6594\n",
            "[LightGBM] [Info] Auto-choosing col-wise multi-threading, the overhead of testing was 0.014440 seconds.\n",
            "You can set `force_col_wise=true` to remove the overhead.\n",
            "[LightGBM] [Info] Total Bins 16320\n",
            "[LightGBM] [Info] Number of data points in the train set: 11120, number of used features: 64\n",
            "[LightGBM] [Info] [binary:BoostFromScore]: pavg=0.407014 -> initscore=-0.376322\n",
            "[LightGBM] [Info] Start training from score -0.376322\n",
            "              precision    recall  f1-score   support\n",
            "\n",
            "           0       0.74      0.81      0.77      1583\n",
            "           1       0.71      0.62      0.67      1198\n",
            "\n",
            "    accuracy                           0.73      2781\n",
            "   macro avg       0.73      0.72      0.72      2781\n",
            "weighted avg       0.73      0.73      0.73      2781\n",
            "\n"
          ]
        }
      ]
    },
    {
      "cell_type": "code",
      "source": [
        "print(model_lgb.get_params())"
      ],
      "metadata": {
        "colab": {
          "base_uri": "https://localhost:8080/"
        },
        "id": "2kDQ0KmTcWLg",
        "outputId": "137b35f2-3e88-4c3b-9b15-869f3fe19102"
      },
      "execution_count": 19,
      "outputs": [
        {
          "output_type": "stream",
          "name": "stdout",
          "text": [
            "{'boosting_type': 'gbdt', 'class_weight': None, 'colsample_bytree': 1.0, 'importance_type': 'split', 'learning_rate': 0.1, 'max_depth': -1, 'min_child_samples': 20, 'min_child_weight': 0.001, 'min_split_gain': 0.0, 'n_estimators': 100, 'n_jobs': None, 'num_leaves': 31, 'objective': None, 'random_state': 12, 'reg_alpha': 0.0, 'reg_lambda': 0.0, 'subsample': 1.0, 'subsample_for_bin': 200000, 'subsample_freq': 0}\n"
          ]
        }
      ]
    },
    {
      "cell_type": "code",
      "source": [
        "dump(model_lgb, 'lgb_model_cold.joblib')\n",
        "print('LGB - Cold Model created.')"
      ],
      "metadata": {
        "colab": {
          "base_uri": "https://localhost:8080/"
        },
        "id": "YNA653SkYK1q",
        "outputId": "224652f1-9096-4043-d48f-29c8e763e7d9"
      },
      "execution_count": 20,
      "outputs": [
        {
          "output_type": "stream",
          "name": "stdout",
          "text": [
            "LGB - Cold Model created.\n"
          ]
        }
      ]
    },
    {
      "cell_type": "code",
      "source": [
        "cnf_matrix = confusion_matrix(y_test, y_pred)\n",
        "\n",
        "def plot_confusion_matrix(cm, classes,\n",
        "                          normalize=False,\n",
        "                          title='Confusion Matrix',\n",
        "                          cmap=plt.cm.Blues):\n",
        "\n",
        "    if normalize:\n",
        "        cm = cm.astype('float') / cm.sum(axis=1)[:, np.newaxis]\n",
        "\n",
        "    #plt.ylim(0.5, 0.5)\n",
        "    plt.imshow(cm, interpolation='nearest', cmap=cmap)\n",
        "    plt.title(title)\n",
        "    plt.colorbar()\n",
        "    tick_marks = np.arange(len(classes))\n",
        "    plt.xticks(tick_marks, classes, rotation=45)\n",
        "    plt.yticks(tick_marks, classes)\n",
        "    plt.ylim(1.5, -0.5)\n",
        "\n",
        "    fmt = '.2f' if normalize else 'd'\n",
        "    thresh = cm.max() / 2.\n",
        "    for i, j in itertools.product(range(cm.shape[0]), range(cm.shape[1])):\n",
        "        plt.text(j, i, format(cm[i, j], fmt),\n",
        "                 horizontalalignment=\"center\",\n",
        "                 color=\"white\" if cm[i, j] > thresh else \"black\")\n",
        "\n",
        "    plt.ylabel('Real class')\n",
        "    plt.xlabel('Predicted class')\n",
        "    plt.tight_layout()\n",
        "\n",
        "plot_confusion_matrix(cnf_matrix, classes=['Control: 0', 'Cold: 1'])"
      ],
      "metadata": {
        "colab": {
          "base_uri": "https://localhost:8080/",
          "height": 487
        },
        "id": "soE4Os5xY3Mk",
        "outputId": "abc93b9e-2604-4555-de34-9b4acba2eccd"
      },
      "execution_count": 21,
      "outputs": [
        {
          "output_type": "display_data",
          "data": {
            "text/plain": [
              "<Figure size 640x480 with 2 Axes>"
            ],
            "image/png": "[encoded data removed]"
          },
          "metadata": {}
        }
      ]
    },
    {
      "cell_type": "code",
      "source": [
        "from sklearn.metrics import confusion_matrix, classification_report, roc_auc_score, accuracy_score\n",
        "import numpy as np\n",
        "y_prob = model_lgb.predict_proba(X_test)[:, 1]\n",
        "\n",
        "# Testar vários thresholds\n",
        "thresholds = np.arange(0.0, 1.1, 0.1)\n",
        "results = []\n",
        "\n",
        "for threshold in thresholds:\n",
        "    y_pred_test = (y_prob >= threshold).astype(int)\n",
        "\n",
        "    tn, fp, fn, tp = confusion_matrix(y_test, y_pred_test).ravel()\n",
        "    precision = tp / (tp + fp) if (tp + fp) > 0 else 0\n",
        "    recall = tp / (tp + fn) if (tp + fn) > 0 else 0\n",
        "    f1 = 2 * (precision * recall) / (precision + recall) if (precision + recall) > 0 else 0\n",
        "    auc = roc_auc_score(y_test, y_prob)\n",
        "    accuracy = accuracy_score(y_test, y_pred_test)\n",
        "\n",
        "    results.append({\n",
        "        'Threshold': threshold,\n",
        "        'Precision': precision,\n",
        "        'Recall': recall,\n",
        "        'F1 Score': f1,\n",
        "        'AUC': auc,\n",
        "        'Acurácia': accuracy\n",
        "    })\n",
        "\n",
        "# Criar um DataFrame para visualizar os resultados\n",
        "results_df = pd.DataFrame(results)\n",
        "print(results_df)"
      ],
      "metadata": {
        "colab": {
          "base_uri": "https://localhost:8080/"
        },
        "id": "1PqmGwVHU_GA",
        "outputId": "1a44eef6-d4d8-4e79-fc6b-7466c16193ae"
      },
      "execution_count": 22,
      "outputs": [
        {
          "output_type": "stream",
          "name": "stdout",
          "text": [
            "    Threshold  Precision    Recall  F1 Score       AUC  Acurácia\n",
            "0         0.0   0.430780  1.000000  0.602161  0.785579  0.430780\n",
            "1         0.1   0.462331  0.973289  0.626882  0.785579  0.500899\n",
            "2         0.2   0.533399  0.899833  0.669773  0.785579  0.617763\n",
            "3         0.3   0.600489  0.820534  0.693474  0.785579  0.687522\n",
            "4         0.4   0.659382  0.730384  0.693069  0.785579  0.721323\n",
            "5         0.5   0.712381  0.624374  0.665480  0.785579  0.729594\n",
            "6         0.6   0.765278  0.459933  0.574557  0.785579  0.706580\n",
            "7         0.7   0.838269  0.307179  0.449603  0.785579  0.676016\n",
            "8         0.8   0.849162  0.126878  0.220770  0.785579  0.614168\n",
            "9         0.9   0.700000  0.005843  0.011589  0.785579  0.570658\n",
            "10        1.0   0.000000  0.000000  0.000000  0.785579  0.569220\n"
          ]
        }
      ]
    }
  ]
}