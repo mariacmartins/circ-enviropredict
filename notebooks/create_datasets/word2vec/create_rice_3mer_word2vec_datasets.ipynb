{
  "cells": [
    {
      "attachments": {},
      "cell_type": "markdown",
      "metadata": {
        "id": "VBeTZTNnG85L"
      },
      "source": [
        "## Jupyter Notebook for responsible for create rice circRNA word2vec datasets\n",
        "\n",
        "Raw data downloaded from: http://deepbiology.cn/crop/index.php/Home/Html/Download\n",
        "\n"
      ]
    },
    {
      "cell_type": "code",
      "execution_count": 2,
      "metadata": {
        "colab": {
          "base_uri": "https://localhost:8080/"
        },
        "id": "xT75ZINHGQb-",
        "outputId": "3e996754-f2ed-472b-cf5c-49cdb492deeb"
      },
      "outputs": [
        {
          "name": "stdout",
          "output_type": "stream",
          "text": [
            "Looking in indexes: https://pypi.org/simple, https://us-python.pkg.dev/colab-wheels/public/simple/\n",
            "Collecting biopython\n",
            "  Using cached biopython-1.81-cp310-cp310-manylinux_2_17_x86_64.manylinux2014_x86_64.whl (3.1 MB)\n",
            "Requirement already satisfied: gensim in /usr/local/lib/python3.10/dist-packages (4.3.1)\n",
            "Collecting umap-learn\n",
            "  Using cached umap_learn-0.5.3-py3-none-any.whl\n",
            "Requirement already satisfied: numpy in /usr/local/lib/python3.10/dist-packages (from biopython) (1.22.4)\n",
            "Requirement already satisfied: scipy>=1.7.0 in /usr/local/lib/python3.10/dist-packages (from gensim) (1.10.1)\n",
            "Requirement already satisfied: smart-open>=1.8.1 in /usr/local/lib/python3.10/dist-packages (from gensim) (6.3.0)\n",
            "Requirement already satisfied: scikit-learn>=0.22 in /usr/local/lib/python3.10/dist-packages (from umap-learn) (1.2.2)\n",
            "Requirement already satisfied: numba>=0.49 in /usr/local/lib/python3.10/dist-packages (from umap-learn) (0.56.4)\n",
            "Collecting pynndescent>=0.5 (from umap-learn)\n",
            "  Using cached pynndescent-0.5.10-py3-none-any.whl\n",
            "Requirement already satisfied: tqdm in /usr/local/lib/python3.10/dist-packages (from umap-learn) (4.65.0)\n",
            "Requirement already satisfied: llvmlite<0.40,>=0.39.0dev0 in /usr/local/lib/python3.10/dist-packages (from numba>=0.49->umap-learn) (0.39.1)\n",
            "Requirement already satisfied: setuptools in /usr/local/lib/python3.10/dist-packages (from numba>=0.49->umap-learn) (67.7.2)\n",
            "Requirement already satisfied: joblib>=0.11 in /usr/local/lib/python3.10/dist-packages (from pynndescent>=0.5->umap-learn) (1.2.0)\n",
            "Requirement already satisfied: threadpoolctl>=2.0.0 in /usr/local/lib/python3.10/dist-packages (from scikit-learn>=0.22->umap-learn) (3.1.0)\n",
            "Installing collected packages: biopython, pynndescent, umap-learn\n",
            "Successfully installed biopython-1.81 pynndescent-0.5.10 umap-learn-0.5.3\n"
          ]
        }
      ],
      "source": [
        "!pip install biopython gensim umap-learn"
      ]
    },
    {
      "cell_type": "code",
      "execution_count": 4,
      "metadata": {
        "id": "7qvh6_paHEBi"
      },
      "outputs": [],
      "source": [
        "# Download data from PlantCircBase\n",
        "#!wget -O v4_osa_genomic_seq.txt.gz http://ibi.zju.edu.cn/plantcircbase/download/osaj43883_genomic_seq.txt.gz\n",
        "!yes | gzip -d osaj43883_genomic_seq.txt.gz"
      ]
    },
    {
      "cell_type": "code",
      "execution_count": 3,
      "metadata": {
        "id": "133BU2U-Gm2G"
      },
      "outputs": [],
      "source": [
        "# Import Libs\n",
        "from Bio import SeqIO\n",
        "import numpy as np\n",
        "import pandas as pd"
      ]
    },
    {
      "cell_type": "code",
      "execution_count": 22,
      "metadata": {
        "id": "z_G4sMX_Hhaq"
      },
      "outputs": [],
      "source": [
        "kmer_size = 3\n",
        "vector_size = 64"
      ]
    },
    {
      "cell_type": "code",
      "execution_count": 23,
      "metadata": {
        "id": "8yqF2q6oHtzz"
      },
      "outputs": [],
      "source": [
        "def circrna_to_kmers(circrna_sequence, k=kmer_size):\n",
        "  kmers = []\n",
        "  for i in range(0, len(circrna_sequence)-k+1):\n",
        "    kmer = circrna_sequence[i:i+k]\n",
        "    kmers.append(kmer)\n",
        "  return kmers"
      ]
    },
    {
      "cell_type": "code",
      "execution_count": 24,
      "metadata": {
        "id": "o9CVeRT5HzsG"
      },
      "outputs": [],
      "source": [
        "fasta_handle = open('osaj43883_genomic_seq.txt', 'r')\n",
        "fasta_parser = SeqIO.parse(fasta_handle, 'fasta')\n",
        "\n",
        "with open('oryza_corpus.txt', 'w') as corpus_handle:\n",
        "  for record in fasta_parser:\n",
        "    record_kmers = circrna_to_kmers(str(record.seq))\n",
        "    corpus_handle.write(' '.join(record_kmers) + '\\n')"
      ]
    },
    {
      "cell_type": "code",
      "execution_count": 25,
      "metadata": {
        "colab": {
          "base_uri": "https://localhost:8080/"
        },
        "id": "BdO0pT7TH5ux",
        "outputId": "9fd50016-e025-4979-e78b-0de72cd525c7"
      },
      "outputs": [
        {
          "name": "stdout",
          "output_type": "stream",
          "text": [
            "GCT CTG TGC GCT CTG TGT GTA TAC ACC CCA CAA AAG AGC GCC CCA CAT ATC TCC CCA CAA AAA AAG AGA GAC ACG CGC GCA CAA AAC ACA CAT ATT TTG TGA GAA AAG AGT GTG TGC GCA CAT ATC TCG CGG GGG GGT GTC TCA CAA AAA AAC ACC CCA CAG AGC GCC CCA CAA AAT ATG TGC GCT CTC TCC CCT CTG TGA GAT ATT TTT TTG TGT GTT TTG TGT GTC TCT CTT TTT TTT TTG TGT GTC TCA CAA AAT ATG TGA GAT ATA TAT ATC TCG CGA GAG AGT GTT TTC TCC CCA CAC ACA CAT ATA TAA AAC ACC CCA CAC ACC CCA CAT ATC TCT CTC TCT CTA TAG AGC GCA CAT ATG TGT GTC TCT CTT TTG TGC GCT CTC TCT CTC TCA CAG AGT GTT TTG TGG GGT GTT TTG TGC GCC CCC CCC CCT CTT TTC TCT CTA TAC ACA CAA AAT ATT TTG TGC GCA CAA AAT ATG TGG GGG GGA GAA AAC ACA CAC ACC CCT CTG TGG GGA GAT ATC TCT CTA TAT ATG TGG GGA GAC ACT CTT TTC TCA CAG AGG GGC GCT CTG TGC GCT CTG TGC GCC CCT CTT TTT TTG TGT GTC TCA CAA AAC ACA CAT ATT TTG TGT GTT TTG TGA GAC ACA CAT ATA TAC ACA CAA AAT ATT TTG TGC GCC CCA CAG AGA GAA AAC ACA CAC ACG CGA GAG AGC GCC CCA CAG AGG GGG GGG GGC GCC CCA CAT ATC TCT CTG TGT GTT TTT TTC TCA CAC ACT CTC TCA CAA AAG AGT GTG TGC GCA CAA AAT ATG TGG GGC GCT CTG TGC GCA CAG AGA GAA AAT ATC TCC CCC CCG CGC GCC CCA CAA AAG AGA GAG AGA GAC ACC CCA CAC ACT CTA TAC ACG CGT GTA TAT ATC TCC CCT CTG TGG GGC GCA CAA AAT ATT TTT TTA TAT ATT TTG TGA GAC ACC CCT CTG TGC GCC CCA CAA AAG AGG GGC GCA CAA AAC ACC CCA CAG AGC GCT CTG TGC GCC CCG CGC GCT CTG TGT GTT TTG TGG GGC GCT CTT TTC TCC CCA CAG AGT GTT TTT TTA TAA AAT ATC TCT CTC TCA CAC ACT CTG TGC GCG CGA GAA AAG AGC GCA CAA AAC ACA CAT ATG TGG GGA GAG AGA GAT ATG TGA GAC ACA CAA AAA AAC ACA CAT ATG TGT GTG TGA GAG AGC GCT CTC TCT CTG TGT GTC TCA CAG AGT GTG TGG GGA GAA AAC ACT CTA TAT ATA TAA AAA AAC ACT CTC TCC CCG CGA GAC ACA CAA AAT ATT TTT TTT TTA TAC ACT CTG TGA GAT ATG TGA GAC ACA CAA AAG AGC GCT CTG TGA GAA AAG AGA GAC ACA CAT ATT TTC TCA CAG AGA GAG AGG GGG GGA GAG AGA GAG AGA GAT ATT TTC TCC CCA CAA AAT ATG TGT GTG TGC GCT CTC TCA CAA AAG AGA GAT ATT TTC TCA CAA AAT ATT TTG TGT GTT TTT TTC TCC CCT CTC TCA CAA AAA AAC ACA CAT ATA TAC ACA CAT ATC TCA CAA AAT ATC TCA CAT ATC TCA CAC ACA CAA AAT ATT TTT TTG TGA GAA AAG AGC GCT CTT TTC TCT CTG TGC GCA CAA AAC ACC CCT CTC TCT CTG TGG GGT GTT TTC TCA CAG AGG GGA GAC ACT CTT TTC TCA CAC ACT CTC TCA CAA AAG AGG GGT GTT TTC TCT CTA TAC ACC CCT CTT TTT TTT TTC TCA CAA AAA AAT ATG TGT GTT TTA TAG AGA GAA AAA AAC ACT CTT TTG TGA GAA AAT ATG TGC GCT CTT TTC TCC CCT CTT TTG TGC GCA CAA AAA AAA AAC ACC CCC CCT CTA TAT ATG TGG GGA GAT ATG TGG GGA GAA AAT ATA TAA AAT ATA TAA AAA AAT ATA TAC ACT CTA TAC ACA CAC ACT CTC TCT CTA TAC ACA CAT ATA TAA AAG AGC GCT CTA TAT ATC TCT CTT TTT TTC TCC CCA CAA AAC ACT CTA TAC ACA CAT ATT TTG TGT GTG TGG GGA GAG AGA GAT ATT TTA TAG AGC GCA CAA AAC ACG CGA GAA AAA AAA AAT ATG TGT GTG TGC GCT CTA TAG AGG GGC GCC CCC CCA CAG\n",
            "GTG TGA GAG AGG GGA GAA AAG AGT GTT TTT TTG TGT GTC TCA CAT ATG TGT GTA TAT ATA TAC ACC CCT CTG TGG GGG GGG GGC GCC CCC CCT CTA TAG AGC GCA CAA AAC ACT CTT TTG TGG GGA GAT ATC TCC CCA CAA AAG AGT GTG TGA GAT ATA TAG AGA GAA AAG AGT GTG TGG GGC GCA CAA AAA AAT ATG TGG GGC GCC CCT CTG TGA GAA AAA AAG AGT GTT TTC TCA CAG AGT GTG TGA GAT ATG TGG GGA GAT ATT TTC TCT CTC TCT CTC TCC CCA CAT ATG TGG GGA GAT ATC TCC CCT CTT TTC TCC CCA CAC ACA CAA AAG AGA GAA AAA AAA AAG AGA GAA AAA AAA AAC ACC CCG CGA GAT ATT TTA TAG AGA GAC ACG CGA GAG AGC GCA CAA AAC ACC CCT CTC TCG CGA GAA AAT ATG TGG GGT GTA TAA AAC ACA CAA AAA AAC ACC CCT CTA TAA AAG AGA GAG AGA GAA AAA AAT ATC TCC CCT CTG TGC GCT CTG TGA GAC ACG CGC GCG\n",
            "ACA CAG AGG GGC GCT CTT TTA TAA AAT ATG TGG GGA GAT ATG TGA GAA AAA AAG AGC GCT CTG TGT GTG TGG GGA GAT ATG TGC GCT CTA TAT ATT TTG TGG GGT GTC TCA CAT ATT TTG TGA GAA AAA AAT ATG TGT GTG TGA GAT ATT TTG TGC GCT CTC TCT CTT TTA TAG AGT GTC TCT CTC TCT CTG TGA GAC ACT CTC TCA CAT ATG TGG GGC GCT CTG TGA GAT ATT TTC TCT CTA TAC ACA CAC ACA CAA AAA AAT ATG TGT GTG TGC GCT CTT TTG TGT GTA TAA AAT ATT TTT TTT TTT TTA TAT ATC TCC CCC CCT CTT TTT TTC TCA CAA AAT ATA TAG AGT GTT TTC TCC CCG CGC GCA CAT ATA TAA AAA AAG AGA GAA AAT ATT TTT TTT TTT TTT TTT TTG TGT GTT TTG TGC GCA CAG AGC GCA CAG AGC GCA CAT ATC TCA CAT ATT TTG TGG GGA GAG AGC GCG CGG GGC GCA CAT ATA TAC ACC CCG CGT GTG TGG GGC GCT CTT TTG TGG GGC GCT CTA TAT ATA TAT ATG TGG GGC GCA CAG AGG GGT GTC TCC CCA CAA AAC ACA CAC ACA CAA AAC ACC CCG CGT GTA TAC ACT CTA TAC ACC CCA CAG AGA GAG AGA GAG\n",
            "TAC ACC CCA CAG AGA GAG AGA GAG AGG GGT GTT TTT TTT TTC TCT CTT TTG TGT GTA TAT ATG TGT GTA TAT ATG TGT GTT TTG TGC GCA CAA AAC ACA CAA AAA AAT ATG TGG GGG GGG GGA GAG AGA GAA AAA AAT ATG TGT GTA TAC ACG CGG GGA GAG AGT GTT TTT TTT TTA TAA AAC ACT CTA TAT ATT TTA TAA AAT ATC TCA CAG AGC GCA CAT ATG TGT GTT TTG TGG GGC GCT CTG TGC GCT CTG TGC GCC CCG CGA GAG AGG GGT GTC TCA CAG AGG GGC GCC CCA CAG AGA GAA AAT ATC TCC CCT CTC TCT CTT TTT TTG TGA GAT ATT TTT TTT TTC TCA CAT ATG TGG GGG GGA\n",
            "CAA AAG AGA GAA AAG AGA GAT ATC TCA CAT ATG TGG GGC GCT CTG TGT GTC TCC CCG CGC GCA CAT ATC TCG CGT GTC TCA CAA AAG AGC GCA CAC ACG CGC\n"
          ]
        }
      ],
      "source": [
        "!head -5 oryza_corpus.txt"
      ]
    },
    {
      "cell_type": "code",
      "execution_count": 26,
      "metadata": {
        "id": "z30BEi-vIXcX"
      },
      "outputs": [],
      "source": [
        "from gensim.models import Word2Vec\n",
        "\n",
        "w2v_model = Word2Vec(vector_size=vector_size)\n",
        "w2v_model.build_vocab(corpus_file='oryza_corpus.txt')"
      ]
    },
    {
      "cell_type": "code",
      "execution_count": 27,
      "metadata": {
        "colab": {
          "base_uri": "https://localhost:8080/"
        },
        "id": "3JqeRWeVIcYS",
        "outputId": "a27a536c-fef7-45b1-e58f-2b75413c2b72"
      },
      "outputs": [
        {
          "data": {
            "text/plain": [
              "47735"
            ]
          },
          "execution_count": 27,
          "metadata": {},
          "output_type": "execute_result"
        }
      ],
      "source": [
        "w2v_model.corpus_count"
      ]
    },
    {
      "cell_type": "code",
      "execution_count": 28,
      "metadata": {
        "colab": {
          "base_uri": "https://localhost:8080/"
        },
        "id": "ZZP7CTGCIe_M",
        "outputId": "58818a8d-0ed4-40c2-9264-703bcb6114b3"
      },
      "outputs": [
        {
          "data": {
            "text/plain": [
              "(23163435, 73683738)"
            ]
          },
          "execution_count": 28,
          "metadata": {},
          "output_type": "execute_result"
        }
      ],
      "source": [
        "w2v_model.train(corpus_file='oryza_corpus.txt', total_words=w2v_model.corpus_total_words, epochs=1)"
      ]
    },
    {
      "cell_type": "code",
      "execution_count": 29,
      "metadata": {
        "id": "9CRN8xaKIkfH"
      },
      "outputs": [],
      "source": [
        "def circrna_to_vec(circrna_sequence, k=kmer_size):\n",
        "  vec = np.zeros(vector_size)\n",
        "  kmers = circrna_to_kmers(circrna_sequence, k=k)\n",
        "  for kmer in kmers:\n",
        "    if kmer in w2v_model.wv:\n",
        "      vec = vec + w2v_model.wv[kmer]\n",
        "  return vec"
      ]
    },
    {
      "cell_type": "code",
      "execution_count": 30,
      "metadata": {
        "id": "8RPzKxAqI5h9"
      },
      "outputs": [],
      "source": [
        "circ_df = pd.read_excel('rice_db.xlsx')"
      ]
    },
    {
      "cell_type": "code",
      "execution_count": null,
      "metadata": {
        "id": "vN6V6nekI9fi"
      },
      "outputs": [],
      "source": [
        "list = circ_df['seq']\n",
        "\n",
        "columns = [f'wc_3mer_{v+1}' for v in range(vector_size)]\n",
        "\n",
        "df_vecs = pd.DataFrame(columns=columns)\n",
        "\n",
        "for record in list:\n",
        "  df_vecs = df_vecs.append(\n",
        "      [\n",
        "       dict(zip(columns, circrna_to_vec(record)))\n",
        "       ], \n",
        "      ignore_index=True)"
      ]
    },
    {
      "cell_type": "code",
      "execution_count": 33,
      "metadata": {
        "colab": {
          "base_uri": "https://localhost:8080/",
          "height": 386
        },
        "id": "RmxV8RzWJVpE",
        "outputId": "8b05e050-1bd6-4564-eb28-ccc140852c41"
      },
      "outputs": [
        {
          "data": {
            "text/html": [
              "\n",
              "  <div id=\"df-1bf43dc6-c242-4b48-bf32-def9ae8b25a1\">\n",
              "    <div class=\"colab-df-container\">\n",
              "      <div>\n",
              "<style scoped>\n",
              "    .dataframe tbody tr th:only-of-type {\n",
              "        vertical-align: middle;\n",
              "    }\n",
              "\n",
              "    .dataframe tbody tr th {\n",
              "        vertical-align: top;\n",
              "    }\n",
              "\n",
              "    .dataframe thead th {\n",
              "        text-align: right;\n",
              "    }\n",
              "</style>\n",
              "<table border=\"1\" class=\"dataframe\">\n",
              "  <thead>\n",
              "    <tr style=\"text-align: right;\">\n",
              "      <th></th>\n",
              "      <th>circName</th>\n",
              "      <th>circID</th>\n",
              "      <th>gene</th>\n",
              "      <th>isoform</th>\n",
              "      <th>stress</th>\n",
              "      <th>tissue</th>\n",
              "      <th>chr</th>\n",
              "      <th>start</th>\n",
              "      <th>end</th>\n",
              "      <th>strand</th>\n",
              "      <th>...</th>\n",
              "      <th>wc_3mer_55</th>\n",
              "      <th>wc_3mer_56</th>\n",
              "      <th>wc_3mer_57</th>\n",
              "      <th>wc_3mer_58</th>\n",
              "      <th>wc_3mer_59</th>\n",
              "      <th>wc_3mer_60</th>\n",
              "      <th>wc_3mer_61</th>\n",
              "      <th>wc_3mer_62</th>\n",
              "      <th>wc_3mer_63</th>\n",
              "      <th>wc_3mer_64</th>\n",
              "    </tr>\n",
              "  </thead>\n",
              "  <tbody>\n",
              "    <tr>\n",
              "      <th>0</th>\n",
              "      <td>osa-circ1-OS01T0723400</td>\n",
              "      <td>1:30167620-30167771_+</td>\n",
              "      <td>OS01T0723400</td>\n",
              "      <td>OS01T0723400-01</td>\n",
              "      <td>-</td>\n",
              "      <td>multipleTissue</td>\n",
              "      <td>1</td>\n",
              "      <td>30167620</td>\n",
              "      <td>30167771</td>\n",
              "      <td>+</td>\n",
              "      <td>...</td>\n",
              "      <td>-25.198840</td>\n",
              "      <td>2.249939</td>\n",
              "      <td>-4.701558</td>\n",
              "      <td>-3.633969</td>\n",
              "      <td>5.212902</td>\n",
              "      <td>-6.579618</td>\n",
              "      <td>11.032136</td>\n",
              "      <td>-8.533007</td>\n",
              "      <td>-8.327910</td>\n",
              "      <td>18.141064</td>\n",
              "    </tr>\n",
              "    <tr>\n",
              "      <th>1</th>\n",
              "      <td>osa-circ2-OS03T0223400</td>\n",
              "      <td>3:6461672-6462146_-</td>\n",
              "      <td>OS03T0223400</td>\n",
              "      <td>OS03T0223400-01</td>\n",
              "      <td>-</td>\n",
              "      <td>multipleTissue</td>\n",
              "      <td>3</td>\n",
              "      <td>6461672</td>\n",
              "      <td>6462146</td>\n",
              "      <td>-</td>\n",
              "      <td>...</td>\n",
              "      <td>-27.264821</td>\n",
              "      <td>51.359450</td>\n",
              "      <td>-73.188428</td>\n",
              "      <td>-1.662928</td>\n",
              "      <td>56.565280</td>\n",
              "      <td>28.610637</td>\n",
              "      <td>80.878607</td>\n",
              "      <td>38.090248</td>\n",
              "      <td>-30.543510</td>\n",
              "      <td>28.859375</td>\n",
              "    </tr>\n",
              "    <tr>\n",
              "      <th>2</th>\n",
              "      <td>osa-circ3-OS11T0210300</td>\n",
              "      <td>11:5715883-5716030_-</td>\n",
              "      <td>OS11T0210300</td>\n",
              "      <td>OS11T0210300-02</td>\n",
              "      <td>-</td>\n",
              "      <td>multipleTissue</td>\n",
              "      <td>11</td>\n",
              "      <td>5715883</td>\n",
              "      <td>5716030</td>\n",
              "      <td>-</td>\n",
              "      <td>...</td>\n",
              "      <td>-69.366830</td>\n",
              "      <td>1.113416</td>\n",
              "      <td>-42.689580</td>\n",
              "      <td>-6.150814</td>\n",
              "      <td>23.203639</td>\n",
              "      <td>-7.541412</td>\n",
              "      <td>-11.218056</td>\n",
              "      <td>-40.615067</td>\n",
              "      <td>16.391329</td>\n",
              "      <td>1.324206</td>\n",
              "    </tr>\n",
              "    <tr>\n",
              "      <th>3</th>\n",
              "      <td>osa-circ4-OS02T0200900</td>\n",
              "      <td>2:5631023-5631244_-</td>\n",
              "      <td>OS02T0200900</td>\n",
              "      <td>OS02T0200900-02</td>\n",
              "      <td>-</td>\n",
              "      <td>multipleTissue</td>\n",
              "      <td>2</td>\n",
              "      <td>5631023</td>\n",
              "      <td>5631244</td>\n",
              "      <td>-</td>\n",
              "      <td>...</td>\n",
              "      <td>42.391724</td>\n",
              "      <td>50.721551</td>\n",
              "      <td>-67.643923</td>\n",
              "      <td>-24.403869</td>\n",
              "      <td>41.171276</td>\n",
              "      <td>45.067768</td>\n",
              "      <td>9.704687</td>\n",
              "      <td>9.653121</td>\n",
              "      <td>7.829608</td>\n",
              "      <td>-11.254961</td>\n",
              "    </tr>\n",
              "    <tr>\n",
              "      <th>4</th>\n",
              "      <td>osa-circ5-OS05T0494800</td>\n",
              "      <td>5:24302336-24302448_+</td>\n",
              "      <td>OS05T0494800</td>\n",
              "      <td>OS05T0494800-01</td>\n",
              "      <td>-</td>\n",
              "      <td>multipleTissue</td>\n",
              "      <td>5</td>\n",
              "      <td>24302336</td>\n",
              "      <td>24302448</td>\n",
              "      <td>+</td>\n",
              "      <td>...</td>\n",
              "      <td>-75.243917</td>\n",
              "      <td>-36.308267</td>\n",
              "      <td>7.583992</td>\n",
              "      <td>-27.560256</td>\n",
              "      <td>-24.934966</td>\n",
              "      <td>-15.739278</td>\n",
              "      <td>9.237141</td>\n",
              "      <td>-16.380438</td>\n",
              "      <td>-18.462203</td>\n",
              "      <td>7.718794</td>\n",
              "    </tr>\n",
              "  </tbody>\n",
              "</table>\n",
              "<p>5 rows × 86 columns</p>\n",
              "</div>\n",
              "      <button class=\"colab-df-convert\" onclick=\"convertToInteractive('df-1bf43dc6-c242-4b48-bf32-def9ae8b25a1')\"\n",
              "              title=\"Convert this dataframe to an interactive table.\"\n",
              "              style=\"display:none;\">\n",
              "        \n",
              "  <svg xmlns=\"http://www.w3.org/2000/svg\" height=\"24px\"viewBox=\"0 0 24 24\"\n",
              "       width=\"24px\">\n",
              "    <path d=\"M0 0h24v24H0V0z\" fill=\"none\"/>\n",
              "    <path d=\"M18.56 5.44l.94 2.06.94-2.06 2.06-.94-2.06-.94-.94-2.06-.94 2.06-2.06.94zm-11 1L8.5 8.5l.94-2.06 2.06-.94-2.06-.94L8.5 2.5l-.94 2.06-2.06.94zm10 10l.94 2.06.94-2.06 2.06-.94-2.06-.94-.94-2.06-.94 2.06-2.06.94z\"/><path d=\"M17.41 7.96l-1.37-1.37c-.4-.4-.92-.59-1.43-.59-.52 0-1.04.2-1.43.59L10.3 9.45l-7.72 7.72c-.78.78-.78 2.05 0 2.83L4 21.41c.39.39.9.59 1.41.59.51 0 1.02-.2 1.41-.59l7.78-7.78 2.81-2.81c.8-.78.8-2.07 0-2.86zM5.41 20L4 18.59l7.72-7.72 1.47 1.35L5.41 20z\"/>\n",
              "  </svg>\n",
              "      </button>\n",
              "      \n",
              "  <style>\n",
              "    .colab-df-container {\n",
              "      display:flex;\n",
              "      flex-wrap:wrap;\n",
              "      gap: 12px;\n",
              "    }\n",
              "\n",
              "    .colab-df-convert {\n",
              "      background-color: #E8F0FE;\n",
              "      border: none;\n",
              "      border-radius: 50%;\n",
              "      cursor: pointer;\n",
              "      display: none;\n",
              "      fill: #1967D2;\n",
              "      height: 32px;\n",
              "      padding: 0 0 0 0;\n",
              "      width: 32px;\n",
              "    }\n",
              "\n",
              "    .colab-df-convert:hover {\n",
              "      background-color: #E2EBFA;\n",
              "      box-shadow: 0px 1px 2px rgba(60, 64, 67, 0.3), 0px 1px 3px 1px rgba(60, 64, 67, 0.15);\n",
              "      fill: #174EA6;\n",
              "    }\n",
              "\n",
              "    [theme=dark] .colab-df-convert {\n",
              "      background-color: #3B4455;\n",
              "      fill: #D2E3FC;\n",
              "    }\n",
              "\n",
              "    [theme=dark] .colab-df-convert:hover {\n",
              "      background-color: #434B5C;\n",
              "      box-shadow: 0px 1px 3px 1px rgba(0, 0, 0, 0.15);\n",
              "      filter: drop-shadow(0px 1px 2px rgba(0, 0, 0, 0.3));\n",
              "      fill: #FFFFFF;\n",
              "    }\n",
              "  </style>\n",
              "\n",
              "      <script>\n",
              "        const buttonEl =\n",
              "          document.querySelector('#df-1bf43dc6-c242-4b48-bf32-def9ae8b25a1 button.colab-df-convert');\n",
              "        buttonEl.style.display =\n",
              "          google.colab.kernel.accessAllowed ? 'block' : 'none';\n",
              "\n",
              "        async function convertToInteractive(key) {\n",
              "          const element = document.querySelector('#df-1bf43dc6-c242-4b48-bf32-def9ae8b25a1');\n",
              "          const dataTable =\n",
              "            await google.colab.kernel.invokeFunction('convertToInteractive',\n",
              "                                                     [key], {});\n",
              "          if (!dataTable) return;\n",
              "\n",
              "          const docLinkHtml = 'Like what you see? Visit the ' +\n",
              "            '<a target=\"_blank\" href=https://colab.research.google.com/notebooks/data_table.ipynb>data table notebook</a>'\n",
              "            + ' to learn more about interactive tables.';\n",
              "          element.innerHTML = '';\n",
              "          dataTable['output_type'] = 'display_data';\n",
              "          await google.colab.output.renderOutput(dataTable, element);\n",
              "          const docLink = document.createElement('div');\n",
              "          docLink.innerHTML = docLinkHtml;\n",
              "          element.appendChild(docLink);\n",
              "        }\n",
              "      </script>\n",
              "    </div>\n",
              "  </div>\n",
              "  "
            ],
            "text/plain": [
              "                 circName                 circID          gene  \\\n",
              "0  osa-circ1-OS01T0723400  1:30167620-30167771_+  OS01T0723400   \n",
              "1  osa-circ2-OS03T0223400    3:6461672-6462146_-  OS03T0223400   \n",
              "2  osa-circ3-OS11T0210300   11:5715883-5716030_-  OS11T0210300   \n",
              "3  osa-circ4-OS02T0200900    2:5631023-5631244_-  OS02T0200900   \n",
              "4  osa-circ5-OS05T0494800  5:24302336-24302448_+  OS05T0494800   \n",
              "\n",
              "           isoform stress          tissue  chr     start       end strand  \\\n",
              "0  OS01T0723400-01      -  multipleTissue    1  30167620  30167771      +   \n",
              "1  OS03T0223400-01      -  multipleTissue    3   6461672   6462146      -   \n",
              "2  OS11T0210300-02      -  multipleTissue   11   5715883   5716030      -   \n",
              "3  OS02T0200900-02      -  multipleTissue    2   5631023   5631244      -   \n",
              "4  OS05T0494800-01      -  multipleTissue    5  24302336  24302448      +   \n",
              "\n",
              "   ...  wc_3mer_55  wc_3mer_56 wc_3mer_57 wc_3mer_58 wc_3mer_59 wc_3mer_60  \\\n",
              "0  ...  -25.198840    2.249939  -4.701558  -3.633969   5.212902  -6.579618   \n",
              "1  ...  -27.264821   51.359450 -73.188428  -1.662928  56.565280  28.610637   \n",
              "2  ...  -69.366830    1.113416 -42.689580  -6.150814  23.203639  -7.541412   \n",
              "3  ...   42.391724   50.721551 -67.643923 -24.403869  41.171276  45.067768   \n",
              "4  ...  -75.243917  -36.308267   7.583992 -27.560256 -24.934966 -15.739278   \n",
              "\n",
              "  wc_3mer_61 wc_3mer_62 wc_3mer_63 wc_3mer_64  \n",
              "0  11.032136  -8.533007  -8.327910  18.141064  \n",
              "1  80.878607  38.090248 -30.543510  28.859375  \n",
              "2 -11.218056 -40.615067  16.391329   1.324206  \n",
              "3   9.704687   9.653121   7.829608 -11.254961  \n",
              "4   9.237141 -16.380438 -18.462203   7.718794  \n",
              "\n",
              "[5 rows x 86 columns]"
            ]
          },
          "execution_count": 33,
          "metadata": {},
          "output_type": "execute_result"
        }
      ],
      "source": [
        "new_df = pd.concat([circ_df, df_vecs], axis=1)\n",
        "\n",
        "new_df.head()"
      ]
    },
    {
      "cell_type": "code",
      "execution_count": 34,
      "metadata": {
        "id": "kGCg8lr5LYtO"
      },
      "outputs": [],
      "source": [
        "new_df.to_excel('rice_word2vec_3mer_dataset.xlsx', index=False)"
      ]
    }
  ],
  "metadata": {
    "colab": {
      "provenance": []
    },
    "kernelspec": {
      "display_name": "Python 3",
      "name": "python3"
    },
    "language_info": {
      "name": "python"
    }
  },
  "nbformat": 4,
  "nbformat_minor": 0
}
