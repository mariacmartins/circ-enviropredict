{
  "cells": [
    {
      "attachments": {},
      "cell_type": "markdown",
      "metadata": {
        "id": "VBeTZTNnG85L"
      },
      "source": [
        "## Jupyter Notebook for responsible for create rice circRNA word2vec datasets\n",
        "\n",
        "Raw data downloaded from: http://deepbiology.cn/crop/index.php/Home/Html/Download\n",
        "\n"
      ]
    },
    {
      "cell_type": "code",
      "execution_count": 2,
      "metadata": {
        "colab": {
          "base_uri": "https://localhost:8080/"
        },
        "id": "xT75ZINHGQb-",
        "outputId": "3e996754-f2ed-472b-cf5c-49cdb492deeb"
      },
      "outputs": [
        {
          "name": "stdout",
          "output_type": "stream",
          "text": [
            "Looking in indexes: https://pypi.org/simple, https://us-python.pkg.dev/colab-wheels/public/simple/\n",
            "Collecting biopython\n",
            "  Using cached biopython-1.81-cp310-cp310-manylinux_2_17_x86_64.manylinux2014_x86_64.whl (3.1 MB)\n",
            "Requirement already satisfied: gensim in /usr/local/lib/python3.10/dist-packages (4.3.1)\n",
            "Collecting umap-learn\n",
            "  Using cached umap_learn-0.5.3-py3-none-any.whl\n",
            "Requirement already satisfied: numpy in /usr/local/lib/python3.10/dist-packages (from biopython) (1.22.4)\n",
            "Requirement already satisfied: scipy>=1.7.0 in /usr/local/lib/python3.10/dist-packages (from gensim) (1.10.1)\n",
            "Requirement already satisfied: smart-open>=1.8.1 in /usr/local/lib/python3.10/dist-packages (from gensim) (6.3.0)\n",
            "Requirement already satisfied: scikit-learn>=0.22 in /usr/local/lib/python3.10/dist-packages (from umap-learn) (1.2.2)\n",
            "Requirement already satisfied: numba>=0.49 in /usr/local/lib/python3.10/dist-packages (from umap-learn) (0.56.4)\n",
            "Collecting pynndescent>=0.5 (from umap-learn)\n",
            "  Using cached pynndescent-0.5.10-py3-none-any.whl\n",
            "Requirement already satisfied: tqdm in /usr/local/lib/python3.10/dist-packages (from umap-learn) (4.65.0)\n",
            "Requirement already satisfied: llvmlite<0.40,>=0.39.0dev0 in /usr/local/lib/python3.10/dist-packages (from numba>=0.49->umap-learn) (0.39.1)\n",
            "Requirement already satisfied: setuptools in /usr/local/lib/python3.10/dist-packages (from numba>=0.49->umap-learn) (67.7.2)\n",
            "Requirement already satisfied: joblib>=0.11 in /usr/local/lib/python3.10/dist-packages (from pynndescent>=0.5->umap-learn) (1.2.0)\n",
            "Requirement already satisfied: threadpoolctl>=2.0.0 in /usr/local/lib/python3.10/dist-packages (from scikit-learn>=0.22->umap-learn) (3.1.0)\n",
            "Installing collected packages: biopython, pynndescent, umap-learn\n",
            "Successfully installed biopython-1.81 pynndescent-0.5.10 umap-learn-0.5.3\n"
          ]
        }
      ],
      "source": [
        "!pip install biopython gensim umap-learn"
      ]
    },
    {
      "cell_type": "code",
      "execution_count": 4,
      "metadata": {
        "id": "7qvh6_paHEBi"
      },
      "outputs": [],
      "source": [
        "# Download data from PlantCircBase\n",
        "#!wget -O v4_osa_genomic_seq.txt.gz http://ibi.zju.edu.cn/plantcircbase/download/osaj43883_genomic_seq.txt.gz\n",
        "!yes | gzip -d osaj43883_genomic_seq.txt.gz"
      ]
    },
    {
      "cell_type": "code",
      "execution_count": 3,
      "metadata": {
        "id": "133BU2U-Gm2G"
      },
      "outputs": [],
      "source": [
        "# Import Libs\n",
        "from Bio import SeqIO\n",
        "import numpy as np\n",
        "import pandas as pd"
      ]
    },
    {
      "cell_type": "code",
      "execution_count": 35,
      "metadata": {
        "id": "z_G4sMX_Hhaq"
      },
      "outputs": [],
      "source": [
        "kmer_size = 4\n",
        "vector_size = 256"
      ]
    },
    {
      "cell_type": "code",
      "execution_count": 36,
      "metadata": {
        "id": "8yqF2q6oHtzz"
      },
      "outputs": [],
      "source": [
        "def circrna_to_kmers(circrna_sequence, k=kmer_size):\n",
        "  kmers = []\n",
        "  for i in range(0, len(circrna_sequence)-k+1):\n",
        "    kmer = circrna_sequence[i:i+k]\n",
        "    kmers.append(kmer)\n",
        "  return kmers"
      ]
    },
    {
      "cell_type": "code",
      "execution_count": 37,
      "metadata": {
        "id": "o9CVeRT5HzsG"
      },
      "outputs": [],
      "source": [
        "fasta_handle = open('osaj43883_genomic_seq.txt', 'r')\n",
        "fasta_parser = SeqIO.parse(fasta_handle, 'fasta')\n",
        "\n",
        "with open('oryza_corpus.txt', 'w') as corpus_handle:\n",
        "  for record in fasta_parser:\n",
        "    record_kmers = circrna_to_kmers(str(record.seq))\n",
        "    corpus_handle.write(' '.join(record_kmers) + '\\n')"
      ]
    },
    {
      "cell_type": "code",
      "execution_count": 38,
      "metadata": {
        "colab": {
          "base_uri": "https://localhost:8080/"
        },
        "id": "BdO0pT7TH5ux",
        "outputId": "48ada733-260c-46a3-f8e1-4a35a42470b3"
      },
      "outputs": [
        {
          "name": "stdout",
          "output_type": "stream",
          "text": [
            "GCTG CTGC TGCT GCTG CTGT TGTA GTAC TACC ACCA CCAA CAAG AAGC AGCC GCCA CCAT CATC ATCC TCCA CCAA CAAA AAAG AAGA AGAC GACG ACGC CGCA GCAA CAAC AACA ACAT CATT ATTG TTGA TGAA GAAG AAGT AGTG GTGC TGCA GCAT CATC ATCG TCGG CGGG GGGT GGTC GTCA TCAA CAAA AAAC AACC ACCA CCAG CAGC AGCC GCCA CCAA CAAT AATG ATGC TGCT GCTC CTCC TCCT CCTG CTGA TGAT GATT ATTT TTTG TTGT TGTT GTTG TTGT TGTC GTCT TCTT CTTT TTTT TTTG TTGT TGTC GTCA TCAA CAAT AATG ATGA TGAT GATA ATAT TATC ATCG TCGA CGAG GAGT AGTT GTTC TTCC TCCA CCAC CACA ACAT CATA ATAA TAAC AACC ACCA CCAC CACC ACCA CCAT CATC ATCT TCTC CTCT TCTA CTAG TAGC AGCA GCAT CATG ATGT TGTC GTCT TCTT CTTG TTGC TGCT GCTC CTCT TCTC CTCA TCAG CAGT AGTT GTTG TTGG TGGT GGTT GTTG TTGC TGCC GCCC CCCC CCCT CCTT CTTC TTCT TCTA CTAC TACA ACAA CAAT AATT ATTG TTGC TGCA GCAA CAAT AATG ATGG TGGG GGGA GGAA GAAC AACA ACAC CACC ACCT CCTG CTGG TGGA GGAT GATC ATCT TCTA CTAT TATG ATGG TGGA GGAC GACT ACTT CTTC TTCA TCAG CAGG AGGC GGCT GCTG CTGC TGCT GCTG CTGC TGCC GCCT CCTT CTTT TTTG TTGT TGTC GTCA TCAA CAAC AACA ACAT CATT ATTG TTGT TGTT GTTG TTGA TGAC GACA ACAT CATA ATAC TACA ACAA CAAT AATT ATTG TTGC TGCC GCCA CCAG CAGA AGAA GAAC AACA ACAC CACG ACGA CGAG GAGC AGCC GCCA CCAG CAGG AGGG GGGG GGGC GGCC GCCA CCAT CATC ATCT TCTG CTGT TGTT GTTT TTTC TTCA TCAC CACT ACTC CTCA TCAA CAAG AAGT AGTG GTGC TGCA GCAA CAAT AATG ATGG TGGC GGCT GCTG CTGC TGCA GCAG CAGA AGAA GAAT AATC ATCC TCCC CCCG CCGC CGCC GCCA CCAA CAAG AAGA AGAG GAGA AGAC GACC ACCA CCAC CACT ACTA CTAC TACG ACGT CGTA GTAT TATC ATCC TCCT CCTG CTGG TGGC GGCA GCAA CAAT AATT ATTT TTTA TTAT TATT ATTG TTGA TGAC GACC ACCT CCTG CTGC TGCC GCCA CCAA CAAG AAGG AGGC GGCA GCAA CAAC AACC ACCA CCAG CAGC AGCT GCTG CTGC TGCC GCCG CCGC CGCT GCTG CTGT TGTT GTTG TTGG TGGC GGCT GCTT CTTC TTCC TCCA CCAG CAGT AGTT GTTT TTTA TTAA TAAT AATC ATCT TCTC CTCA TCAC CACT ACTG CTGC TGCG GCGA CGAA GAAG AAGC AGCA GCAA CAAC AACA ACAT CATG ATGG TGGA GGAG GAGA AGAT GATG ATGA TGAC GACA ACAA CAAA AAAC AACA ACAT CATG ATGT TGTG GTGA TGAG GAGC AGCT GCTC CTCT TCTG CTGT TGTC GTCA TCAG CAGT AGTG GTGG TGGA GGAA GAAC AACT ACTA CTAT TATA ATAA TAAA AAAC AACT ACTC CTCC TCCG CCGA CGAC GACA ACAA CAAT AATT ATTT TTTT TTTA TTAC TACT ACTG CTGA TGAT GATG ATGA TGAC GACA ACAA CAAG AAGC AGCT GCTG CTGA TGAA GAAG AAGA AGAC GACA ACAT CATT ATTC TTCA TCAG CAGA AGAG GAGG AGGG GGGA GGAG GAGA AGAG GAGA AGAT GATT ATTC TTCC TCCA CCAA CAAT AATG ATGT TGTG GTGC TGCT GCTC CTCA TCAA CAAG AAGA AGAT GATT ATTC TTCA TCAA CAAT AATT ATTG TTGT TGTT GTTT TTTC TTCC TCCT CCTC CTCA TCAA CAAA AAAC AACA ACAT CATA ATAC TACA ACAT CATC ATCA TCAA CAAT AATC ATCA TCAT CATC ATCA TCAC CACA ACAA CAAT AATT ATTT TTTG TTGA TGAA GAAG AAGC AGCT GCTT CTTC TTCT TCTG CTGC TGCA GCAA CAAC AACC ACCT CCTC CTCT TCTG CTGG TGGT GGTT GTTC TTCA TCAG CAGG AGGA GGAC GACT ACTT CTTC TTCA TCAC CACT ACTC CTCA TCAA CAAG AAGG AGGT GGTT GTTC TTCT TCTA CTAC TACC ACCT CCTT CTTT TTTT TTTC TTCA TCAA CAAA AAAT AATG ATGT TGTT GTTA TTAG TAGA AGAA GAAA AAAC AACT ACTT CTTG TTGA TGAA GAAT AATG ATGC TGCT GCTT CTTC TTCC TCCT CCTT CTTG TTGC TGCA GCAA CAAA AAAA AAAC AACC ACCC CCCT CCTA CTAT TATG ATGG TGGA GGAT GATG ATGG TGGA GGAA GAAT AATA ATAA TAAT AATA ATAA TAAA AAAT AATA ATAC TACT ACTA CTAC TACA ACAC CACT ACTC CTCT TCTA CTAC TACA ACAT CATA ATAA TAAG AAGC AGCT GCTA CTAT TATC ATCT TCTT CTTT TTTC TTCC TCCA CCAA CAAC AACT ACTA CTAC TACA ACAT CATT ATTG TTGT TGTG GTGG TGGA GGAG GAGA AGAT GATT ATTA TTAG TAGC AGCA GCAA CAAC AACG ACGA CGAA GAAA AAAA AAAT AATG ATGT TGTG GTGC TGCT GCTA CTAG TAGG AGGC GGCC GCCC CCCA CCAG\n",
            "GTGA TGAG GAGG AGGA GGAA GAAG AAGT AGTT GTTT TTTG TTGT TGTC GTCA TCAT CATG ATGT TGTA GTAT TATA ATAC TACC ACCT CCTG CTGG TGGG GGGG GGGC GGCC GCCC CCCT CCTA CTAG TAGC AGCA GCAA CAAC AACT ACTT CTTG TTGG TGGA GGAT GATC ATCC TCCA CCAA CAAG AAGT AGTG GTGA TGAT GATA ATAG TAGA AGAA GAAG AAGT AGTG GTGG TGGC GGCA GCAA CAAA AAAT AATG ATGG TGGC GGCC GCCT CCTG CTGA TGAA GAAA AAAG AAGT AGTT GTTC TTCA TCAG CAGT AGTG GTGA TGAT GATG ATGG TGGA GGAT GATT ATTC TTCT TCTC CTCT TCTC CTCC TCCA CCAT CATG ATGG TGGA GGAT GATC ATCC TCCT CCTT CTTC TTCC TCCA CCAC CACA ACAA CAAG AAGA AGAA GAAA AAAA AAAG AAGA AGAA GAAA AAAA AAAC AACC ACCG CCGA CGAT GATT ATTA TTAG TAGA AGAC GACG ACGA CGAG GAGC AGCA GCAA CAAC AACC ACCT CCTC CTCG TCGA CGAA GAAT AATG ATGG TGGT GGTA GTAA TAAC AACA ACAA CAAA AAAC AACC ACCT CCTA CTAA TAAG AAGA AGAG GAGA AGAA GAAA AAAT AATC ATCC TCCT CCTG CTGC TGCT GCTG CTGA TGAC GACG ACGC CGCG\n",
            "ACAG CAGG AGGC GGCT GCTT CTTA TTAA TAAT AATG ATGG TGGA GGAT GATG ATGA TGAA GAAA AAAG AAGC AGCT GCTG CTGT TGTG GTGG TGGA GGAT GATG ATGC TGCT GCTA CTAT TATT ATTG TTGG TGGT GGTC GTCA TCAT CATT ATTG TTGA TGAA GAAA AAAT AATG ATGT TGTG GTGA TGAT GATT ATTG TTGC TGCT GCTC CTCT TCTT CTTA TTAG TAGT AGTC GTCT TCTC CTCT TCTG CTGA TGAC GACT ACTC CTCA TCAT CATG ATGG TGGC GGCT GCTG CTGA TGAT GATT ATTC TTCT TCTA CTAC TACA ACAC CACA ACAA CAAA AAAT AATG ATGT TGTG GTGC TGCT GCTT CTTG TTGT TGTA GTAA TAAT AATT ATTT TTTT TTTT TTTA TTAT TATC ATCC TCCC CCCT CCTT CTTT TTTC TTCA TCAA CAAT AATA ATAG TAGT AGTT GTTC TTCC TCCG CCGC CGCA GCAT CATA ATAA TAAA AAAG AAGA AGAA GAAT AATT ATTT TTTT TTTT TTTT TTTT TTTG TTGT TGTT GTTG TTGC TGCA GCAG CAGC AGCA GCAG CAGC AGCA GCAT CATC ATCA TCAT CATT ATTG TTGG TGGA GGAG GAGC AGCG GCGG CGGC GGCA GCAT CATA ATAC TACC ACCG CCGT CGTG GTGG TGGC GGCT GCTT CTTG TTGG TGGC GGCT GCTA CTAT TATA ATAT TATG ATGG TGGC GGCA GCAG CAGG AGGT GGTC GTCC TCCA CCAA CAAC AACA ACAC CACA ACAA CAAC AACC ACCG CCGT CGTA GTAC TACT ACTA CTAC TACC ACCA CCAG CAGA AGAG GAGA AGAG\n",
            "TACC ACCA CCAG CAGA AGAG GAGA AGAG GAGG AGGT GGTT GTTT TTTT TTTC TTCT TCTT CTTG TTGT TGTA GTAT TATG ATGT TGTA GTAT TATG ATGT TGTT GTTG TTGC TGCA GCAA CAAC AACA ACAA CAAA AAAT AATG ATGG TGGG GGGG GGGA GGAG GAGA AGAA GAAA AAAT AATG ATGT TGTA GTAC TACG ACGG CGGA GGAG GAGT AGTT GTTT TTTT TTTA TTAA TAAC AACT ACTA CTAT TATT ATTA TTAA TAAT AATC ATCA TCAG CAGC AGCA GCAT CATG ATGT TGTT GTTG TTGG TGGC GGCT GCTG CTGC TGCT GCTG CTGC TGCC GCCG CCGA CGAG GAGG AGGT GGTC GTCA TCAG CAGG AGGC GGCC GCCA CCAG CAGA AGAA GAAT AATC ATCC TCCT CCTC CTCT TCTT CTTT TTTG TTGA TGAT GATT ATTT TTTT TTTC TTCA TCAT CATG ATGG TGGG GGGA\n",
            "CAAG AAGA AGAA GAAG AAGA AGAT GATC ATCA TCAT CATG ATGG TGGC GGCT GCTG CTGT TGTC GTCC TCCG CCGC CGCA GCAT CATC ATCG TCGT CGTC GTCA TCAA CAAG AAGC AGCA GCAC CACG ACGC\n"
          ]
        }
      ],
      "source": [
        "!head -5 oryza_corpus.txt"
      ]
    },
    {
      "cell_type": "code",
      "execution_count": 39,
      "metadata": {
        "id": "z30BEi-vIXcX"
      },
      "outputs": [],
      "source": [
        "from gensim.models import Word2Vec\n",
        "\n",
        "w2v_model = Word2Vec(vector_size=vector_size)\n",
        "w2v_model.build_vocab(corpus_file='oryza_corpus.txt')"
      ]
    },
    {
      "cell_type": "code",
      "execution_count": 40,
      "metadata": {
        "colab": {
          "base_uri": "https://localhost:8080/"
        },
        "id": "3JqeRWeVIcYS",
        "outputId": "393042ba-21ed-481f-812c-61b8206544d9"
      },
      "outputs": [
        {
          "data": {
            "text/plain": [
              "47732"
            ]
          },
          "execution_count": 40,
          "metadata": {},
          "output_type": "execute_result"
        }
      ],
      "source": [
        "w2v_model.corpus_count"
      ]
    },
    {
      "cell_type": "code",
      "execution_count": 41,
      "metadata": {
        "colab": {
          "base_uri": "https://localhost:8080/"
        },
        "id": "ZZP7CTGCIe_M",
        "outputId": "7e957f80-362b-4a02-ba77-9ad4a8214820"
      },
      "outputs": [
        {
          "data": {
            "text/plain": [
              "(45860120, 73653142)"
            ]
          },
          "execution_count": 41,
          "metadata": {},
          "output_type": "execute_result"
        }
      ],
      "source": [
        "w2v_model.train(corpus_file='oryza_corpus.txt', total_words=w2v_model.corpus_total_words, epochs=1)"
      ]
    },
    {
      "cell_type": "code",
      "execution_count": 42,
      "metadata": {
        "id": "9CRN8xaKIkfH"
      },
      "outputs": [],
      "source": [
        "def circrna_to_vec(circrna_sequence, k=kmer_size):\n",
        "  vec = np.zeros(vector_size)\n",
        "  kmers = circrna_to_kmers(circrna_sequence, k=k)\n",
        "  for kmer in kmers:\n",
        "    if kmer in w2v_model.wv:\n",
        "      vec = vec + w2v_model.wv[kmer]\n",
        "  return vec"
      ]
    },
    {
      "cell_type": "code",
      "execution_count": 43,
      "metadata": {
        "id": "8RPzKxAqI5h9"
      },
      "outputs": [],
      "source": [
        "circ_df = pd.read_excel('rice_db.xlsx')"
      ]
    },
    {
      "cell_type": "code",
      "execution_count": null,
      "metadata": {
        "id": "vN6V6nekI9fi"
      },
      "outputs": [],
      "source": [
        "list = circ_df['seq']\n",
        "\n",
        "columns = [f'wc_4mer_{v+1}' for v in range(vector_size)]\n",
        "\n",
        "df_vecs = pd.DataFrame(columns=columns)\n",
        "\n",
        "for record in list:\n",
        "  df_vecs = df_vecs.append(\n",
        "      [\n",
        "       dict(zip(columns, circrna_to_vec(record)))\n",
        "       ], \n",
        "      ignore_index=True)"
      ]
    },
    {
      "cell_type": "code",
      "execution_count": 45,
      "metadata": {
        "colab": {
          "base_uri": "https://localhost:8080/",
          "height": 386
        },
        "id": "RmxV8RzWJVpE",
        "outputId": "f62f4724-dfde-492a-f546-8bc6f90967d6"
      },
      "outputs": [
        {
          "data": {
            "text/html": [
              "\n",
              "  <div id=\"df-cb67c7fa-c826-4392-b96c-867ae29ea28a\">\n",
              "    <div class=\"colab-df-container\">\n",
              "      <div>\n",
              "<style scoped>\n",
              "    .dataframe tbody tr th:only-of-type {\n",
              "        vertical-align: middle;\n",
              "    }\n",
              "\n",
              "    .dataframe tbody tr th {\n",
              "        vertical-align: top;\n",
              "    }\n",
              "\n",
              "    .dataframe thead th {\n",
              "        text-align: right;\n",
              "    }\n",
              "</style>\n",
              "<table border=\"1\" class=\"dataframe\">\n",
              "  <thead>\n",
              "    <tr style=\"text-align: right;\">\n",
              "      <th></th>\n",
              "      <th>circName</th>\n",
              "      <th>circID</th>\n",
              "      <th>gene</th>\n",
              "      <th>isoform</th>\n",
              "      <th>stress</th>\n",
              "      <th>tissue</th>\n",
              "      <th>chr</th>\n",
              "      <th>start</th>\n",
              "      <th>end</th>\n",
              "      <th>strand</th>\n",
              "      <th>...</th>\n",
              "      <th>wc_4mer_247</th>\n",
              "      <th>wc_4mer_248</th>\n",
              "      <th>wc_4mer_249</th>\n",
              "      <th>wc_4mer_250</th>\n",
              "      <th>wc_4mer_251</th>\n",
              "      <th>wc_4mer_252</th>\n",
              "      <th>wc_4mer_253</th>\n",
              "      <th>wc_4mer_254</th>\n",
              "      <th>wc_4mer_255</th>\n",
              "      <th>wc_4mer_256</th>\n",
              "    </tr>\n",
              "  </thead>\n",
              "  <tbody>\n",
              "    <tr>\n",
              "      <th>0</th>\n",
              "      <td>osa-circ1-OS01T0723400</td>\n",
              "      <td>1:30167620-30167771_+</td>\n",
              "      <td>OS01T0723400</td>\n",
              "      <td>OS01T0723400-01</td>\n",
              "      <td>-</td>\n",
              "      <td>multipleTissue</td>\n",
              "      <td>1</td>\n",
              "      <td>30167620</td>\n",
              "      <td>30167771</td>\n",
              "      <td>+</td>\n",
              "      <td>...</td>\n",
              "      <td>-3.650220</td>\n",
              "      <td>-6.532469</td>\n",
              "      <td>-10.394247</td>\n",
              "      <td>-18.915748</td>\n",
              "      <td>-8.209992</td>\n",
              "      <td>20.900938</td>\n",
              "      <td>10.121081</td>\n",
              "      <td>-8.663392</td>\n",
              "      <td>-3.891558</td>\n",
              "      <td>16.968743</td>\n",
              "    </tr>\n",
              "    <tr>\n",
              "      <th>1</th>\n",
              "      <td>osa-circ2-OS03T0223400</td>\n",
              "      <td>3:6461672-6462146_-</td>\n",
              "      <td>OS03T0223400</td>\n",
              "      <td>OS03T0223400-01</td>\n",
              "      <td>-</td>\n",
              "      <td>multipleTissue</td>\n",
              "      <td>3</td>\n",
              "      <td>6461672</td>\n",
              "      <td>6462146</td>\n",
              "      <td>-</td>\n",
              "      <td>...</td>\n",
              "      <td>65.037102</td>\n",
              "      <td>-54.414726</td>\n",
              "      <td>-7.826274</td>\n",
              "      <td>1.359892</td>\n",
              "      <td>10.894437</td>\n",
              "      <td>115.083468</td>\n",
              "      <td>-11.790173</td>\n",
              "      <td>-90.684992</td>\n",
              "      <td>-113.248148</td>\n",
              "      <td>-76.719906</td>\n",
              "    </tr>\n",
              "    <tr>\n",
              "      <th>2</th>\n",
              "      <td>osa-circ3-OS11T0210300</td>\n",
              "      <td>11:5715883-5716030_-</td>\n",
              "      <td>OS11T0210300</td>\n",
              "      <td>OS11T0210300-02</td>\n",
              "      <td>-</td>\n",
              "      <td>multipleTissue</td>\n",
              "      <td>11</td>\n",
              "      <td>5715883</td>\n",
              "      <td>5716030</td>\n",
              "      <td>-</td>\n",
              "      <td>...</td>\n",
              "      <td>-69.418313</td>\n",
              "      <td>2.976611</td>\n",
              "      <td>-89.222495</td>\n",
              "      <td>-14.065688</td>\n",
              "      <td>-11.113202</td>\n",
              "      <td>13.712974</td>\n",
              "      <td>-9.093328</td>\n",
              "      <td>18.582649</td>\n",
              "      <td>36.676268</td>\n",
              "      <td>28.016192</td>\n",
              "    </tr>\n",
              "    <tr>\n",
              "      <th>3</th>\n",
              "      <td>osa-circ4-OS02T0200900</td>\n",
              "      <td>2:5631023-5631244_-</td>\n",
              "      <td>OS02T0200900</td>\n",
              "      <td>OS02T0200900-02</td>\n",
              "      <td>-</td>\n",
              "      <td>multipleTissue</td>\n",
              "      <td>2</td>\n",
              "      <td>5631023</td>\n",
              "      <td>5631244</td>\n",
              "      <td>-</td>\n",
              "      <td>...</td>\n",
              "      <td>10.868538</td>\n",
              "      <td>-94.599972</td>\n",
              "      <td>4.269204</td>\n",
              "      <td>58.609413</td>\n",
              "      <td>36.129650</td>\n",
              "      <td>66.836573</td>\n",
              "      <td>-36.547408</td>\n",
              "      <td>-34.347736</td>\n",
              "      <td>-103.831539</td>\n",
              "      <td>15.517953</td>\n",
              "    </tr>\n",
              "    <tr>\n",
              "      <th>4</th>\n",
              "      <td>osa-circ5-OS05T0494800</td>\n",
              "      <td>5:24302336-24302448_+</td>\n",
              "      <td>OS05T0494800</td>\n",
              "      <td>OS05T0494800-01</td>\n",
              "      <td>-</td>\n",
              "      <td>multipleTissue</td>\n",
              "      <td>5</td>\n",
              "      <td>24302336</td>\n",
              "      <td>24302448</td>\n",
              "      <td>+</td>\n",
              "      <td>...</td>\n",
              "      <td>-32.298986</td>\n",
              "      <td>75.309151</td>\n",
              "      <td>-70.483905</td>\n",
              "      <td>-60.826504</td>\n",
              "      <td>-24.527909</td>\n",
              "      <td>-15.224254</td>\n",
              "      <td>49.960103</td>\n",
              "      <td>-62.473183</td>\n",
              "      <td>50.843977</td>\n",
              "      <td>62.039499</td>\n",
              "    </tr>\n",
              "  </tbody>\n",
              "</table>\n",
              "<p>5 rows × 278 columns</p>\n",
              "</div>\n",
              "      <button class=\"colab-df-convert\" onclick=\"convertToInteractive('df-cb67c7fa-c826-4392-b96c-867ae29ea28a')\"\n",
              "              title=\"Convert this dataframe to an interactive table.\"\n",
              "              style=\"display:none;\">\n",
              "        \n",
              "  <svg xmlns=\"http://www.w3.org/2000/svg\" height=\"24px\"viewBox=\"0 0 24 24\"\n",
              "       width=\"24px\">\n",
              "    <path d=\"M0 0h24v24H0V0z\" fill=\"none\"/>\n",
              "    <path d=\"M18.56 5.44l.94 2.06.94-2.06 2.06-.94-2.06-.94-.94-2.06-.94 2.06-2.06.94zm-11 1L8.5 8.5l.94-2.06 2.06-.94-2.06-.94L8.5 2.5l-.94 2.06-2.06.94zm10 10l.94 2.06.94-2.06 2.06-.94-2.06-.94-.94-2.06-.94 2.06-2.06.94z\"/><path d=\"M17.41 7.96l-1.37-1.37c-.4-.4-.92-.59-1.43-.59-.52 0-1.04.2-1.43.59L10.3 9.45l-7.72 7.72c-.78.78-.78 2.05 0 2.83L4 21.41c.39.39.9.59 1.41.59.51 0 1.02-.2 1.41-.59l7.78-7.78 2.81-2.81c.8-.78.8-2.07 0-2.86zM5.41 20L4 18.59l7.72-7.72 1.47 1.35L5.41 20z\"/>\n",
              "  </svg>\n",
              "      </button>\n",
              "      \n",
              "  <style>\n",
              "    .colab-df-container {\n",
              "      display:flex;\n",
              "      flex-wrap:wrap;\n",
              "      gap: 12px;\n",
              "    }\n",
              "\n",
              "    .colab-df-convert {\n",
              "      background-color: #E8F0FE;\n",
              "      border: none;\n",
              "      border-radius: 50%;\n",
              "      cursor: pointer;\n",
              "      display: none;\n",
              "      fill: #1967D2;\n",
              "      height: 32px;\n",
              "      padding: 0 0 0 0;\n",
              "      width: 32px;\n",
              "    }\n",
              "\n",
              "    .colab-df-convert:hover {\n",
              "      background-color: #E2EBFA;\n",
              "      box-shadow: 0px 1px 2px rgba(60, 64, 67, 0.3), 0px 1px 3px 1px rgba(60, 64, 67, 0.15);\n",
              "      fill: #174EA6;\n",
              "    }\n",
              "\n",
              "    [theme=dark] .colab-df-convert {\n",
              "      background-color: #3B4455;\n",
              "      fill: #D2E3FC;\n",
              "    }\n",
              "\n",
              "    [theme=dark] .colab-df-convert:hover {\n",
              "      background-color: #434B5C;\n",
              "      box-shadow: 0px 1px 3px 1px rgba(0, 0, 0, 0.15);\n",
              "      filter: drop-shadow(0px 1px 2px rgba(0, 0, 0, 0.3));\n",
              "      fill: #FFFFFF;\n",
              "    }\n",
              "  </style>\n",
              "\n",
              "      <script>\n",
              "        const buttonEl =\n",
              "          document.querySelector('#df-cb67c7fa-c826-4392-b96c-867ae29ea28a button.colab-df-convert');\n",
              "        buttonEl.style.display =\n",
              "          google.colab.kernel.accessAllowed ? 'block' : 'none';\n",
              "\n",
              "        async function convertToInteractive(key) {\n",
              "          const element = document.querySelector('#df-cb67c7fa-c826-4392-b96c-867ae29ea28a');\n",
              "          const dataTable =\n",
              "            await google.colab.kernel.invokeFunction('convertToInteractive',\n",
              "                                                     [key], {});\n",
              "          if (!dataTable) return;\n",
              "\n",
              "          const docLinkHtml = 'Like what you see? Visit the ' +\n",
              "            '<a target=\"_blank\" href=https://colab.research.google.com/notebooks/data_table.ipynb>data table notebook</a>'\n",
              "            + ' to learn more about interactive tables.';\n",
              "          element.innerHTML = '';\n",
              "          dataTable['output_type'] = 'display_data';\n",
              "          await google.colab.output.renderOutput(dataTable, element);\n",
              "          const docLink = document.createElement('div');\n",
              "          docLink.innerHTML = docLinkHtml;\n",
              "          element.appendChild(docLink);\n",
              "        }\n",
              "      </script>\n",
              "    </div>\n",
              "  </div>\n",
              "  "
            ],
            "text/plain": [
              "                 circName                 circID          gene  \\\n",
              "0  osa-circ1-OS01T0723400  1:30167620-30167771_+  OS01T0723400   \n",
              "1  osa-circ2-OS03T0223400    3:6461672-6462146_-  OS03T0223400   \n",
              "2  osa-circ3-OS11T0210300   11:5715883-5716030_-  OS11T0210300   \n",
              "3  osa-circ4-OS02T0200900    2:5631023-5631244_-  OS02T0200900   \n",
              "4  osa-circ5-OS05T0494800  5:24302336-24302448_+  OS05T0494800   \n",
              "\n",
              "           isoform stress          tissue  chr     start       end strand  \\\n",
              "0  OS01T0723400-01      -  multipleTissue    1  30167620  30167771      +   \n",
              "1  OS03T0223400-01      -  multipleTissue    3   6461672   6462146      -   \n",
              "2  OS11T0210300-02      -  multipleTissue   11   5715883   5716030      -   \n",
              "3  OS02T0200900-02      -  multipleTissue    2   5631023   5631244      -   \n",
              "4  OS05T0494800-01      -  multipleTissue    5  24302336  24302448      +   \n",
              "\n",
              "   ...  wc_4mer_247  wc_4mer_248 wc_4mer_249 wc_4mer_250 wc_4mer_251  \\\n",
              "0  ...    -3.650220    -6.532469  -10.394247  -18.915748   -8.209992   \n",
              "1  ...    65.037102   -54.414726   -7.826274    1.359892   10.894437   \n",
              "2  ...   -69.418313     2.976611  -89.222495  -14.065688  -11.113202   \n",
              "3  ...    10.868538   -94.599972    4.269204   58.609413   36.129650   \n",
              "4  ...   -32.298986    75.309151  -70.483905  -60.826504  -24.527909   \n",
              "\n",
              "  wc_4mer_252 wc_4mer_253 wc_4mer_254 wc_4mer_255 wc_4mer_256  \n",
              "0   20.900938   10.121081   -8.663392   -3.891558   16.968743  \n",
              "1  115.083468  -11.790173  -90.684992 -113.248148  -76.719906  \n",
              "2   13.712974   -9.093328   18.582649   36.676268   28.016192  \n",
              "3   66.836573  -36.547408  -34.347736 -103.831539   15.517953  \n",
              "4  -15.224254   49.960103  -62.473183   50.843977   62.039499  \n",
              "\n",
              "[5 rows x 278 columns]"
            ]
          },
          "execution_count": 45,
          "metadata": {},
          "output_type": "execute_result"
        }
      ],
      "source": [
        "new_df = pd.concat([circ_df, df_vecs], axis=1)\n",
        "\n",
        "new_df.head()"
      ]
    },
    {
      "cell_type": "code",
      "execution_count": 46,
      "metadata": {
        "id": "kGCg8lr5LYtO"
      },
      "outputs": [],
      "source": [
        "new_df.to_excel('rice_word2vec_4mer_dataset.xlsx', index=False)"
      ]
    }
  ],
  "metadata": {
    "colab": {
      "provenance": []
    },
    "kernelspec": {
      "display_name": "Python 3",
      "name": "python3"
    },
    "language_info": {
      "name": "python"
    }
  },
  "nbformat": 4,
  "nbformat_minor": 0
}
