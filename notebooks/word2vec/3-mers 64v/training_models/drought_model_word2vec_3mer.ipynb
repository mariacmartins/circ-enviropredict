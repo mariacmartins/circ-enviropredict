{
  "nbformat": 4,
  "nbformat_minor": 0,
  "metadata": {
    "colab": {
      "provenance": []
    },
    "kernelspec": {
      "name": "python3",
      "display_name": "Python 3"
    },
    "language_info": {
      "name": "python"
    }
  },
  "cells": [
    {
      "cell_type": "code",
      "source": [
        "!pip install scikit-learn==1.3.2"
      ],
      "metadata": {
        "colab": {
          "base_uri": "https://localhost:8080/"
        },
        "collapsed": true,
        "id": "pQoO9biMSJWn",
        "outputId": "f67dec48-35e1-4719-a357-71b644895412"
      },
      "execution_count": 1,
      "outputs": [
        {
          "output_type": "stream",
          "name": "stdout",
          "text": [
            "Collecting scikit-learn==1.3.2\n",
            "  Downloading scikit_learn-1.3.2-cp310-cp310-manylinux_2_17_x86_64.manylinux2014_x86_64.whl.metadata (11 kB)\n",
            "Requirement already satisfied: numpy<2.0,>=1.17.3 in /usr/local/lib/python3.10/dist-packages (from scikit-learn==1.3.2) (1.26.4)\n",
            "Requirement already satisfied: scipy>=1.5.0 in /usr/local/lib/python3.10/dist-packages (from scikit-learn==1.3.2) (1.13.1)\n",
            "Requirement already satisfied: joblib>=1.1.1 in /usr/local/lib/python3.10/dist-packages (from scikit-learn==1.3.2) (1.4.2)\n",
            "Requirement already satisfied: threadpoolctl>=2.0.0 in /usr/local/lib/python3.10/dist-packages (from scikit-learn==1.3.2) (3.5.0)\n",
            "Downloading scikit_learn-1.3.2-cp310-cp310-manylinux_2_17_x86_64.manylinux2014_x86_64.whl (10.8 MB)\n",
            "\u001b[2K   \u001b[90m━━━━━━━━━━━━━━━━━━━━━━━━━━━━━━━━━━━━━━━━\u001b[0m \u001b[32m10.8/10.8 MB\u001b[0m \u001b[31m25.9 MB/s\u001b[0m eta \u001b[36m0:00:00\u001b[0m\n",
            "\u001b[?25hInstalling collected packages: scikit-learn\n",
            "  Attempting uninstall: scikit-learn\n",
            "    Found existing installation: scikit-learn 1.5.2\n",
            "    Uninstalling scikit-learn-1.5.2:\n",
            "      Successfully uninstalled scikit-learn-1.5.2\n",
            "Successfully installed scikit-learn-1.3.2\n"
          ]
        }
      ]
    },
    {
      "cell_type": "code",
      "source": [
        "!pip install lazypredict"
      ],
      "metadata": {
        "colab": {
          "base_uri": "https://localhost:8080/"
        },
        "collapsed": true,
        "id": "4MImigi_zTO4",
        "outputId": "e03274a9-704e-4def-831e-d89fdca9345e"
      },
      "execution_count": 2,
      "outputs": [
        {
          "output_type": "stream",
          "name": "stdout",
          "text": [
            "Collecting lazypredict\n",
            "  Downloading lazypredict-0.2.12-py2.py3-none-any.whl.metadata (12 kB)\n",
            "Requirement already satisfied: click in /usr/local/lib/python3.10/dist-packages (from lazypredict) (8.1.7)\n",
            "Requirement already satisfied: scikit-learn in /usr/local/lib/python3.10/dist-packages (from lazypredict) (1.3.2)\n",
            "Requirement already satisfied: pandas in /usr/local/lib/python3.10/dist-packages (from lazypredict) (2.2.2)\n",
            "Requirement already satisfied: tqdm in /usr/local/lib/python3.10/dist-packages (from lazypredict) (4.66.5)\n",
            "Requirement already satisfied: joblib in /usr/local/lib/python3.10/dist-packages (from lazypredict) (1.4.2)\n",
            "Requirement already satisfied: lightgbm in /usr/local/lib/python3.10/dist-packages (from lazypredict) (4.5.0)\n",
            "Requirement already satisfied: xgboost in /usr/local/lib/python3.10/dist-packages (from lazypredict) (2.1.1)\n",
            "Requirement already satisfied: numpy>=1.17.0 in /usr/local/lib/python3.10/dist-packages (from lightgbm->lazypredict) (1.26.4)\n",
            "Requirement already satisfied: scipy in /usr/local/lib/python3.10/dist-packages (from lightgbm->lazypredict) (1.13.1)\n",
            "Requirement already satisfied: python-dateutil>=2.8.2 in /usr/local/lib/python3.10/dist-packages (from pandas->lazypredict) (2.8.2)\n",
            "Requirement already satisfied: pytz>=2020.1 in /usr/local/lib/python3.10/dist-packages (from pandas->lazypredict) (2024.2)\n",
            "Requirement already satisfied: tzdata>=2022.7 in /usr/local/lib/python3.10/dist-packages (from pandas->lazypredict) (2024.2)\n",
            "Requirement already satisfied: threadpoolctl>=2.0.0 in /usr/local/lib/python3.10/dist-packages (from scikit-learn->lazypredict) (3.5.0)\n",
            "Requirement already satisfied: nvidia-nccl-cu12 in /usr/local/lib/python3.10/dist-packages (from xgboost->lazypredict) (2.23.4)\n",
            "Requirement already satisfied: six>=1.5 in /usr/local/lib/python3.10/dist-packages (from python-dateutil>=2.8.2->pandas->lazypredict) (1.16.0)\n",
            "Downloading lazypredict-0.2.12-py2.py3-none-any.whl (12 kB)\n",
            "Installing collected packages: lazypredict\n",
            "Successfully installed lazypredict-0.2.12\n"
          ]
        }
      ]
    },
    {
      "cell_type": "code",
      "source": [
        "import pandas as pd\n",
        "from imblearn.under_sampling import RandomUnderSampler\n",
        "from imblearn.over_sampling import RandomOverSampler\n",
        "\n",
        "import lightgbm as lgb\n",
        "from joblib import dump\n",
        "import itertools\n",
        "import matplotlib.pyplot as plt\n",
        "import numpy as np\n",
        "from lazypredict.Supervised import LazyClassifier\n",
        "from sklearn.model_selection import train_test_split, cross_val_score\n",
        "from sklearn.metrics import confusion_matrix, classification_report, roc_auc_score, accuracy_score, precision_score, recall_score, f1_score"
      ],
      "metadata": {
        "colab": {
          "base_uri": "https://localhost:8080/"
        },
        "collapsed": true,
        "id": "4amZwp5jREEs",
        "outputId": "169963c2-2dc4-4997-9d0d-d05ce738bee8"
      },
      "execution_count": 3,
      "outputs": [
        {
          "output_type": "stream",
          "name": "stderr",
          "text": [
            "/usr/local/lib/python3.10/dist-packages/dask/dataframe/__init__.py:42: FutureWarning: \n",
            "Dask dataframe query planning is disabled because dask-expr is not installed.\n",
            "\n",
            "You can install it with `pip install dask[dataframe]` or `conda install dask`.\n",
            "This will raise in a future version.\n",
            "\n",
            "  warnings.warn(msg, FutureWarning)\n"
          ]
        }
      ]
    },
    {
      "cell_type": "code",
      "source": [
        "rice_df = pd.read_excel('/content/rice_w2vec_3mer_dataset.xlsx')\n",
        "rice_df = rice_df.drop(['circName','tissue','chr','start','end','strand','start_anno', 'circID',\t'gene', 'isoform', 'width', 'detection_score', 'stress_detection_score', 'end_anno', 'antisense', 'algorithm', 'seq', 'exonSeq', 'predAA', 'miRNA','superCircRNARegion'], axis=1)"
      ],
      "metadata": {
        "id": "aUHp8UQQRG5G"
      },
      "execution_count": 5,
      "outputs": []
    },
    {
      "cell_type": "code",
      "source": [
        "maize_df = pd.read_excel('maize_w2vec_3mer_dataset.xlsx')\n",
        "maize_df = maize_df.drop(['circName','tissue','chr','start','end','strand','start_anno', 'circID',\t'gene', 'isoform', 'width', 'detection_score', 'stress_detection_score', 'end_anno', 'antisense', 'algorithm', 'seq', 'exonSeq', 'predAA', 'miRNA','superCircRNARegion'], axis=1)"
      ],
      "metadata": {
        "id": "fuFiTwbQRJp5"
      },
      "execution_count": 4,
      "outputs": []
    },
    {
      "cell_type": "code",
      "source": [
        "df = rice_df._append(maize_df, ignore_index = True)"
      ],
      "metadata": {
        "id": "Zyoh7UDURTZn"
      },
      "execution_count": 6,
      "outputs": []
    },
    {
      "cell_type": "code",
      "source": [
        "df_drought = df.query('stress == \"-\" or stress == \"drought\"').replace('-', 0).replace('drought', 1)"
      ],
      "metadata": {
        "id": "kA1F3SLERJ26"
      },
      "execution_count": 7,
      "outputs": []
    },
    {
      "cell_type": "markdown",
      "source": [
        "### Training and Testing Models"
      ],
      "metadata": {
        "id": "aBd2ivQ4gHOO"
      }
    },
    {
      "cell_type": "code",
      "source": [
        "# Define X and y (target) variables\n",
        "X = df_drought.drop(['stress'], axis=1)\n",
        "y = df_drought['stress']"
      ],
      "metadata": {
        "id": "3ZELGM8nSgZ-"
      },
      "execution_count": 33,
      "outputs": []
    },
    {
      "cell_type": "code",
      "source": [
        "X.head(2)"
      ],
      "metadata": {
        "colab": {
          "base_uri": "https://localhost:8080/",
          "height": 161
        },
        "id": "PGSRlHtp3gF2",
        "outputId": "328e0e62-04db-4bb9-811d-3b133739cf9b"
      },
      "execution_count": 34,
      "outputs": [
        {
          "output_type": "execute_result",
          "data": {
            "text/plain": [
              "   wc_3mer_1  wc_3mer_2  wc_3mer_3  wc_3mer_4  wc_3mer_5  wc_3mer_6  \\\n",
              "0      -8.66     -17.17     -20.12      10.61      -0.19       1.57   \n",
              "1      -4.62     -42.06     -73.49     -51.22      83.97     -47.22   \n",
              "\n",
              "   wc_3mer_7  wc_3mer_8  wc_3mer_9  wc_3mer_10  ...  wc_3mer_55  wc_3mer_56  \\\n",
              "0       3.90       7.62      -2.83       13.90  ...      -21.98      -12.45   \n",
              "1     -20.22      29.19     -17.14       37.22  ...       24.44      -68.49   \n",
              "\n",
              "   wc_3mer_57  wc_3mer_58  wc_3mer_59  wc_3mer_60  wc_3mer_61  wc_3mer_62  \\\n",
              "0       -8.38       -9.52       28.57        7.25      -18.07       -6.67   \n",
              "1       20.16       14.18       81.44       -4.52       21.87      -10.53   \n",
              "\n",
              "   wc_3mer_63  wc_3mer_64  \n",
              "0       -3.78        1.30  \n",
              "1      -39.17       63.34  \n",
              "\n",
              "[2 rows x 64 columns]"
            ],
            "text/html": [
              "\n",
              "  <div id=\"df-61817d5c-e51d-43ed-889e-e76cc9333660\" class=\"colab-df-container\">\n",
              "    <div>\n",
              "<style scoped>\n",
              "    .dataframe tbody tr th:only-of-type {\n",
              "        vertical-align: middle;\n",
              "    }\n",
              "\n",
              "    .dataframe tbody tr th {\n",
              "        vertical-align: top;\n",
              "    }\n",
              "\n",
              "    .dataframe thead th {\n",
              "        text-align: right;\n",
              "    }\n",
              "</style>\n",
              "<table border=\"1\" class=\"dataframe\">\n",
              "  <thead>\n",
              "    <tr style=\"text-align: right;\">\n",
              "      <th></th>\n",
              "      <th>wc_3mer_1</th>\n",
              "      <th>wc_3mer_2</th>\n",
              "      <th>wc_3mer_3</th>\n",
              "      <th>wc_3mer_4</th>\n",
              "      <th>wc_3mer_5</th>\n",
              "      <th>wc_3mer_6</th>\n",
              "      <th>wc_3mer_7</th>\n",
              "      <th>wc_3mer_8</th>\n",
              "      <th>wc_3mer_9</th>\n",
              "      <th>wc_3mer_10</th>\n",
              "      <th>...</th>\n",
              "      <th>wc_3mer_55</th>\n",
              "      <th>wc_3mer_56</th>\n",
              "      <th>wc_3mer_57</th>\n",
              "      <th>wc_3mer_58</th>\n",
              "      <th>wc_3mer_59</th>\n",
              "      <th>wc_3mer_60</th>\n",
              "      <th>wc_3mer_61</th>\n",
              "      <th>wc_3mer_62</th>\n",
              "      <th>wc_3mer_63</th>\n",
              "      <th>wc_3mer_64</th>\n",
              "    </tr>\n",
              "  </thead>\n",
              "  <tbody>\n",
              "    <tr>\n",
              "      <th>0</th>\n",
              "      <td>-8.66</td>\n",
              "      <td>-17.17</td>\n",
              "      <td>-20.12</td>\n",
              "      <td>10.61</td>\n",
              "      <td>-0.19</td>\n",
              "      <td>1.57</td>\n",
              "      <td>3.90</td>\n",
              "      <td>7.62</td>\n",
              "      <td>-2.83</td>\n",
              "      <td>13.90</td>\n",
              "      <td>...</td>\n",
              "      <td>-21.98</td>\n",
              "      <td>-12.45</td>\n",
              "      <td>-8.38</td>\n",
              "      <td>-9.52</td>\n",
              "      <td>28.57</td>\n",
              "      <td>7.25</td>\n",
              "      <td>-18.07</td>\n",
              "      <td>-6.67</td>\n",
              "      <td>-3.78</td>\n",
              "      <td>1.30</td>\n",
              "    </tr>\n",
              "    <tr>\n",
              "      <th>1</th>\n",
              "      <td>-4.62</td>\n",
              "      <td>-42.06</td>\n",
              "      <td>-73.49</td>\n",
              "      <td>-51.22</td>\n",
              "      <td>83.97</td>\n",
              "      <td>-47.22</td>\n",
              "      <td>-20.22</td>\n",
              "      <td>29.19</td>\n",
              "      <td>-17.14</td>\n",
              "      <td>37.22</td>\n",
              "      <td>...</td>\n",
              "      <td>24.44</td>\n",
              "      <td>-68.49</td>\n",
              "      <td>20.16</td>\n",
              "      <td>14.18</td>\n",
              "      <td>81.44</td>\n",
              "      <td>-4.52</td>\n",
              "      <td>21.87</td>\n",
              "      <td>-10.53</td>\n",
              "      <td>-39.17</td>\n",
              "      <td>63.34</td>\n",
              "    </tr>\n",
              "  </tbody>\n",
              "</table>\n",
              "<p>2 rows × 64 columns</p>\n",
              "</div>\n",
              "    <div class=\"colab-df-buttons\">\n",
              "\n",
              "  <div class=\"colab-df-container\">\n",
              "    <button class=\"colab-df-convert\" onclick=\"convertToInteractive('df-61817d5c-e51d-43ed-889e-e76cc9333660')\"\n",
              "            title=\"Convert this dataframe to an interactive table.\"\n",
              "            style=\"display:none;\">\n",
              "\n",
              "  <svg xmlns=\"http://www.w3.org/2000/svg\" height=\"24px\" viewBox=\"0 -960 960 960\">\n",
              "    <path d=\"M120-120v-720h720v720H120Zm60-500h600v-160H180v160Zm220 220h160v-160H400v160Zm0 220h160v-160H400v160ZM180-400h160v-160H180v160Zm440 0h160v-160H620v160ZM180-180h160v-160H180v160Zm440 0h160v-160H620v160Z\"/>\n",
              "  </svg>\n",
              "    </button>\n",
              "\n",
              "  <style>\n",
              "    .colab-df-container {\n",
              "      display:flex;\n",
              "      gap: 12px;\n",
              "    }\n",
              "\n",
              "    .colab-df-convert {\n",
              "      background-color: #E8F0FE;\n",
              "      border: none;\n",
              "      border-radius: 50%;\n",
              "      cursor: pointer;\n",
              "      display: none;\n",
              "      fill: #1967D2;\n",
              "      height: 32px;\n",
              "      padding: 0 0 0 0;\n",
              "      width: 32px;\n",
              "    }\n",
              "\n",
              "    .colab-df-convert:hover {\n",
              "      background-color: #E2EBFA;\n",
              "      box-shadow: 0px 1px 2px rgba(60, 64, 67, 0.3), 0px 1px 3px 1px rgba(60, 64, 67, 0.15);\n",
              "      fill: #174EA6;\n",
              "    }\n",
              "\n",
              "    .colab-df-buttons div {\n",
              "      margin-bottom: 4px;\n",
              "    }\n",
              "\n",
              "    [theme=dark] .colab-df-convert {\n",
              "      background-color: #3B4455;\n",
              "      fill: #D2E3FC;\n",
              "    }\n",
              "\n",
              "    [theme=dark] .colab-df-convert:hover {\n",
              "      background-color: #434B5C;\n",
              "      box-shadow: 0px 1px 3px 1px rgba(0, 0, 0, 0.15);\n",
              "      filter: drop-shadow(0px 1px 2px rgba(0, 0, 0, 0.3));\n",
              "      fill: #FFFFFF;\n",
              "    }\n",
              "  </style>\n",
              "\n",
              "    <script>\n",
              "      const buttonEl =\n",
              "        document.querySelector('#df-61817d5c-e51d-43ed-889e-e76cc9333660 button.colab-df-convert');\n",
              "      buttonEl.style.display =\n",
              "        google.colab.kernel.accessAllowed ? 'block' : 'none';\n",
              "\n",
              "      async function convertToInteractive(key) {\n",
              "        const element = document.querySelector('#df-61817d5c-e51d-43ed-889e-e76cc9333660');\n",
              "        const dataTable =\n",
              "          await google.colab.kernel.invokeFunction('convertToInteractive',\n",
              "                                                    [key], {});\n",
              "        if (!dataTable) return;\n",
              "\n",
              "        const docLinkHtml = 'Like what you see? Visit the ' +\n",
              "          '<a target=\"_blank\" href=https://colab.research.google.com/notebooks/data_table.ipynb>data table notebook</a>'\n",
              "          + ' to learn more about interactive tables.';\n",
              "        element.innerHTML = '';\n",
              "        dataTable['output_type'] = 'display_data';\n",
              "        await google.colab.output.renderOutput(dataTable, element);\n",
              "        const docLink = document.createElement('div');\n",
              "        docLink.innerHTML = docLinkHtml;\n",
              "        element.appendChild(docLink);\n",
              "      }\n",
              "    </script>\n",
              "  </div>\n",
              "\n",
              "\n",
              "<div id=\"df-9918c958-1c30-4ed5-a96a-8cf04471cffa\">\n",
              "  <button class=\"colab-df-quickchart\" onclick=\"quickchart('df-9918c958-1c30-4ed5-a96a-8cf04471cffa')\"\n",
              "            title=\"Suggest charts\"\n",
              "            style=\"display:none;\">\n",
              "\n",
              "<svg xmlns=\"http://www.w3.org/2000/svg\" height=\"24px\"viewBox=\"0 0 24 24\"\n",
              "     width=\"24px\">\n",
              "    <g>\n",
              "        <path d=\"M19 3H5c-1.1 0-2 .9-2 2v14c0 1.1.9 2 2 2h14c1.1 0 2-.9 2-2V5c0-1.1-.9-2-2-2zM9 17H7v-7h2v7zm4 0h-2V7h2v10zm4 0h-2v-4h2v4z\"/>\n",
              "    </g>\n",
              "</svg>\n",
              "  </button>\n",
              "\n",
              "<style>\n",
              "  .colab-df-quickchart {\n",
              "      --bg-color: #E8F0FE;\n",
              "      --fill-color: #1967D2;\n",
              "      --hover-bg-color: #E2EBFA;\n",
              "      --hover-fill-color: #174EA6;\n",
              "      --disabled-fill-color: #AAA;\n",
              "      --disabled-bg-color: #DDD;\n",
              "  }\n",
              "\n",
              "  [theme=dark] .colab-df-quickchart {\n",
              "      --bg-color: #3B4455;\n",
              "      --fill-color: #D2E3FC;\n",
              "      --hover-bg-color: #434B5C;\n",
              "      --hover-fill-color: #FFFFFF;\n",
              "      --disabled-bg-color: #3B4455;\n",
              "      --disabled-fill-color: #666;\n",
              "  }\n",
              "\n",
              "  .colab-df-quickchart {\n",
              "    background-color: var(--bg-color);\n",
              "    border: none;\n",
              "    border-radius: 50%;\n",
              "    cursor: pointer;\n",
              "    display: none;\n",
              "    fill: var(--fill-color);\n",
              "    height: 32px;\n",
              "    padding: 0;\n",
              "    width: 32px;\n",
              "  }\n",
              "\n",
              "  .colab-df-quickchart:hover {\n",
              "    background-color: var(--hover-bg-color);\n",
              "    box-shadow: 0 1px 2px rgba(60, 64, 67, 0.3), 0 1px 3px 1px rgba(60, 64, 67, 0.15);\n",
              "    fill: var(--button-hover-fill-color);\n",
              "  }\n",
              "\n",
              "  .colab-df-quickchart-complete:disabled,\n",
              "  .colab-df-quickchart-complete:disabled:hover {\n",
              "    background-color: var(--disabled-bg-color);\n",
              "    fill: var(--disabled-fill-color);\n",
              "    box-shadow: none;\n",
              "  }\n",
              "\n",
              "  .colab-df-spinner {\n",
              "    border: 2px solid var(--fill-color);\n",
              "    border-color: transparent;\n",
              "    border-bottom-color: var(--fill-color);\n",
              "    animation:\n",
              "      spin 1s steps(1) infinite;\n",
              "  }\n",
              "\n",
              "  @keyframes spin {\n",
              "    0% {\n",
              "      border-color: transparent;\n",
              "      border-bottom-color: var(--fill-color);\n",
              "      border-left-color: var(--fill-color);\n",
              "    }\n",
              "    20% {\n",
              "      border-color: transparent;\n",
              "      border-left-color: var(--fill-color);\n",
              "      border-top-color: var(--fill-color);\n",
              "    }\n",
              "    30% {\n",
              "      border-color: transparent;\n",
              "      border-left-color: var(--fill-color);\n",
              "      border-top-color: var(--fill-color);\n",
              "      border-right-color: var(--fill-color);\n",
              "    }\n",
              "    40% {\n",
              "      border-color: transparent;\n",
              "      border-right-color: var(--fill-color);\n",
              "      border-top-color: var(--fill-color);\n",
              "    }\n",
              "    60% {\n",
              "      border-color: transparent;\n",
              "      border-right-color: var(--fill-color);\n",
              "    }\n",
              "    80% {\n",
              "      border-color: transparent;\n",
              "      border-right-color: var(--fill-color);\n",
              "      border-bottom-color: var(--fill-color);\n",
              "    }\n",
              "    90% {\n",
              "      border-color: transparent;\n",
              "      border-bottom-color: var(--fill-color);\n",
              "    }\n",
              "  }\n",
              "</style>\n",
              "\n",
              "  <script>\n",
              "    async function quickchart(key) {\n",
              "      const quickchartButtonEl =\n",
              "        document.querySelector('#' + key + ' button');\n",
              "      quickchartButtonEl.disabled = true;  // To prevent multiple clicks.\n",
              "      quickchartButtonEl.classList.add('colab-df-spinner');\n",
              "      try {\n",
              "        const charts = await google.colab.kernel.invokeFunction(\n",
              "            'suggestCharts', [key], {});\n",
              "      } catch (error) {\n",
              "        console.error('Error during call to suggestCharts:', error);\n",
              "      }\n",
              "      quickchartButtonEl.classList.remove('colab-df-spinner');\n",
              "      quickchartButtonEl.classList.add('colab-df-quickchart-complete');\n",
              "    }\n",
              "    (() => {\n",
              "      let quickchartButtonEl =\n",
              "        document.querySelector('#df-9918c958-1c30-4ed5-a96a-8cf04471cffa button');\n",
              "      quickchartButtonEl.style.display =\n",
              "        google.colab.kernel.accessAllowed ? 'block' : 'none';\n",
              "    })();\n",
              "  </script>\n",
              "</div>\n",
              "\n",
              "    </div>\n",
              "  </div>\n"
            ],
            "application/vnd.google.colaboratory.intrinsic+json": {
              "type": "dataframe",
              "variable_name": "X"
            }
          },
          "metadata": {},
          "execution_count": 34
        }
      ]
    },
    {
      "cell_type": "code",
      "source": [
        "y.value_counts()"
      ],
      "metadata": {
        "colab": {
          "base_uri": "https://localhost:8080/",
          "height": 178
        },
        "id": "kjidtBXc3taU",
        "outputId": "a4e631c3-4a53-402a-c190-c8134fa4efc0"
      },
      "execution_count": 35,
      "outputs": [
        {
          "output_type": "execute_result",
          "data": {
            "text/plain": [
              "stress\n",
              "0    70996\n",
              "1    12030\n",
              "Name: count, dtype: int64"
            ],
            "text/html": [
              "<div>\n",
              "<style scoped>\n",
              "    .dataframe tbody tr th:only-of-type {\n",
              "        vertical-align: middle;\n",
              "    }\n",
              "\n",
              "    .dataframe tbody tr th {\n",
              "        vertical-align: top;\n",
              "    }\n",
              "\n",
              "    .dataframe thead th {\n",
              "        text-align: right;\n",
              "    }\n",
              "</style>\n",
              "<table border=\"1\" class=\"dataframe\">\n",
              "  <thead>\n",
              "    <tr style=\"text-align: right;\">\n",
              "      <th></th>\n",
              "      <th>count</th>\n",
              "    </tr>\n",
              "    <tr>\n",
              "      <th>stress</th>\n",
              "      <th></th>\n",
              "    </tr>\n",
              "  </thead>\n",
              "  <tbody>\n",
              "    <tr>\n",
              "      <th>0</th>\n",
              "      <td>70996</td>\n",
              "    </tr>\n",
              "    <tr>\n",
              "      <th>1</th>\n",
              "      <td>12030</td>\n",
              "    </tr>\n",
              "  </tbody>\n",
              "</table>\n",
              "</div><br><label><b>dtype:</b> int64</label>"
            ]
          },
          "metadata": {},
          "execution_count": 35
        }
      ]
    },
    {
      "cell_type": "code",
      "source": [
        "ros = RandomUnderSampler(sampling_strategy=0.55)\n",
        "\n",
        "X_res, y_res = ros.fit_resample(X, y)"
      ],
      "metadata": {
        "id": "8yuxT9_emYh7"
      },
      "execution_count": 36,
      "outputs": []
    },
    {
      "cell_type": "code",
      "source": [
        "y_res.value_counts()"
      ],
      "metadata": {
        "colab": {
          "base_uri": "https://localhost:8080/",
          "height": 178
        },
        "id": "ROOwyliJmcKj",
        "outputId": "4764f975-a12d-43ea-af35-dad33bbbeffc"
      },
      "execution_count": 37,
      "outputs": [
        {
          "output_type": "execute_result",
          "data": {
            "text/plain": [
              "stress\n",
              "0    21872\n",
              "1    12030\n",
              "Name: count, dtype: int64"
            ],
            "text/html": [
              "<div>\n",
              "<style scoped>\n",
              "    .dataframe tbody tr th:only-of-type {\n",
              "        vertical-align: middle;\n",
              "    }\n",
              "\n",
              "    .dataframe tbody tr th {\n",
              "        vertical-align: top;\n",
              "    }\n",
              "\n",
              "    .dataframe thead th {\n",
              "        text-align: right;\n",
              "    }\n",
              "</style>\n",
              "<table border=\"1\" class=\"dataframe\">\n",
              "  <thead>\n",
              "    <tr style=\"text-align: right;\">\n",
              "      <th></th>\n",
              "      <th>count</th>\n",
              "    </tr>\n",
              "    <tr>\n",
              "      <th>stress</th>\n",
              "      <th></th>\n",
              "    </tr>\n",
              "  </thead>\n",
              "  <tbody>\n",
              "    <tr>\n",
              "      <th>0</th>\n",
              "      <td>21872</td>\n",
              "    </tr>\n",
              "    <tr>\n",
              "      <th>1</th>\n",
              "      <td>12030</td>\n",
              "    </tr>\n",
              "  </tbody>\n",
              "</table>\n",
              "</div><br><label><b>dtype:</b> int64</label>"
            ]
          },
          "metadata": {},
          "execution_count": 37
        }
      ]
    },
    {
      "cell_type": "code",
      "source": [
        "X_train, X_test, y_train, y_test = train_test_split(X_res, y_res, test_size=0.20, random_state=106)"
      ],
      "metadata": {
        "id": "quA4jsFz3fbk"
      },
      "execution_count": 38,
      "outputs": []
    },
    {
      "cell_type": "code",
      "source": [
        "y_test.value_counts()"
      ],
      "metadata": {
        "colab": {
          "base_uri": "https://localhost:8080/",
          "height": 178
        },
        "id": "kQpRv5stkewR",
        "outputId": "ba27a106-0c26-4eb6-d42f-2fbc66054ecb"
      },
      "execution_count": 39,
      "outputs": [
        {
          "output_type": "execute_result",
          "data": {
            "text/plain": [
              "stress\n",
              "0    4429\n",
              "1    2352\n",
              "Name: count, dtype: int64"
            ],
            "text/html": [
              "<div>\n",
              "<style scoped>\n",
              "    .dataframe tbody tr th:only-of-type {\n",
              "        vertical-align: middle;\n",
              "    }\n",
              "\n",
              "    .dataframe tbody tr th {\n",
              "        vertical-align: top;\n",
              "    }\n",
              "\n",
              "    .dataframe thead th {\n",
              "        text-align: right;\n",
              "    }\n",
              "</style>\n",
              "<table border=\"1\" class=\"dataframe\">\n",
              "  <thead>\n",
              "    <tr style=\"text-align: right;\">\n",
              "      <th></th>\n",
              "      <th>count</th>\n",
              "    </tr>\n",
              "    <tr>\n",
              "      <th>stress</th>\n",
              "      <th></th>\n",
              "    </tr>\n",
              "  </thead>\n",
              "  <tbody>\n",
              "    <tr>\n",
              "      <th>0</th>\n",
              "      <td>4429</td>\n",
              "    </tr>\n",
              "    <tr>\n",
              "      <th>1</th>\n",
              "      <td>2352</td>\n",
              "    </tr>\n",
              "  </tbody>\n",
              "</table>\n",
              "</div><br><label><b>dtype:</b> int64</label>"
            ]
          },
          "metadata": {},
          "execution_count": 39
        }
      ]
    },
    {
      "cell_type": "code",
      "source": [
        "rus = RandomUnderSampler(sampling_strategy=1)\n",
        "\n",
        "X_test, y_test = rus.fit_resample(X_test, y_test)\n",
        "y_test.value_counts()"
      ],
      "metadata": {
        "colab": {
          "base_uri": "https://localhost:8080/",
          "height": 178
        },
        "id": "lTpVo5eolSoI",
        "outputId": "4491bbad-2a61-479d-8a71-c2f0a3068f64"
      },
      "execution_count": 40,
      "outputs": [
        {
          "output_type": "execute_result",
          "data": {
            "text/plain": [
              "stress\n",
              "0    2352\n",
              "1    2352\n",
              "Name: count, dtype: int64"
            ],
            "text/html": [
              "<div>\n",
              "<style scoped>\n",
              "    .dataframe tbody tr th:only-of-type {\n",
              "        vertical-align: middle;\n",
              "    }\n",
              "\n",
              "    .dataframe tbody tr th {\n",
              "        vertical-align: top;\n",
              "    }\n",
              "\n",
              "    .dataframe thead th {\n",
              "        text-align: right;\n",
              "    }\n",
              "</style>\n",
              "<table border=\"1\" class=\"dataframe\">\n",
              "  <thead>\n",
              "    <tr style=\"text-align: right;\">\n",
              "      <th></th>\n",
              "      <th>count</th>\n",
              "    </tr>\n",
              "    <tr>\n",
              "      <th>stress</th>\n",
              "      <th></th>\n",
              "    </tr>\n",
              "  </thead>\n",
              "  <tbody>\n",
              "    <tr>\n",
              "      <th>0</th>\n",
              "      <td>2352</td>\n",
              "    </tr>\n",
              "    <tr>\n",
              "      <th>1</th>\n",
              "      <td>2352</td>\n",
              "    </tr>\n",
              "  </tbody>\n",
              "</table>\n",
              "</div><br><label><b>dtype:</b> int64</label>"
            ]
          },
          "metadata": {},
          "execution_count": 40
        }
      ]
    },
    {
      "cell_type": "code",
      "source": [
        "ros = RandomOverSampler(sampling_strategy=1)\n",
        "\n",
        "X_train, y_train = ros.fit_resample(X_train, y_train)"
      ],
      "metadata": {
        "id": "OJmXmuSaiSiz"
      },
      "execution_count": 41,
      "outputs": []
    },
    {
      "cell_type": "code",
      "source": [
        "y_train.value_counts()"
      ],
      "metadata": {
        "colab": {
          "base_uri": "https://localhost:8080/",
          "height": 178
        },
        "id": "oSKOFZfMipe2",
        "outputId": "3871614d-98a7-4635-80b5-60caf6f69cd5"
      },
      "execution_count": 42,
      "outputs": [
        {
          "output_type": "execute_result",
          "data": {
            "text/plain": [
              "stress\n",
              "0    17443\n",
              "1    17443\n",
              "Name: count, dtype: int64"
            ],
            "text/html": [
              "<div>\n",
              "<style scoped>\n",
              "    .dataframe tbody tr th:only-of-type {\n",
              "        vertical-align: middle;\n",
              "    }\n",
              "\n",
              "    .dataframe tbody tr th {\n",
              "        vertical-align: top;\n",
              "    }\n",
              "\n",
              "    .dataframe thead th {\n",
              "        text-align: right;\n",
              "    }\n",
              "</style>\n",
              "<table border=\"1\" class=\"dataframe\">\n",
              "  <thead>\n",
              "    <tr style=\"text-align: right;\">\n",
              "      <th></th>\n",
              "      <th>count</th>\n",
              "    </tr>\n",
              "    <tr>\n",
              "      <th>stress</th>\n",
              "      <th></th>\n",
              "    </tr>\n",
              "  </thead>\n",
              "  <tbody>\n",
              "    <tr>\n",
              "      <th>0</th>\n",
              "      <td>17443</td>\n",
              "    </tr>\n",
              "    <tr>\n",
              "      <th>1</th>\n",
              "      <td>17443</td>\n",
              "    </tr>\n",
              "  </tbody>\n",
              "</table>\n",
              "</div><br><label><b>dtype:</b> int64</label>"
            ]
          },
          "metadata": {},
          "execution_count": 42
        }
      ]
    },
    {
      "cell_type": "code",
      "source": [
        "model_lgb = lgb.LGBMClassifier(random_state=106)\n",
        "model_lgb.fit(X_train, y_train)\n",
        "\n",
        "y_pred_lgb = model_lgb.predict(X_test)\n",
        "report = classification_report(y_test, y_pred_lgb)\n",
        "print(report)"
      ],
      "metadata": {
        "colab": {
          "base_uri": "https://localhost:8080/"
        },
        "id": "2BJRw4AsSkcO",
        "outputId": "370ac08c-2cfb-459a-9d1c-9ef39ae524c0"
      },
      "execution_count": 43,
      "outputs": [
        {
          "output_type": "stream",
          "name": "stdout",
          "text": [
            "[LightGBM] [Info] Number of positive: 17443, number of negative: 17443\n",
            "[LightGBM] [Info] Auto-choosing col-wise multi-threading, the overhead of testing was 0.027514 seconds.\n",
            "You can set `force_col_wise=true` to remove the overhead.\n",
            "[LightGBM] [Info] Total Bins 16320\n",
            "[LightGBM] [Info] Number of data points in the train set: 34886, number of used features: 64\n",
            "[LightGBM] [Info] [binary:BoostFromScore]: pavg=0.500000 -> initscore=0.000000\n",
            "              precision    recall  f1-score   support\n",
            "\n",
            "           0       0.90      0.72      0.80      2352\n",
            "           1       0.77      0.92      0.84      2352\n",
            "\n",
            "    accuracy                           0.82      4704\n",
            "   macro avg       0.83      0.82      0.82      4704\n",
            "weighted avg       0.83      0.82      0.82      4704\n",
            "\n"
          ]
        }
      ]
    },
    {
      "cell_type": "code",
      "source": [
        "from sklearn.ensemble import RandomForestClassifier\n",
        "\n",
        "modelrf = RandomForestClassifier(random_state=106)\n",
        "modelrf.fit(X_train, y_train)\n",
        "\n",
        "y_pred_rf = modelrf.predict(X_test)\n",
        "report = classification_report(y_test, y_pred_rf)\n",
        "print(report)"
      ],
      "metadata": {
        "colab": {
          "base_uri": "https://localhost:8080/"
        },
        "id": "xnw8PcTlESxp",
        "outputId": "edf31fb5-e2ae-4540-fed3-d68685d75ab8"
      },
      "execution_count": 44,
      "outputs": [
        {
          "output_type": "stream",
          "name": "stdout",
          "text": [
            "              precision    recall  f1-score   support\n",
            "\n",
            "           0       0.85      0.74      0.80      2352\n",
            "           1       0.77      0.87      0.82      2352\n",
            "\n",
            "    accuracy                           0.81      4704\n",
            "   macro avg       0.81      0.81      0.81      4704\n",
            "weighted avg       0.81      0.81      0.81      4704\n",
            "\n"
          ]
        }
      ]
    },
    {
      "cell_type": "code",
      "source": [
        "from sklearn.ensemble import ExtraTreesClassifier\n",
        "\n",
        "modelext = ExtraTreesClassifier(random_state=106)\n",
        "modelext.fit(X_train, y_train)\n",
        "\n",
        "y_pred_ext = modelext.predict(X_test)\n",
        "report = classification_report(y_test, y_pred_ext)\n",
        "print(report)"
      ],
      "metadata": {
        "colab": {
          "base_uri": "https://localhost:8080/"
        },
        "id": "9pYEYGNGoXzp",
        "outputId": "c9defcd7-222a-47ab-b21a-8ab1e8f5e8cc"
      },
      "execution_count": 45,
      "outputs": [
        {
          "output_type": "stream",
          "name": "stdout",
          "text": [
            "              precision    recall  f1-score   support\n",
            "\n",
            "           0       0.81      0.77      0.79      2352\n",
            "           1       0.78      0.82      0.80      2352\n",
            "\n",
            "    accuracy                           0.80      4704\n",
            "   macro avg       0.80      0.80      0.80      4704\n",
            "weighted avg       0.80      0.80      0.80      4704\n",
            "\n"
          ]
        }
      ]
    },
    {
      "cell_type": "code",
      "source": [
        "from sklearn.dummy import DummyClassifier\n",
        "\n",
        "dummy = DummyClassifier()\n",
        "dummy.fit(X_train, y_train)\n",
        "\n",
        "y_pred_dummy = dummy.predict(X_test)\n",
        "report = classification_report(y_test, y_pred_dummy)\n",
        "print(report)"
      ],
      "metadata": {
        "colab": {
          "base_uri": "https://localhost:8080/"
        },
        "id": "FMGO7WgZofdj",
        "outputId": "bf6626ee-c939-4555-ae4f-3a0e991624fe"
      },
      "execution_count": 46,
      "outputs": [
        {
          "output_type": "stream",
          "name": "stdout",
          "text": [
            "              precision    recall  f1-score   support\n",
            "\n",
            "           0       0.50      1.00      0.67      2352\n",
            "           1       0.00      0.00      0.00      2352\n",
            "\n",
            "    accuracy                           0.50      4704\n",
            "   macro avg       0.25      0.50      0.33      4704\n",
            "weighted avg       0.25      0.50      0.33      4704\n",
            "\n"
          ]
        }
      ]
    },
    {
      "cell_type": "code",
      "source": [
        "dump(model_lgb, 'lgb_model_drought_3mer.joblib')\n",
        "print('LGB - Cold Model created.')"
      ],
      "metadata": {
        "colab": {
          "base_uri": "https://localhost:8080/"
        },
        "id": "YNA653SkYK1q",
        "outputId": "8f2bdfe0-f612-4480-f1f7-a2d403534233"
      },
      "execution_count": 47,
      "outputs": [
        {
          "output_type": "stream",
          "name": "stdout",
          "text": [
            "LGB - Cold Model created.\n"
          ]
        }
      ]
    },
    {
      "cell_type": "code",
      "source": [
        "dump(modelrf, 'rf_model_drought_3mer.joblib')\n",
        "print('RF - Cold Model created.')"
      ],
      "metadata": {
        "colab": {
          "base_uri": "https://localhost:8080/"
        },
        "id": "u9SnahAzNH9g",
        "outputId": "94794fb4-5b1f-41cc-d372-ca5fc4a50005"
      },
      "execution_count": 48,
      "outputs": [
        {
          "output_type": "stream",
          "name": "stdout",
          "text": [
            "RF - Cold Model created.\n"
          ]
        }
      ]
    },
    {
      "cell_type": "code",
      "source": [
        "cnf_matrix = confusion_matrix(y_test, y_pred_lgb)\n",
        "\n",
        "def plot_confusion_matrix(cm, classes,\n",
        "                          normalize=False,\n",
        "                          title='Confusion Matrix - LGB Model',\n",
        "                          cmap=plt.cm.Blues):\n",
        "\n",
        "    if normalize:\n",
        "        cm = cm.astype('float') / cm.sum(axis=1)[:, np.newaxis]\n",
        "\n",
        "    #plt.ylim(0.5, 0.5)\n",
        "    plt.imshow(cm, interpolation='nearest', cmap=cmap)\n",
        "    plt.title(title)\n",
        "    plt.colorbar()\n",
        "    tick_marks = np.arange(len(classes))\n",
        "    plt.xticks(tick_marks, classes, rotation=45)\n",
        "    plt.yticks(tick_marks, classes)\n",
        "    plt.ylim(1.5, -0.5)\n",
        "\n",
        "    fmt = '.2f' if normalize else 'd'\n",
        "    thresh = cm.max() / 2.\n",
        "    for i, j in itertools.product(range(cm.shape[0]), range(cm.shape[1])):\n",
        "        plt.text(j, i, format(cm[i, j], fmt),\n",
        "                 horizontalalignment=\"center\",\n",
        "                 color=\"white\" if cm[i, j] > thresh else \"black\")\n",
        "\n",
        "    plt.ylabel('Real class')\n",
        "    plt.xlabel('Predicted class')\n",
        "    plt.tight_layout()\n",
        "\n",
        "plot_confusion_matrix(cnf_matrix, classes=['Control: 0', 'Drought: 1'])"
      ],
      "metadata": {
        "colab": {
          "base_uri": "https://localhost:8080/",
          "height": 487
        },
        "id": "soE4Os5xY3Mk",
        "outputId": "9df593b4-242b-46c1-f6c3-f77ac52e6acd"
      },
      "execution_count": 49,
      "outputs": [
        {
          "output_type": "display_data",
          "data": {
            "text/plain": [
              "<Figure size 640x480 with 2 Axes>"
            ],
            "image/png": "[encoded data removed]"
          },
          "metadata": {}
        }
      ]
    },
    {
      "cell_type": "code",
      "source": [
        "cnf_matrix = confusion_matrix(y_test, y_pred_rf)\n",
        "\n",
        "def plot_confusion_matrix(cm, classes,\n",
        "                          normalize=False,\n",
        "                          title='Confusion Matrix - RF Model',\n",
        "                          cmap=plt.cm.Blues):\n",
        "\n",
        "    if normalize:\n",
        "        cm = cm.astype('float') / cm.sum(axis=1)[:, np.newaxis]\n",
        "\n",
        "    #plt.ylim(0.5, 0.5)\n",
        "    plt.imshow(cm, interpolation='nearest', cmap=cmap)\n",
        "    plt.title(title)\n",
        "    plt.colorbar()\n",
        "    tick_marks = np.arange(len(classes))\n",
        "    plt.xticks(tick_marks, classes, rotation=45)\n",
        "    plt.yticks(tick_marks, classes)\n",
        "    plt.ylim(1.5, -0.5)\n",
        "\n",
        "    fmt = '.2f' if normalize else 'd'\n",
        "    thresh = cm.max() / 2.\n",
        "    for i, j in itertools.product(range(cm.shape[0]), range(cm.shape[1])):\n",
        "        plt.text(j, i, format(cm[i, j], fmt),\n",
        "                 horizontalalignment=\"center\",\n",
        "                 color=\"white\" if cm[i, j] > thresh else \"black\")\n",
        "\n",
        "    plt.ylabel('Real class')\n",
        "    plt.xlabel('Predicted class')\n",
        "    plt.tight_layout()\n",
        "\n",
        "plot_confusion_matrix(cnf_matrix, classes=['Control: 0', 'Drought: 1'])"
      ],
      "metadata": {
        "colab": {
          "base_uri": "https://localhost:8080/",
          "height": 487
        },
        "id": "4w71YtthNc90",
        "outputId": "384b7a1d-4ace-4e66-9772-8d4c1fbb1055"
      },
      "execution_count": 50,
      "outputs": [
        {
          "output_type": "display_data",
          "data": {
            "text/plain": [
              "<Figure size 640x480 with 2 Axes>"
            ],
            "image/png": "[encoded data removed]"
          },
          "metadata": {}
        }
      ]
    },
    {
      "cell_type": "code",
      "source": [
        "from sklearn.model_selection import train_test_split, cross_val_score\n",
        "scores = cross_val_score(model_lgb, X_res, y_res, cv=4)\n",
        "print(\"Scores:\", scores)\n",
        "print(\"Median:\", scores.mean())"
      ],
      "metadata": {
        "colab": {
          "base_uri": "https://localhost:8080/"
        },
        "id": "bNlYngCPPDVP",
        "outputId": "8ac467db-d8f1-4ba8-ab32-6ceb8e537762"
      },
      "execution_count": 51,
      "outputs": [
        {
          "output_type": "stream",
          "name": "stdout",
          "text": [
            "[LightGBM] [Info] Number of positive: 9022, number of negative: 16404\n",
            "[LightGBM] [Info] Auto-choosing col-wise multi-threading, the overhead of testing was 0.019038 seconds.\n",
            "You can set `force_col_wise=true` to remove the overhead.\n",
            "[LightGBM] [Info] Total Bins 16320\n",
            "[LightGBM] [Info] Number of data points in the train set: 25426, number of used features: 64\n",
            "[LightGBM] [Info] [binary:BoostFromScore]: pavg=0.354834 -> initscore=-0.597859\n",
            "[LightGBM] [Info] Start training from score -0.597859\n",
            "[LightGBM] [Info] Number of positive: 9022, number of negative: 16404\n",
            "[LightGBM] [Info] Auto-choosing col-wise multi-threading, the overhead of testing was 0.031738 seconds.\n",
            "You can set `force_col_wise=true` to remove the overhead.\n",
            "[LightGBM] [Info] Total Bins 16320\n",
            "[LightGBM] [Info] Number of data points in the train set: 25426, number of used features: 64\n",
            "[LightGBM] [Info] [binary:BoostFromScore]: pavg=0.354834 -> initscore=-0.597859\n",
            "[LightGBM] [Info] Start training from score -0.597859\n",
            "[LightGBM] [Info] Number of positive: 9023, number of negative: 16404\n",
            "[LightGBM] [Info] Auto-choosing col-wise multi-threading, the overhead of testing was 0.019136 seconds.\n",
            "You can set `force_col_wise=true` to remove the overhead.\n",
            "[LightGBM] [Info] Total Bins 16320\n",
            "[LightGBM] [Info] Number of data points in the train set: 25427, number of used features: 64\n",
            "[LightGBM] [Info] [binary:BoostFromScore]: pavg=0.354859 -> initscore=-0.597748\n",
            "[LightGBM] [Info] Start training from score -0.597748\n",
            "[LightGBM] [Info] Number of positive: 9023, number of negative: 16404\n",
            "[LightGBM] [Info] Auto-choosing col-wise multi-threading, the overhead of testing was 0.018810 seconds.\n",
            "You can set `force_col_wise=true` to remove the overhead.\n",
            "[LightGBM] [Info] Total Bins 16320\n",
            "[LightGBM] [Info] Number of data points in the train set: 25427, number of used features: 64\n",
            "[LightGBM] [Info] [binary:BoostFromScore]: pavg=0.354859 -> initscore=-0.597748\n",
            "[LightGBM] [Info] Start training from score -0.597748\n",
            "Scores: [0.72593204 0.80840019 0.80908555 0.77309735]\n",
            "Median: 0.7791287807601125\n"
          ]
        }
      ]
    },
    {
      "cell_type": "code",
      "source": [
        "from sklearn.model_selection import train_test_split, cross_val_score\n",
        "scores = cross_val_score(modelrf, X_res, y_res, cv=4)\n",
        "print(\"Scores:\", scores)\n",
        "print(\"Median:\", scores.mean())"
      ],
      "metadata": {
        "colab": {
          "base_uri": "https://localhost:8080/"
        },
        "id": "mtvM0sFPSVq9",
        "outputId": "e3f6f9ac-4b3f-4c64-bf77-5d5fa17f17ba"
      },
      "execution_count": 52,
      "outputs": [
        {
          "output_type": "stream",
          "name": "stdout",
          "text": [
            "Scores: [0.72581406 0.79270882 0.8020059  0.75846608]\n",
            "Median: 0.7697487161389925\n"
          ]
        }
      ]
    },
    {
      "cell_type": "code",
      "source": [
        "import numpy as np\n",
        "y_prob = model_lgb.predict_proba(X_test)[:, 1]\n",
        "\n",
        "thresholds = np.arange(0.0, 1.1, 0.1)\n",
        "results = []\n",
        "\n",
        "for threshold in thresholds:\n",
        "    y_pred_test = (y_prob >= threshold).astype(int)\n",
        "\n",
        "    tn, fp, fn, tp = confusion_matrix(y_test, y_pred_test).ravel()\n",
        "    precision = tp / (tp + fp) if (tp + fp) > 0 else 0\n",
        "    recall = tp / (tp + fn) if (tp + fn) > 0 else 0\n",
        "    f1 = 2 * (precision * recall) / (precision + recall) if (precision + recall) > 0 else 0\n",
        "    auc = roc_auc_score(y_test, y_prob)\n",
        "    accuracy = accuracy_score(y_test, y_pred_test)\n",
        "\n",
        "    results.append({\n",
        "        'Threshold': threshold,\n",
        "        'Precision': precision,\n",
        "        'Recall': recall,\n",
        "        'F1 Score': f1,\n",
        "        'AUC': auc,\n",
        "        'Acurácia': accuracy\n",
        "    })\n",
        "\n",
        "results_df = pd.DataFrame(results)\n",
        "print(results_df)"
      ],
      "metadata": {
        "colab": {
          "base_uri": "https://localhost:8080/"
        },
        "id": "1PqmGwVHU_GA",
        "outputId": "18295117-3abd-489f-806a-12235bc69e8e"
      },
      "execution_count": 53,
      "outputs": [
        {
          "output_type": "stream",
          "name": "stdout",
          "text": [
            "    Threshold  Precision  Recall  F1 Score  AUC  Acurácia\n",
            "0        0.00       0.50    1.00      0.67 0.85      0.50\n",
            "1        0.10       0.67    0.97      0.80 0.85      0.75\n",
            "2        0.20       0.75    0.94      0.83 0.85      0.81\n",
            "3        0.30       0.76    0.93      0.84 0.85      0.82\n",
            "4        0.40       0.76    0.93      0.84 0.85      0.82\n",
            "5        0.50       0.77    0.92      0.84 0.85      0.82\n",
            "6        0.60       0.77    0.89      0.82 0.85      0.81\n",
            "7        0.70       0.78    0.77      0.78 0.85      0.78\n",
            "8        0.80       0.81    0.29      0.43 0.85      0.61\n",
            "9        0.90       0.80    0.00      0.00 0.85      0.50\n",
            "10       1.00       0.00    0.00      0.00 0.85      0.50\n"
          ]
        }
      ]
    },
    {
      "cell_type": "code",
      "source": [
        "from sklearn.metrics import confusion_matrix, classification_report, roc_auc_score, accuracy_score\n",
        "import numpy as np\n",
        "y_prob = modelrf.predict_proba(X_test)[:, 1]\n",
        "\n",
        "thresholds = np.arange(0.0, 1.1, 0.1)\n",
        "results = []\n",
        "\n",
        "for threshold in thresholds:\n",
        "    y_pred_test = (y_prob >= threshold).astype(int)\n",
        "\n",
        "    tn, fp, fn, tp = confusion_matrix(y_test, y_pred_test).ravel()\n",
        "    precision = tp / (tp + fp) if (tp + fp) > 0 else 0\n",
        "    recall = tp / (tp + fn) if (tp + fn) > 0 else 0\n",
        "    f1 = 2 * (precision * recall) / (precision + recall) if (precision + recall) > 0 else 0\n",
        "    auc = roc_auc_score(y_test, y_prob)\n",
        "    accuracy = accuracy_score(y_test, y_pred_test)\n",
        "\n",
        "    results.append({\n",
        "        'Threshold': threshold,\n",
        "        'Precision': precision,\n",
        "        'Recall': recall,\n",
        "        'F1 Score': f1,\n",
        "        'AUC': auc,\n",
        "        'Acurácia': accuracy\n",
        "    })\n",
        "\n",
        "results_df = pd.DataFrame(results)\n",
        "print(results_df)"
      ],
      "metadata": {
        "colab": {
          "base_uri": "https://localhost:8080/"
        },
        "id": "_6TYUIjkNxYP",
        "outputId": "13b8102e-9300-45e5-dc25-71b2d360f15f"
      },
      "execution_count": 54,
      "outputs": [
        {
          "output_type": "stream",
          "name": "stdout",
          "text": [
            "    Threshold  Precision  Recall  F1 Score  AUC  Acurácia\n",
            "0        0.00       0.50    1.00      0.67 0.85      0.50\n",
            "1        0.10       0.66    0.97      0.79 0.85      0.74\n",
            "2        0.20       0.75    0.94      0.83 0.85      0.81\n",
            "3        0.30       0.76    0.93      0.84 0.85      0.82\n",
            "4        0.40       0.77    0.92      0.84 0.85      0.82\n",
            "5        0.50       0.77    0.88      0.82 0.85      0.81\n",
            "6        0.60       0.78    0.70      0.74 0.85      0.75\n",
            "7        0.70       0.80    0.40      0.53 0.85      0.65\n",
            "8        0.80       0.79    0.14      0.24 0.85      0.55\n",
            "9        0.90       0.82    0.02      0.03 0.85      0.51\n",
            "10       1.00       0.00    0.00      0.00 0.85      0.50\n"
          ]
        }
      ]
    }
  ]
}