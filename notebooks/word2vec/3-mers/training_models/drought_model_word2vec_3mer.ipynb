{
  "nbformat": 4,
  "nbformat_minor": 0,
  "metadata": {
    "colab": {
      "provenance": []
    },
    "kernelspec": {
      "name": "python3",
      "display_name": "Python 3"
    },
    "language_info": {
      "name": "python"
    }
  },
  "cells": [
    {
      "cell_type": "code",
      "source": [
        "!pip install scikit-learn==1.3.2"
      ],
      "metadata": {
        "colab": {
          "base_uri": "https://localhost:8080/"
        },
        "collapsed": true,
        "id": "pQoO9biMSJWn",
        "outputId": "8799e63c-5067-4ecb-b721-bc52bafbdded"
      },
      "execution_count": 1,
      "outputs": [
        {
          "output_type": "stream",
          "name": "stdout",
          "text": [
            "Requirement already satisfied: scikit-learn==1.3.2 in /usr/local/lib/python3.10/dist-packages (1.3.2)\n",
            "Requirement already satisfied: numpy<2.0,>=1.17.3 in /usr/local/lib/python3.10/dist-packages (from scikit-learn==1.3.2) (1.26.4)\n",
            "Requirement already satisfied: scipy>=1.5.0 in /usr/local/lib/python3.10/dist-packages (from scikit-learn==1.3.2) (1.13.1)\n",
            "Requirement already satisfied: joblib>=1.1.1 in /usr/local/lib/python3.10/dist-packages (from scikit-learn==1.3.2) (1.4.2)\n",
            "Requirement already satisfied: threadpoolctl>=2.0.0 in /usr/local/lib/python3.10/dist-packages (from scikit-learn==1.3.2) (3.5.0)\n"
          ]
        }
      ]
    },
    {
      "cell_type": "code",
      "source": [
        "!pip install lazypredict"
      ],
      "metadata": {
        "colab": {
          "base_uri": "https://localhost:8080/"
        },
        "collapsed": true,
        "id": "4MImigi_zTO4",
        "outputId": "681318c9-1e79-4c28-bdf4-84d6580ebaa9"
      },
      "execution_count": 2,
      "outputs": [
        {
          "output_type": "stream",
          "name": "stdout",
          "text": [
            "Requirement already satisfied: lazypredict in /usr/local/lib/python3.10/dist-packages (0.2.12)\n",
            "Requirement already satisfied: click in /usr/local/lib/python3.10/dist-packages (from lazypredict) (8.1.7)\n",
            "Requirement already satisfied: scikit-learn in /usr/local/lib/python3.10/dist-packages (from lazypredict) (1.3.2)\n",
            "Requirement already satisfied: pandas in /usr/local/lib/python3.10/dist-packages (from lazypredict) (2.2.2)\n",
            "Requirement already satisfied: tqdm in /usr/local/lib/python3.10/dist-packages (from lazypredict) (4.66.5)\n",
            "Requirement already satisfied: joblib in /usr/local/lib/python3.10/dist-packages (from lazypredict) (1.4.2)\n",
            "Requirement already satisfied: lightgbm in /usr/local/lib/python3.10/dist-packages (from lazypredict) (4.5.0)\n",
            "Requirement already satisfied: xgboost in /usr/local/lib/python3.10/dist-packages (from lazypredict) (2.1.1)\n",
            "Requirement already satisfied: numpy>=1.17.0 in /usr/local/lib/python3.10/dist-packages (from lightgbm->lazypredict) (1.26.4)\n",
            "Requirement already satisfied: scipy in /usr/local/lib/python3.10/dist-packages (from lightgbm->lazypredict) (1.13.1)\n",
            "Requirement already satisfied: python-dateutil>=2.8.2 in /usr/local/lib/python3.10/dist-packages (from pandas->lazypredict) (2.8.2)\n",
            "Requirement already satisfied: pytz>=2020.1 in /usr/local/lib/python3.10/dist-packages (from pandas->lazypredict) (2024.2)\n",
            "Requirement already satisfied: tzdata>=2022.7 in /usr/local/lib/python3.10/dist-packages (from pandas->lazypredict) (2024.2)\n",
            "Requirement already satisfied: threadpoolctl>=2.0.0 in /usr/local/lib/python3.10/dist-packages (from scikit-learn->lazypredict) (3.5.0)\n",
            "Requirement already satisfied: nvidia-nccl-cu12 in /usr/local/lib/python3.10/dist-packages (from xgboost->lazypredict) (2.23.4)\n",
            "Requirement already satisfied: six>=1.5 in /usr/local/lib/python3.10/dist-packages (from python-dateutil>=2.8.2->pandas->lazypredict) (1.16.0)\n"
          ]
        }
      ]
    },
    {
      "cell_type": "code",
      "source": [
        "import pandas as pd\n",
        "from imblearn.under_sampling import RandomUnderSampler\n",
        "import lightgbm as lgb\n",
        "from joblib import dump\n",
        "import itertools\n",
        "import matplotlib.pyplot as plt\n",
        "import numpy as np\n",
        "from lazypredict.Supervised import LazyClassifier\n",
        "from sklearn.model_selection import train_test_split, cross_val_score\n",
        "from sklearn.metrics import confusion_matrix, classification_report, roc_auc_score, accuracy_score, precision_score, recall_score, f1_score"
      ],
      "metadata": {
        "colab": {
          "base_uri": "https://localhost:8080/"
        },
        "collapsed": true,
        "id": "4amZwp5jREEs",
        "outputId": "ea30c356-c87e-4276-948e-0e106e8a313f"
      },
      "execution_count": 3,
      "outputs": [
        {
          "output_type": "stream",
          "name": "stderr",
          "text": [
            "/usr/local/lib/python3.10/dist-packages/dask/dataframe/__init__.py:42: FutureWarning: \n",
            "Dask dataframe query planning is disabled because dask-expr is not installed.\n",
            "\n",
            "You can install it with `pip install dask[dataframe]` or `conda install dask`.\n",
            "This will raise in a future version.\n",
            "\n",
            "  warnings.warn(msg, FutureWarning)\n"
          ]
        }
      ]
    },
    {
      "cell_type": "code",
      "source": [
        "rice_df = pd.read_excel('/content/rice_w2vec_3mer_dataset.xlsx')\n",
        "rice_df = rice_df.drop(['circName','tissue','chr','start','end','strand','start_anno', 'circID',\t'gene', 'isoform', 'width', 'detection_score', 'stress_detection_score', 'end_anno', 'antisense', 'algorithm', 'seq', 'exonSeq', 'predAA', 'miRNA','superCircRNARegion'], axis=1)"
      ],
      "metadata": {
        "id": "aUHp8UQQRG5G"
      },
      "execution_count": 4,
      "outputs": []
    },
    {
      "cell_type": "code",
      "source": [
        "maize_df = pd.read_excel('maize_w2vec_3mer_dataset.xlsx')\n",
        "maize_df = maize_df.drop(['circName','tissue','chr','start','end','strand','start_anno', 'circID',\t'gene', 'isoform', 'width', 'detection_score', 'stress_detection_score', 'end_anno', 'antisense', 'algorithm', 'seq', 'exonSeq', 'predAA', 'miRNA','superCircRNARegion'], axis=1)"
      ],
      "metadata": {
        "id": "fuFiTwbQRJp5"
      },
      "execution_count": 5,
      "outputs": []
    },
    {
      "cell_type": "code",
      "source": [
        "df = rice_df._append(maize_df, ignore_index = True)"
      ],
      "metadata": {
        "id": "Zyoh7UDURTZn"
      },
      "execution_count": 6,
      "outputs": []
    },
    {
      "cell_type": "code",
      "source": [
        "df_drought = df.query('stress == \"-\" or stress == \"drought\"').replace('-', 0).replace('drought', 1)"
      ],
      "metadata": {
        "id": "kA1F3SLERJ26"
      },
      "execution_count": 7,
      "outputs": []
    },
    {
      "cell_type": "markdown",
      "source": [
        "### Training and Testing Models"
      ],
      "metadata": {
        "id": "aBd2ivQ4gHOO"
      }
    },
    {
      "cell_type": "code",
      "source": [
        "# Define X and y (target) variables\n",
        "X = df_drought.drop(['stress'], axis=1)\n",
        "y = df_drought['stress']"
      ],
      "metadata": {
        "id": "3ZELGM8nSgZ-"
      },
      "execution_count": 8,
      "outputs": []
    },
    {
      "cell_type": "code",
      "source": [
        "X.head(2)"
      ],
      "metadata": {
        "colab": {
          "base_uri": "https://localhost:8080/",
          "height": 161
        },
        "id": "PGSRlHtp3gF2",
        "outputId": "857eb9c4-538a-4c2a-857c-42d655981b89"
      },
      "execution_count": 9,
      "outputs": [
        {
          "output_type": "execute_result",
          "data": {
            "text/plain": [
              "   wc_3mer_1  wc_3mer_2  wc_3mer_3  wc_3mer_4  wc_3mer_5  wc_3mer_6  \\\n",
              "0      -8.66     -17.17     -20.12      10.61      -0.19       1.57   \n",
              "1      -4.62     -42.06     -73.49     -51.22      83.97     -47.22   \n",
              "\n",
              "   wc_3mer_7  wc_3mer_8  wc_3mer_9  wc_3mer_10  ...  wc_3mer_55  wc_3mer_56  \\\n",
              "0       3.90       7.62      -2.83       13.90  ...      -21.98      -12.45   \n",
              "1     -20.22      29.19     -17.14       37.22  ...       24.44      -68.49   \n",
              "\n",
              "   wc_3mer_57  wc_3mer_58  wc_3mer_59  wc_3mer_60  wc_3mer_61  wc_3mer_62  \\\n",
              "0       -8.38       -9.52       28.57        7.25      -18.07       -6.67   \n",
              "1       20.16       14.18       81.44       -4.52       21.87      -10.53   \n",
              "\n",
              "   wc_3mer_63  wc_3mer_64  \n",
              "0       -3.78        1.30  \n",
              "1      -39.17       63.34  \n",
              "\n",
              "[2 rows x 64 columns]"
            ],
            "text/html": [
              "\n",
              "  <div id=\"df-64be7f18-8e5b-4d4a-9a48-77a9c6823de6\" class=\"colab-df-container\">\n",
              "    <div>\n",
              "<style scoped>\n",
              "    .dataframe tbody tr th:only-of-type {\n",
              "        vertical-align: middle;\n",
              "    }\n",
              "\n",
              "    .dataframe tbody tr th {\n",
              "        vertical-align: top;\n",
              "    }\n",
              "\n",
              "    .dataframe thead th {\n",
              "        text-align: right;\n",
              "    }\n",
              "</style>\n",
              "<table border=\"1\" class=\"dataframe\">\n",
              "  <thead>\n",
              "    <tr style=\"text-align: right;\">\n",
              "      <th></th>\n",
              "      <th>wc_3mer_1</th>\n",
              "      <th>wc_3mer_2</th>\n",
              "      <th>wc_3mer_3</th>\n",
              "      <th>wc_3mer_4</th>\n",
              "      <th>wc_3mer_5</th>\n",
              "      <th>wc_3mer_6</th>\n",
              "      <th>wc_3mer_7</th>\n",
              "      <th>wc_3mer_8</th>\n",
              "      <th>wc_3mer_9</th>\n",
              "      <th>wc_3mer_10</th>\n",
              "      <th>...</th>\n",
              "      <th>wc_3mer_55</th>\n",
              "      <th>wc_3mer_56</th>\n",
              "      <th>wc_3mer_57</th>\n",
              "      <th>wc_3mer_58</th>\n",
              "      <th>wc_3mer_59</th>\n",
              "      <th>wc_3mer_60</th>\n",
              "      <th>wc_3mer_61</th>\n",
              "      <th>wc_3mer_62</th>\n",
              "      <th>wc_3mer_63</th>\n",
              "      <th>wc_3mer_64</th>\n",
              "    </tr>\n",
              "  </thead>\n",
              "  <tbody>\n",
              "    <tr>\n",
              "      <th>0</th>\n",
              "      <td>-8.66</td>\n",
              "      <td>-17.17</td>\n",
              "      <td>-20.12</td>\n",
              "      <td>10.61</td>\n",
              "      <td>-0.19</td>\n",
              "      <td>1.57</td>\n",
              "      <td>3.90</td>\n",
              "      <td>7.62</td>\n",
              "      <td>-2.83</td>\n",
              "      <td>13.90</td>\n",
              "      <td>...</td>\n",
              "      <td>-21.98</td>\n",
              "      <td>-12.45</td>\n",
              "      <td>-8.38</td>\n",
              "      <td>-9.52</td>\n",
              "      <td>28.57</td>\n",
              "      <td>7.25</td>\n",
              "      <td>-18.07</td>\n",
              "      <td>-6.67</td>\n",
              "      <td>-3.78</td>\n",
              "      <td>1.30</td>\n",
              "    </tr>\n",
              "    <tr>\n",
              "      <th>1</th>\n",
              "      <td>-4.62</td>\n",
              "      <td>-42.06</td>\n",
              "      <td>-73.49</td>\n",
              "      <td>-51.22</td>\n",
              "      <td>83.97</td>\n",
              "      <td>-47.22</td>\n",
              "      <td>-20.22</td>\n",
              "      <td>29.19</td>\n",
              "      <td>-17.14</td>\n",
              "      <td>37.22</td>\n",
              "      <td>...</td>\n",
              "      <td>24.44</td>\n",
              "      <td>-68.49</td>\n",
              "      <td>20.16</td>\n",
              "      <td>14.18</td>\n",
              "      <td>81.44</td>\n",
              "      <td>-4.52</td>\n",
              "      <td>21.87</td>\n",
              "      <td>-10.53</td>\n",
              "      <td>-39.17</td>\n",
              "      <td>63.34</td>\n",
              "    </tr>\n",
              "  </tbody>\n",
              "</table>\n",
              "<p>2 rows × 64 columns</p>\n",
              "</div>\n",
              "    <div class=\"colab-df-buttons\">\n",
              "\n",
              "  <div class=\"colab-df-container\">\n",
              "    <button class=\"colab-df-convert\" onclick=\"convertToInteractive('df-64be7f18-8e5b-4d4a-9a48-77a9c6823de6')\"\n",
              "            title=\"Convert this dataframe to an interactive table.\"\n",
              "            style=\"display:none;\">\n",
              "\n",
              "  <svg xmlns=\"http://www.w3.org/2000/svg\" height=\"24px\" viewBox=\"0 -960 960 960\">\n",
              "    <path d=\"M120-120v-720h720v720H120Zm60-500h600v-160H180v160Zm220 220h160v-160H400v160Zm0 220h160v-160H400v160ZM180-400h160v-160H180v160Zm440 0h160v-160H620v160ZM180-180h160v-160H180v160Zm440 0h160v-160H620v160Z\"/>\n",
              "  </svg>\n",
              "    </button>\n",
              "\n",
              "  <style>\n",
              "    .colab-df-container {\n",
              "      display:flex;\n",
              "      gap: 12px;\n",
              "    }\n",
              "\n",
              "    .colab-df-convert {\n",
              "      background-color: #E8F0FE;\n",
              "      border: none;\n",
              "      border-radius: 50%;\n",
              "      cursor: pointer;\n",
              "      display: none;\n",
              "      fill: #1967D2;\n",
              "      height: 32px;\n",
              "      padding: 0 0 0 0;\n",
              "      width: 32px;\n",
              "    }\n",
              "\n",
              "    .colab-df-convert:hover {\n",
              "      background-color: #E2EBFA;\n",
              "      box-shadow: 0px 1px 2px rgba(60, 64, 67, 0.3), 0px 1px 3px 1px rgba(60, 64, 67, 0.15);\n",
              "      fill: #174EA6;\n",
              "    }\n",
              "\n",
              "    .colab-df-buttons div {\n",
              "      margin-bottom: 4px;\n",
              "    }\n",
              "\n",
              "    [theme=dark] .colab-df-convert {\n",
              "      background-color: #3B4455;\n",
              "      fill: #D2E3FC;\n",
              "    }\n",
              "\n",
              "    [theme=dark] .colab-df-convert:hover {\n",
              "      background-color: #434B5C;\n",
              "      box-shadow: 0px 1px 3px 1px rgba(0, 0, 0, 0.15);\n",
              "      filter: drop-shadow(0px 1px 2px rgba(0, 0, 0, 0.3));\n",
              "      fill: #FFFFFF;\n",
              "    }\n",
              "  </style>\n",
              "\n",
              "    <script>\n",
              "      const buttonEl =\n",
              "        document.querySelector('#df-64be7f18-8e5b-4d4a-9a48-77a9c6823de6 button.colab-df-convert');\n",
              "      buttonEl.style.display =\n",
              "        google.colab.kernel.accessAllowed ? 'block' : 'none';\n",
              "\n",
              "      async function convertToInteractive(key) {\n",
              "        const element = document.querySelector('#df-64be7f18-8e5b-4d4a-9a48-77a9c6823de6');\n",
              "        const dataTable =\n",
              "          await google.colab.kernel.invokeFunction('convertToInteractive',\n",
              "                                                    [key], {});\n",
              "        if (!dataTable) return;\n",
              "\n",
              "        const docLinkHtml = 'Like what you see? Visit the ' +\n",
              "          '<a target=\"_blank\" href=https://colab.research.google.com/notebooks/data_table.ipynb>data table notebook</a>'\n",
              "          + ' to learn more about interactive tables.';\n",
              "        element.innerHTML = '';\n",
              "        dataTable['output_type'] = 'display_data';\n",
              "        await google.colab.output.renderOutput(dataTable, element);\n",
              "        const docLink = document.createElement('div');\n",
              "        docLink.innerHTML = docLinkHtml;\n",
              "        element.appendChild(docLink);\n",
              "      }\n",
              "    </script>\n",
              "  </div>\n",
              "\n",
              "\n",
              "<div id=\"df-9907e945-54c4-443a-a6da-b60b174e2a46\">\n",
              "  <button class=\"colab-df-quickchart\" onclick=\"quickchart('df-9907e945-54c4-443a-a6da-b60b174e2a46')\"\n",
              "            title=\"Suggest charts\"\n",
              "            style=\"display:none;\">\n",
              "\n",
              "<svg xmlns=\"http://www.w3.org/2000/svg\" height=\"24px\"viewBox=\"0 0 24 24\"\n",
              "     width=\"24px\">\n",
              "    <g>\n",
              "        <path d=\"M19 3H5c-1.1 0-2 .9-2 2v14c0 1.1.9 2 2 2h14c1.1 0 2-.9 2-2V5c0-1.1-.9-2-2-2zM9 17H7v-7h2v7zm4 0h-2V7h2v10zm4 0h-2v-4h2v4z\"/>\n",
              "    </g>\n",
              "</svg>\n",
              "  </button>\n",
              "\n",
              "<style>\n",
              "  .colab-df-quickchart {\n",
              "      --bg-color: #E8F0FE;\n",
              "      --fill-color: #1967D2;\n",
              "      --hover-bg-color: #E2EBFA;\n",
              "      --hover-fill-color: #174EA6;\n",
              "      --disabled-fill-color: #AAA;\n",
              "      --disabled-bg-color: #DDD;\n",
              "  }\n",
              "\n",
              "  [theme=dark] .colab-df-quickchart {\n",
              "      --bg-color: #3B4455;\n",
              "      --fill-color: #D2E3FC;\n",
              "      --hover-bg-color: #434B5C;\n",
              "      --hover-fill-color: #FFFFFF;\n",
              "      --disabled-bg-color: #3B4455;\n",
              "      --disabled-fill-color: #666;\n",
              "  }\n",
              "\n",
              "  .colab-df-quickchart {\n",
              "    background-color: var(--bg-color);\n",
              "    border: none;\n",
              "    border-radius: 50%;\n",
              "    cursor: pointer;\n",
              "    display: none;\n",
              "    fill: var(--fill-color);\n",
              "    height: 32px;\n",
              "    padding: 0;\n",
              "    width: 32px;\n",
              "  }\n",
              "\n",
              "  .colab-df-quickchart:hover {\n",
              "    background-color: var(--hover-bg-color);\n",
              "    box-shadow: 0 1px 2px rgba(60, 64, 67, 0.3), 0 1px 3px 1px rgba(60, 64, 67, 0.15);\n",
              "    fill: var(--button-hover-fill-color);\n",
              "  }\n",
              "\n",
              "  .colab-df-quickchart-complete:disabled,\n",
              "  .colab-df-quickchart-complete:disabled:hover {\n",
              "    background-color: var(--disabled-bg-color);\n",
              "    fill: var(--disabled-fill-color);\n",
              "    box-shadow: none;\n",
              "  }\n",
              "\n",
              "  .colab-df-spinner {\n",
              "    border: 2px solid var(--fill-color);\n",
              "    border-color: transparent;\n",
              "    border-bottom-color: var(--fill-color);\n",
              "    animation:\n",
              "      spin 1s steps(1) infinite;\n",
              "  }\n",
              "\n",
              "  @keyframes spin {\n",
              "    0% {\n",
              "      border-color: transparent;\n",
              "      border-bottom-color: var(--fill-color);\n",
              "      border-left-color: var(--fill-color);\n",
              "    }\n",
              "    20% {\n",
              "      border-color: transparent;\n",
              "      border-left-color: var(--fill-color);\n",
              "      border-top-color: var(--fill-color);\n",
              "    }\n",
              "    30% {\n",
              "      border-color: transparent;\n",
              "      border-left-color: var(--fill-color);\n",
              "      border-top-color: var(--fill-color);\n",
              "      border-right-color: var(--fill-color);\n",
              "    }\n",
              "    40% {\n",
              "      border-color: transparent;\n",
              "      border-right-color: var(--fill-color);\n",
              "      border-top-color: var(--fill-color);\n",
              "    }\n",
              "    60% {\n",
              "      border-color: transparent;\n",
              "      border-right-color: var(--fill-color);\n",
              "    }\n",
              "    80% {\n",
              "      border-color: transparent;\n",
              "      border-right-color: var(--fill-color);\n",
              "      border-bottom-color: var(--fill-color);\n",
              "    }\n",
              "    90% {\n",
              "      border-color: transparent;\n",
              "      border-bottom-color: var(--fill-color);\n",
              "    }\n",
              "  }\n",
              "</style>\n",
              "\n",
              "  <script>\n",
              "    async function quickchart(key) {\n",
              "      const quickchartButtonEl =\n",
              "        document.querySelector('#' + key + ' button');\n",
              "      quickchartButtonEl.disabled = true;  // To prevent multiple clicks.\n",
              "      quickchartButtonEl.classList.add('colab-df-spinner');\n",
              "      try {\n",
              "        const charts = await google.colab.kernel.invokeFunction(\n",
              "            'suggestCharts', [key], {});\n",
              "      } catch (error) {\n",
              "        console.error('Error during call to suggestCharts:', error);\n",
              "      }\n",
              "      quickchartButtonEl.classList.remove('colab-df-spinner');\n",
              "      quickchartButtonEl.classList.add('colab-df-quickchart-complete');\n",
              "    }\n",
              "    (() => {\n",
              "      let quickchartButtonEl =\n",
              "        document.querySelector('#df-9907e945-54c4-443a-a6da-b60b174e2a46 button');\n",
              "      quickchartButtonEl.style.display =\n",
              "        google.colab.kernel.accessAllowed ? 'block' : 'none';\n",
              "    })();\n",
              "  </script>\n",
              "</div>\n",
              "\n",
              "    </div>\n",
              "  </div>\n"
            ],
            "application/vnd.google.colaboratory.intrinsic+json": {
              "type": "dataframe",
              "variable_name": "X"
            }
          },
          "metadata": {},
          "execution_count": 9
        }
      ]
    },
    {
      "cell_type": "code",
      "source": [
        "y.value_counts()"
      ],
      "metadata": {
        "colab": {
          "base_uri": "https://localhost:8080/",
          "height": 178
        },
        "id": "kjidtBXc3taU",
        "outputId": "aac6982b-5f2f-457f-acc5-78f69a77ff3b"
      },
      "execution_count": 10,
      "outputs": [
        {
          "output_type": "execute_result",
          "data": {
            "text/plain": [
              "stress\n",
              "0    70996\n",
              "1    12030\n",
              "Name: count, dtype: int64"
            ],
            "text/html": [
              "<div>\n",
              "<style scoped>\n",
              "    .dataframe tbody tr th:only-of-type {\n",
              "        vertical-align: middle;\n",
              "    }\n",
              "\n",
              "    .dataframe tbody tr th {\n",
              "        vertical-align: top;\n",
              "    }\n",
              "\n",
              "    .dataframe thead th {\n",
              "        text-align: right;\n",
              "    }\n",
              "</style>\n",
              "<table border=\"1\" class=\"dataframe\">\n",
              "  <thead>\n",
              "    <tr style=\"text-align: right;\">\n",
              "      <th></th>\n",
              "      <th>count</th>\n",
              "    </tr>\n",
              "    <tr>\n",
              "      <th>stress</th>\n",
              "      <th></th>\n",
              "    </tr>\n",
              "  </thead>\n",
              "  <tbody>\n",
              "    <tr>\n",
              "      <th>0</th>\n",
              "      <td>70996</td>\n",
              "    </tr>\n",
              "    <tr>\n",
              "      <th>1</th>\n",
              "      <td>12030</td>\n",
              "    </tr>\n",
              "  </tbody>\n",
              "</table>\n",
              "</div><br><label><b>dtype:</b> int64</label>"
            ]
          },
          "metadata": {},
          "execution_count": 10
        }
      ]
    },
    {
      "cell_type": "code",
      "source": [
        "ros = RandomUnderSampler(sampling_strategy=0.7)\n",
        "\n",
        "X_res, y_res = ros.fit_resample(X, y)"
      ],
      "metadata": {
        "id": "iEhmm1SlRPmw"
      },
      "execution_count": 11,
      "outputs": []
    },
    {
      "cell_type": "code",
      "source": [
        "y_res.value_counts()"
      ],
      "metadata": {
        "colab": {
          "base_uri": "https://localhost:8080/",
          "height": 178
        },
        "id": "uy3JAOj03c4T",
        "outputId": "d8c7cfc7-1195-47d4-e4c2-11ff3a39b435"
      },
      "execution_count": 12,
      "outputs": [
        {
          "output_type": "execute_result",
          "data": {
            "text/plain": [
              "stress\n",
              "0    17185\n",
              "1    12030\n",
              "Name: count, dtype: int64"
            ],
            "text/html": [
              "<div>\n",
              "<style scoped>\n",
              "    .dataframe tbody tr th:only-of-type {\n",
              "        vertical-align: middle;\n",
              "    }\n",
              "\n",
              "    .dataframe tbody tr th {\n",
              "        vertical-align: top;\n",
              "    }\n",
              "\n",
              "    .dataframe thead th {\n",
              "        text-align: right;\n",
              "    }\n",
              "</style>\n",
              "<table border=\"1\" class=\"dataframe\">\n",
              "  <thead>\n",
              "    <tr style=\"text-align: right;\">\n",
              "      <th></th>\n",
              "      <th>count</th>\n",
              "    </tr>\n",
              "    <tr>\n",
              "      <th>stress</th>\n",
              "      <th></th>\n",
              "    </tr>\n",
              "  </thead>\n",
              "  <tbody>\n",
              "    <tr>\n",
              "      <th>0</th>\n",
              "      <td>17185</td>\n",
              "    </tr>\n",
              "    <tr>\n",
              "      <th>1</th>\n",
              "      <td>12030</td>\n",
              "    </tr>\n",
              "  </tbody>\n",
              "</table>\n",
              "</div><br><label><b>dtype:</b> int64</label>"
            ]
          },
          "metadata": {},
          "execution_count": 12
        }
      ]
    },
    {
      "cell_type": "code",
      "source": [
        "X_train, X_test, y_train, y_test = train_test_split(X_res, y_res, test_size=0.20, random_state=92)"
      ],
      "metadata": {
        "id": "quA4jsFz3fbk"
      },
      "execution_count": 13,
      "outputs": []
    },
    {
      "cell_type": "code",
      "source": [
        "model_lgb = lgb.LGBMClassifier(random_state=92)\n",
        "model_lgb.fit(X_train, y_train)\n",
        "\n",
        "y_pred_lgb = model_lgb.predict(X_test)\n",
        "report = classification_report(y_test, y_pred_lgb)\n",
        "print(report)"
      ],
      "metadata": {
        "colab": {
          "base_uri": "https://localhost:8080/"
        },
        "id": "2BJRw4AsSkcO",
        "outputId": "e17ab5c1-af56-4283-9b6a-ff4e8f64f2d2"
      },
      "execution_count": 14,
      "outputs": [
        {
          "output_type": "stream",
          "name": "stdout",
          "text": [
            "[LightGBM] [Info] Number of positive: 9664, number of negative: 13708\n",
            "[LightGBM] [Info] Auto-choosing col-wise multi-threading, the overhead of testing was 0.018511 seconds.\n",
            "You can set `force_col_wise=true` to remove the overhead.\n",
            "[LightGBM] [Info] Total Bins 16320\n",
            "[LightGBM] [Info] Number of data points in the train set: 23372, number of used features: 64\n",
            "[LightGBM] [Info] [binary:BoostFromScore]: pavg=0.413486 -> initscore=-0.349572\n",
            "[LightGBM] [Info] Start training from score -0.349572\n",
            "              precision    recall  f1-score   support\n",
            "\n",
            "           0       0.92      0.74      0.82      3477\n",
            "           1       0.70      0.90      0.79      2366\n",
            "\n",
            "    accuracy                           0.81      5843\n",
            "   macro avg       0.81      0.82      0.80      5843\n",
            "weighted avg       0.83      0.81      0.81      5843\n",
            "\n"
          ]
        }
      ]
    },
    {
      "cell_type": "code",
      "source": [
        "from sklearn.ensemble import RandomForestClassifier\n",
        "\n",
        "modelrf = RandomForestClassifier(random_state=92)\n",
        "modelrf.fit(X_train, y_train)\n",
        "\n",
        "y_pred_rf = modelrf.predict(X_test)\n",
        "report = classification_report(y_test, y_pred_rf)\n",
        "print(report)"
      ],
      "metadata": {
        "colab": {
          "base_uri": "https://localhost:8080/"
        },
        "id": "xnw8PcTlESxp",
        "outputId": "a36718d4-d453-4691-a458-4179b86f00f3"
      },
      "execution_count": 15,
      "outputs": [
        {
          "output_type": "stream",
          "name": "stdout",
          "text": [
            "              precision    recall  f1-score   support\n",
            "\n",
            "           0       0.89      0.75      0.82      3477\n",
            "           1       0.70      0.87      0.78      2366\n",
            "\n",
            "    accuracy                           0.80      5843\n",
            "   macro avg       0.80      0.81      0.80      5843\n",
            "weighted avg       0.82      0.80      0.80      5843\n",
            "\n"
          ]
        }
      ]
    },
    {
      "cell_type": "code",
      "source": [
        "from sklearn.ensemble import ExtraTreesClassifier\n",
        "\n",
        "modelext = ExtraTreesClassifier(random_state=92)\n",
        "modelext.fit(X_train, y_train)\n",
        "\n",
        "y_pred_ext = modelext.predict(X_test)\n",
        "report = classification_report(y_test, y_pred_ext)\n",
        "print(report)"
      ],
      "metadata": {
        "colab": {
          "base_uri": "https://localhost:8080/"
        },
        "id": "9pYEYGNGoXzp",
        "outputId": "0264bd92-35c4-4a62-f75f-191c0ed5d388"
      },
      "execution_count": 26,
      "outputs": [
        {
          "output_type": "stream",
          "name": "stdout",
          "text": [
            "              precision    recall  f1-score   support\n",
            "\n",
            "           0       0.90      0.75      0.82      3477\n",
            "           1       0.70      0.88      0.78      2366\n",
            "\n",
            "    accuracy                           0.80      5843\n",
            "   macro avg       0.80      0.81      0.80      5843\n",
            "weighted avg       0.82      0.80      0.80      5843\n",
            "\n"
          ]
        }
      ]
    },
    {
      "cell_type": "code",
      "source": [
        "from sklearn.dummy import DummyClassifier\n",
        "\n",
        "dummy = DummyClassifier()\n",
        "dummy.fit(X_train, y_train)\n",
        "\n",
        "y_pred_dummy = dummy.predict(X_test)\n",
        "report = classification_report(y_test, y_pred_dummy)\n",
        "print(report)"
      ],
      "metadata": {
        "colab": {
          "base_uri": "https://localhost:8080/"
        },
        "id": "FMGO7WgZofdj",
        "outputId": "1d056d37-1be6-4034-c564-53d13fb41de7"
      },
      "execution_count": 17,
      "outputs": [
        {
          "output_type": "stream",
          "name": "stdout",
          "text": [
            "              precision    recall  f1-score   support\n",
            "\n",
            "           0       0.60      1.00      0.75      3477\n",
            "           1       0.00      0.00      0.00      2366\n",
            "\n",
            "    accuracy                           0.60      5843\n",
            "   macro avg       0.30      0.50      0.37      5843\n",
            "weighted avg       0.35      0.60      0.44      5843\n",
            "\n"
          ]
        }
      ]
    },
    {
      "cell_type": "code",
      "source": [
        "dump(model_lgb, 'lgb_model_drought_3mer.joblib')\n",
        "print('LGB - Cold Model created.')"
      ],
      "metadata": {
        "colab": {
          "base_uri": "https://localhost:8080/"
        },
        "id": "YNA653SkYK1q",
        "outputId": "f4c9e3d9-6146-4d81-fc53-91044729a485"
      },
      "execution_count": 18,
      "outputs": [
        {
          "output_type": "stream",
          "name": "stdout",
          "text": [
            "LGB - Cold Model created.\n"
          ]
        }
      ]
    },
    {
      "cell_type": "code",
      "source": [
        "dump(modelrf, 'rf_model_drought_3mer.joblib')\n",
        "print('RF - Cold Model created.')"
      ],
      "metadata": {
        "colab": {
          "base_uri": "https://localhost:8080/"
        },
        "id": "u9SnahAzNH9g",
        "outputId": "9e9c972a-4288-4661-c56b-400e2d015204"
      },
      "execution_count": 19,
      "outputs": [
        {
          "output_type": "stream",
          "name": "stdout",
          "text": [
            "RF - Cold Model created.\n"
          ]
        }
      ]
    },
    {
      "cell_type": "code",
      "source": [
        "cnf_matrix = confusion_matrix(y_test, y_pred_lgb)\n",
        "\n",
        "def plot_confusion_matrix(cm, classes,\n",
        "                          normalize=False,\n",
        "                          title='Confusion Matrix - LGB Model',\n",
        "                          cmap=plt.cm.Blues):\n",
        "\n",
        "    if normalize:\n",
        "        cm = cm.astype('float') / cm.sum(axis=1)[:, np.newaxis]\n",
        "\n",
        "    #plt.ylim(0.5, 0.5)\n",
        "    plt.imshow(cm, interpolation='nearest', cmap=cmap)\n",
        "    plt.title(title)\n",
        "    plt.colorbar()\n",
        "    tick_marks = np.arange(len(classes))\n",
        "    plt.xticks(tick_marks, classes, rotation=45)\n",
        "    plt.yticks(tick_marks, classes)\n",
        "    plt.ylim(1.5, -0.5)\n",
        "\n",
        "    fmt = '.2f' if normalize else 'd'\n",
        "    thresh = cm.max() / 2.\n",
        "    for i, j in itertools.product(range(cm.shape[0]), range(cm.shape[1])):\n",
        "        plt.text(j, i, format(cm[i, j], fmt),\n",
        "                 horizontalalignment=\"center\",\n",
        "                 color=\"white\" if cm[i, j] > thresh else \"black\")\n",
        "\n",
        "    plt.ylabel('Real class')\n",
        "    plt.xlabel('Predicted class')\n",
        "    plt.tight_layout()\n",
        "\n",
        "plot_confusion_matrix(cnf_matrix, classes=['Control: 0', 'Drought: 1'])"
      ],
      "metadata": {
        "colab": {
          "base_uri": "https://localhost:8080/",
          "height": 487
        },
        "id": "soE4Os5xY3Mk",
        "outputId": "a546c751-e280-42ca-ac8a-09732207b3fe"
      },
      "execution_count": 20,
      "outputs": [
        {
          "output_type": "display_data",
          "data": {
            "text/plain": [
              "<Figure size 640x480 with 2 Axes>"
            ],
            "image/png": "[encoded data removed]"
          },
          "metadata": {}
        }
      ]
    },
    {
      "cell_type": "code",
      "source": [
        "cnf_matrix = confusion_matrix(y_test, y_pred_rf)\n",
        "\n",
        "def plot_confusion_matrix(cm, classes,\n",
        "                          normalize=False,\n",
        "                          title='Confusion Matrix - RF Model',\n",
        "                          cmap=plt.cm.Blues):\n",
        "\n",
        "    if normalize:\n",
        "        cm = cm.astype('float') / cm.sum(axis=1)[:, np.newaxis]\n",
        "\n",
        "    #plt.ylim(0.5, 0.5)\n",
        "    plt.imshow(cm, interpolation='nearest', cmap=cmap)\n",
        "    plt.title(title)\n",
        "    plt.colorbar()\n",
        "    tick_marks = np.arange(len(classes))\n",
        "    plt.xticks(tick_marks, classes, rotation=45)\n",
        "    plt.yticks(tick_marks, classes)\n",
        "    plt.ylim(1.5, -0.5)\n",
        "\n",
        "    fmt = '.2f' if normalize else 'd'\n",
        "    thresh = cm.max() / 2.\n",
        "    for i, j in itertools.product(range(cm.shape[0]), range(cm.shape[1])):\n",
        "        plt.text(j, i, format(cm[i, j], fmt),\n",
        "                 horizontalalignment=\"center\",\n",
        "                 color=\"white\" if cm[i, j] > thresh else \"black\")\n",
        "\n",
        "    plt.ylabel('Real class')\n",
        "    plt.xlabel('Predicted class')\n",
        "    plt.tight_layout()\n",
        "\n",
        "plot_confusion_matrix(cnf_matrix, classes=['Control: 0', 'Drought: 1'])"
      ],
      "metadata": {
        "colab": {
          "base_uri": "https://localhost:8080/",
          "height": 487
        },
        "id": "4w71YtthNc90",
        "outputId": "e358ca55-f7ef-4144-ed90-95f780e91153"
      },
      "execution_count": 21,
      "outputs": [
        {
          "output_type": "display_data",
          "data": {
            "text/plain": [
              "<Figure size 640x480 with 2 Axes>"
            ],
            "image/png": "[encoded data removed]"
          },
          "metadata": {}
        }
      ]
    },
    {
      "cell_type": "code",
      "source": [
        "from sklearn.model_selection import train_test_split, cross_val_score\n",
        "scores = cross_val_score(model_lgb, X_res, y_res, cv=4)\n",
        "print(\"Scores:\", scores)\n",
        "print(\"Median:\", scores.mean())"
      ],
      "metadata": {
        "colab": {
          "base_uri": "https://localhost:8080/"
        },
        "id": "bNlYngCPPDVP",
        "outputId": "194f48d0-8b64-44a9-d4b0-30e19fc6b493"
      },
      "execution_count": 22,
      "outputs": [
        {
          "output_type": "stream",
          "name": "stdout",
          "text": [
            "[LightGBM] [Info] Number of positive: 9023, number of negative: 12888\n",
            "[LightGBM] [Info] Auto-choosing col-wise multi-threading, the overhead of testing was 0.016901 seconds.\n",
            "You can set `force_col_wise=true` to remove the overhead.\n",
            "[LightGBM] [Info] Total Bins 16320\n",
            "[LightGBM] [Info] Number of data points in the train set: 21911, number of used features: 64\n",
            "[LightGBM] [Info] [binary:BoostFromScore]: pavg=0.411802 -> initscore=-0.356520\n",
            "[LightGBM] [Info] Start training from score -0.356520\n",
            "[LightGBM] [Info] Number of positive: 9022, number of negative: 12889\n",
            "[LightGBM] [Info] Auto-choosing col-wise multi-threading, the overhead of testing was 0.016504 seconds.\n",
            "You can set `force_col_wise=true` to remove the overhead.\n",
            "[LightGBM] [Info] Total Bins 16320\n",
            "[LightGBM] [Info] Number of data points in the train set: 21911, number of used features: 64\n",
            "[LightGBM] [Info] [binary:BoostFromScore]: pavg=0.411757 -> initscore=-0.356708\n",
            "[LightGBM] [Info] Start training from score -0.356708\n",
            "[LightGBM] [Info] Number of positive: 9022, number of negative: 12889\n",
            "[LightGBM] [Info] Auto-choosing col-wise multi-threading, the overhead of testing was 0.027839 seconds.\n",
            "You can set `force_col_wise=true` to remove the overhead.\n",
            "[LightGBM] [Info] Total Bins 16320\n",
            "[LightGBM] [Info] Number of data points in the train set: 21911, number of used features: 64\n",
            "[LightGBM] [Info] [binary:BoostFromScore]: pavg=0.411757 -> initscore=-0.356708\n",
            "[LightGBM] [Info] Start training from score -0.356708\n",
            "[LightGBM] [Info] Number of positive: 9023, number of negative: 12889\n",
            "[LightGBM] [Info] Auto-choosing col-wise multi-threading, the overhead of testing was 0.016592 seconds.\n",
            "You can set `force_col_wise=true` to remove the overhead.\n",
            "[LightGBM] [Info] Total Bins 16320\n",
            "[LightGBM] [Info] Number of data points in the train set: 21912, number of used features: 64\n",
            "[LightGBM] [Info] [binary:BoostFromScore]: pavg=0.411783 -> initscore=-0.356597\n",
            "[LightGBM] [Info] Start training from score -0.356597\n",
            "Scores: [0.7196057  0.82845016 0.8228368  0.79282487]\n",
            "Median: 0.7909293820121336\n"
          ]
        }
      ]
    },
    {
      "cell_type": "code",
      "source": [
        "from sklearn.model_selection import train_test_split, cross_val_score\n",
        "scores = cross_val_score(modelrf, X_res, y_res, cv=4)\n",
        "print(\"Scores:\", scores)\n",
        "print(\"Median:\", scores.mean())"
      ],
      "metadata": {
        "colab": {
          "base_uri": "https://localhost:8080/"
        },
        "id": "mtvM0sFPSVq9",
        "outputId": "684e4a33-c1c2-46a0-cadc-68f6218a8f2b"
      },
      "execution_count": 23,
      "outputs": [
        {
          "output_type": "stream",
          "name": "stdout",
          "text": [
            "Scores: [0.72029025 0.8203724  0.81284228 0.7774887 ]\n",
            "Median: 0.7827484080196904\n"
          ]
        }
      ]
    },
    {
      "cell_type": "code",
      "source": [
        "import numpy as np\n",
        "y_prob = model_lgb.predict_proba(X_test)[:, 1]\n",
        "\n",
        "thresholds = np.arange(0.0, 1.1, 0.1)\n",
        "results = []\n",
        "\n",
        "for threshold in thresholds:\n",
        "    y_pred_test = (y_prob >= threshold).astype(int)\n",
        "\n",
        "    tn, fp, fn, tp = confusion_matrix(y_test, y_pred_test).ravel()\n",
        "    precision = tp / (tp + fp) if (tp + fp) > 0 else 0\n",
        "    recall = tp / (tp + fn) if (tp + fn) > 0 else 0\n",
        "    f1 = 2 * (precision * recall) / (precision + recall) if (precision + recall) > 0 else 0\n",
        "    auc = roc_auc_score(y_test, y_prob)\n",
        "    accuracy = accuracy_score(y_test, y_pred_test)\n",
        "\n",
        "    results.append({\n",
        "        'Threshold': threshold,\n",
        "        'Precision': precision,\n",
        "        'Recall': recall,\n",
        "        'F1 Score': f1,\n",
        "        'AUC': auc,\n",
        "        'Acurácia': accuracy\n",
        "    })\n",
        "\n",
        "results_df = pd.DataFrame(results)\n",
        "print(results_df)"
      ],
      "metadata": {
        "colab": {
          "base_uri": "https://localhost:8080/"
        },
        "id": "1PqmGwVHU_GA",
        "outputId": "65c4b95b-f206-4c0e-f7da-1b1eb068ba21"
      },
      "execution_count": 24,
      "outputs": [
        {
          "output_type": "stream",
          "name": "stdout",
          "text": [
            "    Threshold  Precision  Recall  F1 Score  AUC  Acurácia\n",
            "0        0.00       0.40    1.00      0.58 0.85      0.40\n",
            "1        0.10       0.63    0.96      0.76 0.85      0.75\n",
            "2        0.20       0.69    0.94      0.79 0.85      0.80\n",
            "3        0.30       0.70    0.93      0.80 0.85      0.81\n",
            "4        0.40       0.70    0.92      0.79 0.85      0.81\n",
            "5        0.50       0.70    0.90      0.79 0.85      0.81\n",
            "6        0.60       0.71    0.83      0.77 0.85      0.79\n",
            "7        0.70       0.71    0.54      0.62 0.85      0.73\n",
            "8        0.80       0.73    0.07      0.13 0.85      0.61\n",
            "9        0.90       1.00    0.00      0.00 0.85      0.60\n",
            "10       1.00       0.00    0.00      0.00 0.85      0.60\n"
          ]
        }
      ]
    },
    {
      "cell_type": "code",
      "source": [
        "from sklearn.metrics import confusion_matrix, classification_report, roc_auc_score, accuracy_score\n",
        "import numpy as np\n",
        "y_prob = modelrf.predict_proba(X_test)[:, 1]\n",
        "\n",
        "thresholds = np.arange(0.0, 1.1, 0.1)\n",
        "results = []\n",
        "\n",
        "for threshold in thresholds:\n",
        "    y_pred_test = (y_prob >= threshold).astype(int)\n",
        "\n",
        "    tn, fp, fn, tp = confusion_matrix(y_test, y_pred_test).ravel()\n",
        "    precision = tp / (tp + fp) if (tp + fp) > 0 else 0\n",
        "    recall = tp / (tp + fn) if (tp + fn) > 0 else 0\n",
        "    f1 = 2 * (precision * recall) / (precision + recall) if (precision + recall) > 0 else 0\n",
        "    auc = roc_auc_score(y_test, y_prob)\n",
        "    accuracy = accuracy_score(y_test, y_pred_test)\n",
        "\n",
        "    results.append({\n",
        "        'Threshold': threshold,\n",
        "        'Precision': precision,\n",
        "        'Recall': recall,\n",
        "        'F1 Score': f1,\n",
        "        'AUC': auc,\n",
        "        'Acurácia': accuracy\n",
        "    })\n",
        "\n",
        "results_df = pd.DataFrame(results)\n",
        "print(results_df)"
      ],
      "metadata": {
        "colab": {
          "base_uri": "https://localhost:8080/"
        },
        "id": "_6TYUIjkNxYP",
        "outputId": "8a0c95df-c578-4ba4-953c-c34e612cfa17"
      },
      "execution_count": 25,
      "outputs": [
        {
          "output_type": "stream",
          "name": "stdout",
          "text": [
            "    Threshold  Precision  Recall  F1 Score  AUC  Acurácia\n",
            "0        0.00       0.40    1.00      0.58 0.85      0.40\n",
            "1        0.10       0.57    0.97      0.72 0.85      0.69\n",
            "2        0.20       0.67    0.94      0.78 0.85      0.79\n",
            "3        0.30       0.70    0.93      0.80 0.85      0.81\n",
            "4        0.40       0.70    0.92      0.80 0.85      0.81\n",
            "5        0.50       0.70    0.88      0.78 0.85      0.80\n",
            "6        0.60       0.71    0.73      0.72 0.85      0.77\n",
            "7        0.70       0.74    0.42      0.53 0.85      0.70\n",
            "8        0.80       0.79    0.15      0.25 0.85      0.64\n",
            "9        0.90       0.86    0.01      0.02 0.85      0.60\n",
            "10       1.00       0.00    0.00      0.00 0.85      0.60\n"
          ]
        }
      ]
    }
  ]
}