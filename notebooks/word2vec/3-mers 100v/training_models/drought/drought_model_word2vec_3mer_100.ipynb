{
  "nbformat": 4,
  "nbformat_minor": 0,
  "metadata": {
    "colab": {
      "provenance": []
    },
    "kernelspec": {
      "name": "python3",
      "display_name": "Python 3"
    },
    "language_info": {
      "name": "python"
    }
  },
  "cells": [
    {
      "cell_type": "code",
      "execution_count": 1,
      "metadata": {
        "colab": {
          "base_uri": "https://localhost:8080/"
        },
        "collapsed": true,
        "id": "yD1HeCgT4w0x",
        "outputId": "21787682-e6b4-43a3-c764-43b67423fc5a"
      },
      "outputs": [
        {
          "output_type": "stream",
          "name": "stdout",
          "text": [
            "Collecting lazypredict\n",
            "  Downloading lazypredict-0.2.13-py2.py3-none-any.whl.metadata (12 kB)\n",
            "Collecting scikit-learn==1.3.2\n",
            "  Downloading scikit_learn-1.3.2-cp311-cp311-manylinux_2_17_x86_64.manylinux2014_x86_64.whl.metadata (11 kB)\n",
            "Requirement already satisfied: numpy<2.0,>=1.17.3 in /usr/local/lib/python3.11/dist-packages (from scikit-learn==1.3.2) (1.26.4)\n",
            "Requirement already satisfied: scipy>=1.5.0 in /usr/local/lib/python3.11/dist-packages (from scikit-learn==1.3.2) (1.13.1)\n",
            "Requirement already satisfied: joblib>=1.1.1 in /usr/local/lib/python3.11/dist-packages (from scikit-learn==1.3.2) (1.4.2)\n",
            "Requirement already satisfied: threadpoolctl>=2.0.0 in /usr/local/lib/python3.11/dist-packages (from scikit-learn==1.3.2) (3.5.0)\n",
            "Requirement already satisfied: click in /usr/local/lib/python3.11/dist-packages (from lazypredict) (8.1.8)\n",
            "Requirement already satisfied: pandas in /usr/local/lib/python3.11/dist-packages (from lazypredict) (2.2.2)\n",
            "Requirement already satisfied: tqdm in /usr/local/lib/python3.11/dist-packages (from lazypredict) (4.67.1)\n",
            "Requirement already satisfied: lightgbm in /usr/local/lib/python3.11/dist-packages (from lazypredict) (4.5.0)\n",
            "Requirement already satisfied: xgboost in /usr/local/lib/python3.11/dist-packages (from lazypredict) (2.1.4)\n",
            "Requirement already satisfied: python-dateutil>=2.8.2 in /usr/local/lib/python3.11/dist-packages (from pandas->lazypredict) (2.8.2)\n",
            "Requirement already satisfied: pytz>=2020.1 in /usr/local/lib/python3.11/dist-packages (from pandas->lazypredict) (2025.1)\n",
            "Requirement already satisfied: tzdata>=2022.7 in /usr/local/lib/python3.11/dist-packages (from pandas->lazypredict) (2025.1)\n",
            "Requirement already satisfied: nvidia-nccl-cu12 in /usr/local/lib/python3.11/dist-packages (from xgboost->lazypredict) (2.21.5)\n",
            "Requirement already satisfied: six>=1.5 in /usr/local/lib/python3.11/dist-packages (from python-dateutil>=2.8.2->pandas->lazypredict) (1.17.0)\n",
            "Downloading scikit_learn-1.3.2-cp311-cp311-manylinux_2_17_x86_64.manylinux2014_x86_64.whl (10.9 MB)\n",
            "\u001b[2K   \u001b[90m━━━━━━━━━━━━━━━━━━━━━━━━━━━━━━━━━━━━━━━━\u001b[0m \u001b[32m10.9/10.9 MB\u001b[0m \u001b[31m32.3 MB/s\u001b[0m eta \u001b[36m0:00:00\u001b[0m\n",
            "\u001b[?25hDownloading lazypredict-0.2.13-py2.py3-none-any.whl (12 kB)\n",
            "Installing collected packages: scikit-learn, lazypredict\n",
            "  Attempting uninstall: scikit-learn\n",
            "    Found existing installation: scikit-learn 1.6.1\n",
            "    Uninstalling scikit-learn-1.6.1:\n",
            "      Successfully uninstalled scikit-learn-1.6.1\n",
            "Successfully installed lazypredict-0.2.13 scikit-learn-1.3.2\n"
          ]
        }
      ],
      "source": [
        "!pip install lazypredict scikit-learn==1.3.2"
      ]
    },
    {
      "cell_type": "code",
      "source": [
        "import pandas as pd\n",
        "from sklearn.model_selection import train_test_split\n",
        "from sklearn.metrics import classification_report\n",
        "from imblearn.under_sampling import RandomUnderSampler\n",
        "from imblearn.over_sampling import RandomOverSampler\n",
        "import lightgbm as lgb\n",
        "from joblib import dump\n",
        "import itertools\n",
        "import matplotlib.pyplot as plt\n",
        "import numpy as np\n",
        "from lazypredict.Supervised import LazyClassifier\n",
        "from sklearn.metrics import confusion_matrix, classification_report, roc_auc_score, accuracy_score, precision_score, recall_score, f1_score"
      ],
      "metadata": {
        "id": "hqm0tN3-5CiD"
      },
      "execution_count": 1,
      "outputs": []
    },
    {
      "cell_type": "code",
      "source": [
        "rice_df = pd.read_excel('rice_w2vec_3mer_100_dataset.xlsx')\n",
        "rice_df = rice_df.drop(['circName','tissue','chr','start','end','strand','start_anno', 'circID',\t'gene', 'isoform', 'width', 'detection_score', 'stress_detection_score', 'end_anno', 'antisense', 'algorithm', 'seq', 'exonSeq', 'predAA', 'miRNA','superCircRNARegion'], axis=1)"
      ],
      "metadata": {
        "id": "iBj5YzTd5Glc"
      },
      "execution_count": 2,
      "outputs": []
    },
    {
      "cell_type": "code",
      "source": [
        "maize_df = pd.read_excel('maize_w2vec_3mer_100_dataset.xlsx')\n",
        "maize_df = maize_df.drop(['circName','tissue','chr','start','end','strand','start_anno', 'circID',\t'gene', 'isoform', 'width', 'detection_score', 'stress_detection_score', 'end_anno', 'antisense', 'algorithm', 'seq', 'exonSeq', 'predAA', 'miRNA','superCircRNARegion'], axis=1)"
      ],
      "metadata": {
        "id": "mYzTJkQVFfun"
      },
      "execution_count": 3,
      "outputs": []
    },
    {
      "cell_type": "code",
      "source": [
        "df = rice_df._append(maize_df, ignore_index = True)"
      ],
      "metadata": {
        "id": "odip76PbFhku"
      },
      "execution_count": 4,
      "outputs": []
    },
    {
      "cell_type": "code",
      "source": [
        "df_drought = df.query('stress == \"-\" or stress == \"drought\"').replace('-', 0).replace('drought', 1)"
      ],
      "metadata": {
        "id": "lGGqoHVH5PN8"
      },
      "execution_count": 5,
      "outputs": []
    },
    {
      "cell_type": "code",
      "source": [
        "# Define X and y (target) variables\n",
        "X = df_drought.drop(['stress'], axis=1)\n",
        "y = df_drought['stress']"
      ],
      "metadata": {
        "id": "KE4p6mxJ5RP4"
      },
      "execution_count": 6,
      "outputs": []
    },
    {
      "cell_type": "code",
      "source": [
        "y.value_counts()"
      ],
      "metadata": {
        "colab": {
          "base_uri": "https://localhost:8080/",
          "height": 178
        },
        "id": "C5yqL8hj6GKg",
        "outputId": "d181224a-eb07-465a-ff0b-cb49ef218fef"
      },
      "execution_count": 7,
      "outputs": [
        {
          "output_type": "execute_result",
          "data": {
            "text/plain": [
              "stress\n",
              "0    70996\n",
              "1    12030\n",
              "Name: count, dtype: int64"
            ],
            "text/html": [
              "<div>\n",
              "<style scoped>\n",
              "    .dataframe tbody tr th:only-of-type {\n",
              "        vertical-align: middle;\n",
              "    }\n",
              "\n",
              "    .dataframe tbody tr th {\n",
              "        vertical-align: top;\n",
              "    }\n",
              "\n",
              "    .dataframe thead th {\n",
              "        text-align: right;\n",
              "    }\n",
              "</style>\n",
              "<table border=\"1\" class=\"dataframe\">\n",
              "  <thead>\n",
              "    <tr style=\"text-align: right;\">\n",
              "      <th></th>\n",
              "      <th>count</th>\n",
              "    </tr>\n",
              "    <tr>\n",
              "      <th>stress</th>\n",
              "      <th></th>\n",
              "    </tr>\n",
              "  </thead>\n",
              "  <tbody>\n",
              "    <tr>\n",
              "      <th>0</th>\n",
              "      <td>70996</td>\n",
              "    </tr>\n",
              "    <tr>\n",
              "      <th>1</th>\n",
              "      <td>12030</td>\n",
              "    </tr>\n",
              "  </tbody>\n",
              "</table>\n",
              "</div><br><label><b>dtype:</b> int64</label>"
            ]
          },
          "metadata": {},
          "execution_count": 7
        }
      ]
    },
    {
      "cell_type": "code",
      "source": [
        "ros = RandomUnderSampler(sampling_strategy=0.55)\n",
        "\n",
        "X_res, y_res = ros.fit_resample(X, y)"
      ],
      "metadata": {
        "id": "xOX9qz_S6JO2"
      },
      "execution_count": 8,
      "outputs": []
    },
    {
      "cell_type": "code",
      "source": [
        "y_res.value_counts()"
      ],
      "metadata": {
        "colab": {
          "base_uri": "https://localhost:8080/",
          "height": 178
        },
        "id": "yd9cL3Fo6Lpw",
        "outputId": "03f88bda-b75b-4c0d-e005-153f5030ac83"
      },
      "execution_count": 9,
      "outputs": [
        {
          "output_type": "execute_result",
          "data": {
            "text/plain": [
              "stress\n",
              "0    21872\n",
              "1    12030\n",
              "Name: count, dtype: int64"
            ],
            "text/html": [
              "<div>\n",
              "<style scoped>\n",
              "    .dataframe tbody tr th:only-of-type {\n",
              "        vertical-align: middle;\n",
              "    }\n",
              "\n",
              "    .dataframe tbody tr th {\n",
              "        vertical-align: top;\n",
              "    }\n",
              "\n",
              "    .dataframe thead th {\n",
              "        text-align: right;\n",
              "    }\n",
              "</style>\n",
              "<table border=\"1\" class=\"dataframe\">\n",
              "  <thead>\n",
              "    <tr style=\"text-align: right;\">\n",
              "      <th></th>\n",
              "      <th>count</th>\n",
              "    </tr>\n",
              "    <tr>\n",
              "      <th>stress</th>\n",
              "      <th></th>\n",
              "    </tr>\n",
              "  </thead>\n",
              "  <tbody>\n",
              "    <tr>\n",
              "      <th>0</th>\n",
              "      <td>21872</td>\n",
              "    </tr>\n",
              "    <tr>\n",
              "      <th>1</th>\n",
              "      <td>12030</td>\n",
              "    </tr>\n",
              "  </tbody>\n",
              "</table>\n",
              "</div><br><label><b>dtype:</b> int64</label>"
            ]
          },
          "metadata": {},
          "execution_count": 9
        }
      ]
    },
    {
      "cell_type": "code",
      "source": [
        "X_train, X_test, y_train, y_test = train_test_split(X_res, y_res, test_size=0.20, random_state=106)"
      ],
      "metadata": {
        "id": "2AbMXQww6NSz"
      },
      "execution_count": 10,
      "outputs": []
    },
    {
      "cell_type": "code",
      "source": [
        "y_test.value_counts()"
      ],
      "metadata": {
        "colab": {
          "base_uri": "https://localhost:8080/",
          "height": 178
        },
        "id": "WL2bUYnJFxt8",
        "outputId": "5ad9ac52-54d3-43dd-aaeb-98e455878a3f"
      },
      "execution_count": 11,
      "outputs": [
        {
          "output_type": "execute_result",
          "data": {
            "text/plain": [
              "stress\n",
              "0    4429\n",
              "1    2352\n",
              "Name: count, dtype: int64"
            ],
            "text/html": [
              "<div>\n",
              "<style scoped>\n",
              "    .dataframe tbody tr th:only-of-type {\n",
              "        vertical-align: middle;\n",
              "    }\n",
              "\n",
              "    .dataframe tbody tr th {\n",
              "        vertical-align: top;\n",
              "    }\n",
              "\n",
              "    .dataframe thead th {\n",
              "        text-align: right;\n",
              "    }\n",
              "</style>\n",
              "<table border=\"1\" class=\"dataframe\">\n",
              "  <thead>\n",
              "    <tr style=\"text-align: right;\">\n",
              "      <th></th>\n",
              "      <th>count</th>\n",
              "    </tr>\n",
              "    <tr>\n",
              "      <th>stress</th>\n",
              "      <th></th>\n",
              "    </tr>\n",
              "  </thead>\n",
              "  <tbody>\n",
              "    <tr>\n",
              "      <th>0</th>\n",
              "      <td>4429</td>\n",
              "    </tr>\n",
              "    <tr>\n",
              "      <th>1</th>\n",
              "      <td>2352</td>\n",
              "    </tr>\n",
              "  </tbody>\n",
              "</table>\n",
              "</div><br><label><b>dtype:</b> int64</label>"
            ]
          },
          "metadata": {},
          "execution_count": 11
        }
      ]
    },
    {
      "cell_type": "code",
      "source": [
        "rus = RandomUnderSampler(sampling_strategy=1)\n",
        "\n",
        "X_test, y_test = rus.fit_resample(X_test, y_test)\n",
        "y_test.value_counts()"
      ],
      "metadata": {
        "colab": {
          "base_uri": "https://localhost:8080/",
          "height": 178
        },
        "id": "3-xY9HmaFzht",
        "outputId": "ac240464-af4d-482c-885f-d2b5477bcc80"
      },
      "execution_count": 12,
      "outputs": [
        {
          "output_type": "execute_result",
          "data": {
            "text/plain": [
              "stress\n",
              "0    2352\n",
              "1    2352\n",
              "Name: count, dtype: int64"
            ],
            "text/html": [
              "<div>\n",
              "<style scoped>\n",
              "    .dataframe tbody tr th:only-of-type {\n",
              "        vertical-align: middle;\n",
              "    }\n",
              "\n",
              "    .dataframe tbody tr th {\n",
              "        vertical-align: top;\n",
              "    }\n",
              "\n",
              "    .dataframe thead th {\n",
              "        text-align: right;\n",
              "    }\n",
              "</style>\n",
              "<table border=\"1\" class=\"dataframe\">\n",
              "  <thead>\n",
              "    <tr style=\"text-align: right;\">\n",
              "      <th></th>\n",
              "      <th>count</th>\n",
              "    </tr>\n",
              "    <tr>\n",
              "      <th>stress</th>\n",
              "      <th></th>\n",
              "    </tr>\n",
              "  </thead>\n",
              "  <tbody>\n",
              "    <tr>\n",
              "      <th>0</th>\n",
              "      <td>2352</td>\n",
              "    </tr>\n",
              "    <tr>\n",
              "      <th>1</th>\n",
              "      <td>2352</td>\n",
              "    </tr>\n",
              "  </tbody>\n",
              "</table>\n",
              "</div><br><label><b>dtype:</b> int64</label>"
            ]
          },
          "metadata": {},
          "execution_count": 12
        }
      ]
    },
    {
      "cell_type": "code",
      "source": [
        "ros = RandomOverSampler(sampling_strategy=1)\n",
        "\n",
        "X_train, y_train = ros.fit_resample(X_train, y_train)"
      ],
      "metadata": {
        "id": "6mDriSJVF0uU"
      },
      "execution_count": 13,
      "outputs": []
    },
    {
      "cell_type": "code",
      "source": [
        "y_train.value_counts()"
      ],
      "metadata": {
        "colab": {
          "base_uri": "https://localhost:8080/",
          "height": 178
        },
        "id": "mD-KQ0dfF4YA",
        "outputId": "760a8a6e-dc03-4288-d5ec-d49ffc5344a8"
      },
      "execution_count": 14,
      "outputs": [
        {
          "output_type": "execute_result",
          "data": {
            "text/plain": [
              "stress\n",
              "0    17443\n",
              "1    17443\n",
              "Name: count, dtype: int64"
            ],
            "text/html": [
              "<div>\n",
              "<style scoped>\n",
              "    .dataframe tbody tr th:only-of-type {\n",
              "        vertical-align: middle;\n",
              "    }\n",
              "\n",
              "    .dataframe tbody tr th {\n",
              "        vertical-align: top;\n",
              "    }\n",
              "\n",
              "    .dataframe thead th {\n",
              "        text-align: right;\n",
              "    }\n",
              "</style>\n",
              "<table border=\"1\" class=\"dataframe\">\n",
              "  <thead>\n",
              "    <tr style=\"text-align: right;\">\n",
              "      <th></th>\n",
              "      <th>count</th>\n",
              "    </tr>\n",
              "    <tr>\n",
              "      <th>stress</th>\n",
              "      <th></th>\n",
              "    </tr>\n",
              "  </thead>\n",
              "  <tbody>\n",
              "    <tr>\n",
              "      <th>0</th>\n",
              "      <td>17443</td>\n",
              "    </tr>\n",
              "    <tr>\n",
              "      <th>1</th>\n",
              "      <td>17443</td>\n",
              "    </tr>\n",
              "  </tbody>\n",
              "</table>\n",
              "</div><br><label><b>dtype:</b> int64</label>"
            ]
          },
          "metadata": {},
          "execution_count": 14
        }
      ]
    },
    {
      "cell_type": "code",
      "source": [
        "model_lgb = lgb.LGBMClassifier(random_state=106)\n",
        "model_lgb.fit(X_train, y_train)\n",
        "\n",
        "y_pred_lgb = model_lgb.predict(X_test)\n",
        "report = classification_report(y_test, y_pred_lgb)\n",
        "print(report)"
      ],
      "metadata": {
        "colab": {
          "base_uri": "https://localhost:8080/"
        },
        "id": "sY1wz7ZB6at_",
        "outputId": "1b197fe9-291b-4d94-8636-ae67590f89c2"
      },
      "execution_count": 15,
      "outputs": [
        {
          "output_type": "stream",
          "name": "stdout",
          "text": [
            "[LightGBM] [Info] Number of positive: 17443, number of negative: 17443\n",
            "[LightGBM] [Info] Auto-choosing col-wise multi-threading, the overhead of testing was 0.046216 seconds.\n",
            "You can set `force_col_wise=true` to remove the overhead.\n",
            "[LightGBM] [Info] Total Bins 25500\n",
            "[LightGBM] [Info] Number of data points in the train set: 34886, number of used features: 100\n",
            "[LightGBM] [Info] [binary:BoostFromScore]: pavg=0.500000 -> initscore=0.000000\n",
            "              precision    recall  f1-score   support\n",
            "\n",
            "           0       0.91      0.72      0.80      2352\n",
            "           1       0.77      0.93      0.84      2352\n",
            "\n",
            "    accuracy                           0.82      4704\n",
            "   macro avg       0.84      0.82      0.82      4704\n",
            "weighted avg       0.84      0.82      0.82      4704\n",
            "\n"
          ]
        }
      ]
    },
    {
      "cell_type": "code",
      "source": [
        "from sklearn.ensemble import RandomForestClassifier\n",
        "\n",
        "modelrf = RandomForestClassifier(random_state=106)\n",
        "modelrf.fit(X_train, y_train)\n",
        "\n",
        "y_pred_rf = modelrf.predict(X_test)\n",
        "report = classification_report(y_test, y_pred_rf)\n",
        "print(report)"
      ],
      "metadata": {
        "colab": {
          "base_uri": "https://localhost:8080/"
        },
        "id": "TKOGbNYE6dpK",
        "outputId": "e220d3a4-d62e-44ca-a74f-b3c14885343e"
      },
      "execution_count": 16,
      "outputs": [
        {
          "output_type": "stream",
          "name": "stdout",
          "text": [
            "              precision    recall  f1-score   support\n",
            "\n",
            "           0       0.85      0.74      0.79      2352\n",
            "           1       0.77      0.87      0.82      2352\n",
            "\n",
            "    accuracy                           0.81      4704\n",
            "   macro avg       0.81      0.81      0.81      4704\n",
            "weighted avg       0.81      0.81      0.81      4704\n",
            "\n"
          ]
        }
      ]
    },
    {
      "cell_type": "code",
      "source": [
        "from sklearn.ensemble import ExtraTreesClassifier\n",
        "\n",
        "modelext = ExtraTreesClassifier(random_state=106)\n",
        "modelext.fit(X_train, y_train)\n",
        "\n",
        "y_pred_ext = modelext.predict(X_test)\n",
        "report = classification_report(y_test, y_pred_ext)\n",
        "print(report)"
      ],
      "metadata": {
        "colab": {
          "base_uri": "https://localhost:8080/"
        },
        "id": "qfNN0TGp_cB-",
        "outputId": "4db0f172-5016-4a0c-94ea-81fc1e8de6d9"
      },
      "execution_count": 17,
      "outputs": [
        {
          "output_type": "stream",
          "name": "stdout",
          "text": [
            "              precision    recall  f1-score   support\n",
            "\n",
            "           0       0.81      0.76      0.78      2352\n",
            "           1       0.77      0.82      0.80      2352\n",
            "\n",
            "    accuracy                           0.79      4704\n",
            "   macro avg       0.79      0.79      0.79      4704\n",
            "weighted avg       0.79      0.79      0.79      4704\n",
            "\n"
          ]
        }
      ]
    },
    {
      "cell_type": "code",
      "source": [
        "from xgboost import XGBClassifier\n",
        "modelxg = XGBClassifier()\n",
        "modelxg.fit(X_train, y_train)\n",
        "\n",
        "y_pred_xg = modelxg.predict(X_test)\n",
        "report = classification_report(y_test, y_pred_xg)\n",
        "print(report)"
      ],
      "metadata": {
        "colab": {
          "base_uri": "https://localhost:8080/"
        },
        "id": "NUOR0xfeLEwS",
        "outputId": "c7cf3f89-bd13-45dd-ff37-174ab9cc032a"
      },
      "execution_count": 18,
      "outputs": [
        {
          "output_type": "stream",
          "name": "stdout",
          "text": [
            "              precision    recall  f1-score   support\n",
            "\n",
            "           0       0.83      0.74      0.79      2352\n",
            "           1       0.77      0.85      0.81      2352\n",
            "\n",
            "    accuracy                           0.80      4704\n",
            "   macro avg       0.80      0.80      0.80      4704\n",
            "weighted avg       0.80      0.80      0.80      4704\n",
            "\n"
          ]
        }
      ]
    },
    {
      "cell_type": "code",
      "source": [
        "from sklearn.dummy import DummyClassifier\n",
        "\n",
        "dummy = DummyClassifier()\n",
        "dummy.fit(X_train, y_train)\n",
        "\n",
        "y_pred_dummy = dummy.predict(X_test)\n",
        "report = classification_report(y_test, y_pred_dummy)\n",
        "print(report)"
      ],
      "metadata": {
        "colab": {
          "base_uri": "https://localhost:8080/"
        },
        "id": "2hHqkOqKLTEg",
        "outputId": "43d58ab4-054b-4894-9bff-ce988e2c21d1"
      },
      "execution_count": 19,
      "outputs": [
        {
          "output_type": "stream",
          "name": "stdout",
          "text": [
            "              precision    recall  f1-score   support\n",
            "\n",
            "           0       0.50      1.00      0.67      2352\n",
            "           1       0.00      0.00      0.00      2352\n",
            "\n",
            "    accuracy                           0.50      4704\n",
            "   macro avg       0.25      0.50      0.33      4704\n",
            "weighted avg       0.25      0.50      0.33      4704\n",
            "\n"
          ]
        }
      ]
    },
    {
      "cell_type": "code",
      "source": [
        "dump(model_lgb, 'lgb_model_drought_3mer_100.joblib')\n",
        "print('LGB - Drought Model created.')"
      ],
      "metadata": {
        "colab": {
          "base_uri": "https://localhost:8080/"
        },
        "id": "_1wKjR91_3RR",
        "outputId": "d32d8114-bcfb-4762-dc1f-308f0b099805"
      },
      "execution_count": 20,
      "outputs": [
        {
          "output_type": "stream",
          "name": "stdout",
          "text": [
            "LGB - Drought Model created.\n"
          ]
        }
      ]
    },
    {
      "cell_type": "code",
      "source": [
        "dump(modelrf, 'rf_model_drought_3mer_100.joblib')\n",
        "print('RF - drought Model created.')"
      ],
      "metadata": {
        "colab": {
          "base_uri": "https://localhost:8080/"
        },
        "id": "BJk5S7K1_6U3",
        "outputId": "0e8c0b82-bf1e-4aa9-900f-ba8ff0eebdb2"
      },
      "execution_count": 21,
      "outputs": [
        {
          "output_type": "stream",
          "name": "stdout",
          "text": [
            "RF - drought Model created.\n"
          ]
        }
      ]
    },
    {
      "cell_type": "code",
      "source": [
        "dump(modelxg, 'xg_model_cold_3mer_100.joblib')\n",
        "print('XGB - drought Model created.')"
      ],
      "metadata": {
        "colab": {
          "base_uri": "https://localhost:8080/"
        },
        "id": "GOuJlUTf_-NE",
        "outputId": "eb569b3b-2292-46c7-bdd8-1de5e6ee5c5f"
      },
      "execution_count": 22,
      "outputs": [
        {
          "output_type": "stream",
          "name": "stdout",
          "text": [
            "XGB - drought Model created.\n"
          ]
        }
      ]
    },
    {
      "cell_type": "code",
      "source": [
        "cnf_matrix = confusion_matrix(y_test, y_pred_lgb)\n",
        "\n",
        "def plot_confusion_matrix(cm, classes,\n",
        "                          normalize=False,\n",
        "                          title='Confusion Matrix - LGB Model',\n",
        "                          cmap=plt.cm.Blues):\n",
        "\n",
        "    if normalize:\n",
        "        cm = cm.astype('float') / cm.sum(axis=1)[:, np.newaxis]\n",
        "\n",
        "    #plt.ylim(0.5, 0.5)\n",
        "    plt.imshow(cm, interpolation='nearest', cmap=cmap)\n",
        "    plt.title(title)\n",
        "    plt.colorbar()\n",
        "    tick_marks = np.arange(len(classes))\n",
        "    plt.xticks(tick_marks, classes, rotation=45)\n",
        "    plt.yticks(tick_marks, classes)\n",
        "    plt.ylim(1.5, -0.5)\n",
        "\n",
        "    fmt = '.2f' if normalize else 'd'\n",
        "    thresh = cm.max() / 2.\n",
        "    for i, j in itertools.product(range(cm.shape[0]), range(cm.shape[1])):\n",
        "        plt.text(j, i, format(cm[i, j], fmt),\n",
        "                 horizontalalignment=\"center\",\n",
        "                 color=\"white\" if cm[i, j] > thresh else \"black\")\n",
        "\n",
        "    plt.ylabel('Real class')\n",
        "    plt.xlabel('Predicted class')\n",
        "    plt.tight_layout()\n",
        "\n",
        "plot_confusion_matrix(cnf_matrix, classes=['Control: 0', 'Cold: 1'])\n"
      ],
      "metadata": {
        "colab": {
          "base_uri": "https://localhost:8080/",
          "height": 487
        },
        "id": "fegdcD5hAM_Y",
        "outputId": "0eff1862-27a0-48d2-c474-9268c32fee7e"
      },
      "execution_count": 23,
      "outputs": [
        {
          "output_type": "display_data",
          "data": {
            "text/plain": [
              "<Figure size 640x480 with 2 Axes>"
            ],
            "image/png": "[encoded data removed]"
          },
          "metadata": {}
        }
      ]
    },
    {
      "cell_type": "code",
      "source": [
        "\n",
        "cnf_matrix = confusion_matrix(y_test, y_pred_rf)\n",
        "\n",
        "def plot_confusion_matrix(cm, classes,\n",
        "                          normalize=False,\n",
        "                          title='Confusion Matrix - RF Model',\n",
        "                          cmap=plt.cm.Blues):\n",
        "\n",
        "    if normalize:\n",
        "        cm = cm.astype('float') / cm.sum(axis=1)[:, np.newaxis]\n",
        "\n",
        "    #plt.ylim(0.5, 0.5)\n",
        "    plt.imshow(cm, interpolation='nearest', cmap=cmap)\n",
        "    plt.title(title)\n",
        "    plt.colorbar()\n",
        "    tick_marks = np.arange(len(classes))\n",
        "    plt.xticks(tick_marks, classes, rotation=45)\n",
        "    plt.yticks(tick_marks, classes)\n",
        "    plt.ylim(1.5, -0.5)\n",
        "\n",
        "    fmt = '.2f' if normalize else 'd'\n",
        "    thresh = cm.max() / 2.\n",
        "    for i, j in itertools.product(range(cm.shape[0]), range(cm.shape[1])):\n",
        "        plt.text(j, i, format(cm[i, j], fmt),\n",
        "                 horizontalalignment=\"center\",\n",
        "                 color=\"white\" if cm[i, j] > thresh else \"black\")\n",
        "\n",
        "    plt.ylabel('Real class')\n",
        "    plt.xlabel('Predicted class')\n",
        "    plt.tight_layout()\n",
        "\n",
        "plot_confusion_matrix(cnf_matrix, classes=['Control: 0', 'Cold: 1'])"
      ],
      "metadata": {
        "colab": {
          "base_uri": "https://localhost:8080/",
          "height": 487
        },
        "id": "5sv0-hJ3AN-D",
        "outputId": "ffdcc672-0ad9-4722-fe87-de0ff829a327"
      },
      "execution_count": 24,
      "outputs": [
        {
          "output_type": "display_data",
          "data": {
            "text/plain": [
              "<Figure size 640x480 with 2 Axes>"
            ],
            "image/png": "[encoded data removed]"
          },
          "metadata": {}
        }
      ]
    },
    {
      "cell_type": "code",
      "source": [
        "cnf_matrix = confusion_matrix(y_test, y_pred_xg)\n",
        "\n",
        "def plot_confusion_matrix(cm, classes,\n",
        "                          normalize=False,\n",
        "                          title='Confusion Matrix - XGB Model',\n",
        "                          cmap=plt.cm.Blues):\n",
        "\n",
        "    if normalize:\n",
        "        cm = cm.astype('float') / cm.sum(axis=1)[:, np.newaxis]\n",
        "\n",
        "    #plt.ylim(0.5, 0.5)\n",
        "    plt.imshow(cm, interpolation='nearest', cmap=cmap)\n",
        "    plt.title(title)\n",
        "    plt.colorbar()\n",
        "    tick_marks = np.arange(len(classes))\n",
        "    plt.xticks(tick_marks, classes, rotation=45)\n",
        "    plt.yticks(tick_marks, classes)\n",
        "    plt.ylim(1.5, -0.5)\n",
        "\n",
        "    fmt = '.2f' if normalize else 'd'\n",
        "    thresh = cm.max() / 2.\n",
        "    for i, j in itertools.product(range(cm.shape[0]), range(cm.shape[1])):\n",
        "        plt.text(j, i, format(cm[i, j], fmt),\n",
        "                 horizontalalignment=\"center\",\n",
        "                 color=\"white\" if cm[i, j] > thresh else \"black\")\n",
        "\n",
        "    plt.ylabel('Real class')\n",
        "    plt.xlabel('Predicted class')\n",
        "    plt.tight_layout()\n",
        "\n",
        "plot_confusion_matrix(cnf_matrix, classes=['Control: 0', 'Cold: 1'])"
      ],
      "metadata": {
        "colab": {
          "base_uri": "https://localhost:8080/",
          "height": 487
        },
        "id": "qYGVE93nAeJq",
        "outputId": "59932e87-35fc-431b-b86b-407ad75c461c"
      },
      "execution_count": 25,
      "outputs": [
        {
          "output_type": "display_data",
          "data": {
            "text/plain": [
              "<Figure size 640x480 with 2 Axes>"
            ],
            "image/png": "[encoded data removed]"
          },
          "metadata": {}
        }
      ]
    },
    {
      "cell_type": "code",
      "source": [
        "from sklearn.model_selection import train_test_split, cross_val_score\n",
        "scores = cross_val_score(model_lgb, X_res, y_res, cv=4)\n",
        "print(\"Scores:\", scores)\n",
        "print(\"Median:\", scores.mean())\n"
      ],
      "metadata": {
        "colab": {
          "base_uri": "https://localhost:8080/"
        },
        "id": "K2nwP_nLBSYR",
        "outputId": "36127a27-5b38-428f-b4c4-8cb3b653d838"
      },
      "execution_count": 26,
      "outputs": [
        {
          "output_type": "stream",
          "name": "stdout",
          "text": [
            "[LightGBM] [Info] Number of positive: 9022, number of negative: 16404\n",
            "[LightGBM] [Info] Auto-choosing col-wise multi-threading, the overhead of testing was 0.045085 seconds.\n",
            "You can set `force_col_wise=true` to remove the overhead.\n",
            "[LightGBM] [Info] Total Bins 25500\n",
            "[LightGBM] [Info] Number of data points in the train set: 25426, number of used features: 100\n",
            "[LightGBM] [Info] [binary:BoostFromScore]: pavg=0.354834 -> initscore=-0.597859\n",
            "[LightGBM] [Info] Start training from score -0.597859\n",
            "[LightGBM] [Info] Number of positive: 9022, number of negative: 16404\n",
            "[LightGBM] [Info] Auto-choosing col-wise multi-threading, the overhead of testing was 0.056319 seconds.\n",
            "You can set `force_col_wise=true` to remove the overhead.\n",
            "[LightGBM] [Info] Total Bins 25500\n",
            "[LightGBM] [Info] Number of data points in the train set: 25426, number of used features: 100\n",
            "[LightGBM] [Info] [binary:BoostFromScore]: pavg=0.354834 -> initscore=-0.597859\n",
            "[LightGBM] [Info] Start training from score -0.597859\n",
            "[LightGBM] [Info] Number of positive: 9023, number of negative: 16404\n",
            "[LightGBM] [Info] Auto-choosing col-wise multi-threading, the overhead of testing was 0.031211 seconds.\n",
            "You can set `force_col_wise=true` to remove the overhead.\n",
            "[LightGBM] [Info] Total Bins 25500\n",
            "[LightGBM] [Info] Number of data points in the train set: 25427, number of used features: 100\n",
            "[LightGBM] [Info] [binary:BoostFromScore]: pavg=0.354859 -> initscore=-0.597748\n",
            "[LightGBM] [Info] Start training from score -0.597748\n",
            "[LightGBM] [Info] Number of positive: 9023, number of negative: 16404\n",
            "[LightGBM] [Info] Auto-choosing row-wise multi-threading, the overhead of testing was 0.012904 seconds.\n",
            "You can set `force_row_wise=true` to remove the overhead.\n",
            "And if memory is not enough, you can set `force_col_wise=true`.\n",
            "[LightGBM] [Info] Total Bins 25500\n",
            "[LightGBM] [Info] Number of data points in the train set: 25427, number of used features: 100\n",
            "[LightGBM] [Info] [binary:BoostFromScore]: pavg=0.354859 -> initscore=-0.597748\n",
            "[LightGBM] [Info] Start training from score -0.597748\n",
            "Scores: [0.71779141 0.80226522 0.81109145 0.75669617]\n",
            "Median: 0.7719610602763869\n"
          ]
        }
      ]
    },
    {
      "cell_type": "code",
      "source": [
        "from sklearn.model_selection import train_test_split, cross_val_score\n",
        "scores = cross_val_score(modelrf, X_res, y_res, cv=4)\n",
        "print(\"Scores:\", scores)\n",
        "print(\"Median:\", scores.mean())"
      ],
      "metadata": {
        "colab": {
          "base_uri": "https://localhost:8080/"
        },
        "id": "PdX2m2OpBW7m",
        "outputId": "9f4c0e3f-a330-446f-b515-f824bd953832"
      },
      "execution_count": 27,
      "outputs": [
        {
          "output_type": "stream",
          "name": "stdout",
          "text": [
            "Scores: [0.71767343 0.79813591 0.79834808 0.74418879]\n",
            "Median: 0.7645865542966362\n"
          ]
        }
      ]
    },
    {
      "cell_type": "code",
      "source": [
        "from sklearn.model_selection import train_test_split, cross_val_score\n",
        "scores = cross_val_score(modelxg, X_res, y_res, cv=4)\n",
        "print(\"Scores:\", scores)\n",
        "print(\"Median:\", scores.mean())"
      ],
      "metadata": {
        "colab": {
          "base_uri": "https://localhost:8080/"
        },
        "id": "bOMy_giLBkgO",
        "outputId": "d40c5aaa-e7a6-49f7-9d65-510074090704"
      },
      "execution_count": 28,
      "outputs": [
        {
          "output_type": "stream",
          "name": "stdout",
          "text": [
            "Scores: [0.7130722  0.77902312 0.78713864 0.74241888]\n",
            "Median: 0.7554132125271982\n"
          ]
        }
      ]
    },
    {
      "cell_type": "code",
      "source": [
        "\n",
        "from sklearn.metrics import confusion_matrix, classification_report, roc_auc_score, accuracy_score\n",
        "import numpy as np\n",
        "y_prob = model_lgb.predict_proba(X_test)[:, 1]\n",
        "\n",
        "thresholds = np.arange(0.0, 1.1, 0.1)\n",
        "results = []\n",
        "\n",
        "for threshold in thresholds:\n",
        "    y_pred_test = (y_prob >= threshold).astype(int)\n",
        "\n",
        "    tn, fp, fn, tp = confusion_matrix(y_test, y_pred_test).ravel()\n",
        "    precision = tp / (tp + fp) if (tp + fp) > 0 else 0\n",
        "    recall = tp / (tp + fn) if (tp + fn) > 0 else 0\n",
        "    f1 = 2 * (precision * recall) / (precision + recall) if (precision + recall) > 0 else 0\n",
        "    auc = roc_auc_score(y_test, y_prob)\n",
        "    accuracy = accuracy_score(y_test, y_pred_test)\n",
        "\n",
        "    results.append({\n",
        "        'Threshold': threshold,\n",
        "        'Precision': precision,\n",
        "        'Recall': recall,\n",
        "        'F1 Score': f1,\n",
        "        'AUC': auc,\n",
        "        'Acurácia': accuracy\n",
        "    })\n",
        "\n",
        "results_df = pd.DataFrame(results)\n",
        "print(results_df)"
      ],
      "metadata": {
        "colab": {
          "base_uri": "https://localhost:8080/"
        },
        "id": "8AcslbD1Cexu",
        "outputId": "884e6296-3a1c-494c-cf28-029c3e66795d"
      },
      "execution_count": 29,
      "outputs": [
        {
          "output_type": "stream",
          "name": "stdout",
          "text": [
            "    Threshold  Precision  Recall  F1 Score  AUC  Acurácia\n",
            "0        0.00       0.50    1.00      0.67 0.85      0.50\n",
            "1        0.10       0.68    0.96      0.80 0.85      0.75\n",
            "2        0.20       0.74    0.94      0.83 0.85      0.81\n",
            "3        0.30       0.76    0.93      0.84 0.85      0.82\n",
            "4        0.40       0.76    0.93      0.84 0.85      0.82\n",
            "5        0.50       0.77    0.93      0.84 0.85      0.82\n",
            "6        0.60       0.77    0.91      0.83 0.85      0.82\n",
            "7        0.70       0.78    0.78      0.78 0.85      0.78\n",
            "8        0.80       0.81    0.25      0.39 0.85      0.60\n",
            "9        0.90       1.00    0.00      0.00 0.85      0.50\n",
            "10       1.00       0.00    0.00      0.00 0.85      0.50\n"
          ]
        }
      ]
    },
    {
      "cell_type": "code",
      "source": [
        "from sklearn.metrics import confusion_matrix, classification_report, roc_auc_score, accuracy_score\n",
        "import numpy as np\n",
        "y_prob = modelrf.predict_proba(X_test)[:, 1]\n",
        "\n",
        "thresholds = np.arange(0.0, 1.1, 0.1)\n",
        "results = []\n",
        "\n",
        "for threshold in thresholds:\n",
        "    y_pred_test = (y_prob >= threshold).astype(int)\n",
        "\n",
        "    tn, fp, fn, tp = confusion_matrix(y_test, y_pred_test).ravel()\n",
        "    precision = tp / (tp + fp) if (tp + fp) > 0 else 0\n",
        "    recall = tp / (tp + fn) if (tp + fn) > 0 else 0\n",
        "    f1 = 2 * (precision * recall) / (precision + recall) if (precision + recall) > 0 else 0\n",
        "    auc = roc_auc_score(y_test, y_prob)\n",
        "    accuracy = accuracy_score(y_test, y_pred_test)\n",
        "\n",
        "    results.append({\n",
        "        'Threshold': threshold,\n",
        "        'Precision': precision,\n",
        "        'Recall': recall,\n",
        "        'F1 Score': f1,\n",
        "        'AUC': auc,\n",
        "        'Acurácia': accuracy\n",
        "    })\n",
        "\n",
        "results_df = pd.DataFrame(results)\n",
        "print(results_df)"
      ],
      "metadata": {
        "colab": {
          "base_uri": "https://localhost:8080/"
        },
        "id": "CryZfwuqCp7G",
        "outputId": "5d299df0-da31-41f7-f415-a100e4da71be"
      },
      "execution_count": 30,
      "outputs": [
        {
          "output_type": "stream",
          "name": "stdout",
          "text": [
            "    Threshold  Precision  Recall  F1 Score  AUC  Acurácia\n",
            "0        0.00       0.50    1.00      0.67 0.85      0.50\n",
            "1        0.10       0.66    0.97      0.78 0.85      0.73\n",
            "2        0.20       0.74    0.94      0.83 0.85      0.81\n",
            "3        0.30       0.76    0.93      0.84 0.85      0.82\n",
            "4        0.40       0.76    0.92      0.83 0.85      0.82\n",
            "5        0.50       0.77    0.88      0.82 0.85      0.81\n",
            "6        0.60       0.78    0.71      0.75 0.85      0.76\n",
            "7        0.70       0.80    0.38      0.52 0.85      0.64\n",
            "8        0.80       0.83    0.13      0.23 0.85      0.55\n",
            "9        0.90       0.89    0.02      0.04 0.85      0.51\n",
            "10       1.00       1.00    0.00      0.00 0.85      0.50\n"
          ]
        }
      ]
    },
    {
      "cell_type": "code",
      "source": [
        "from sklearn.metrics import confusion_matrix, classification_report, roc_auc_score, accuracy_score\n",
        "import numpy as np\n",
        "y_prob = modelxg.predict_proba(X_test)[:, 1]\n",
        "\n",
        "thresholds = np.arange(0.0, 1.1, 0.1)\n",
        "results = []\n",
        "\n",
        "for threshold in thresholds:\n",
        "    y_pred_test = (y_prob >= threshold).astype(int)\n",
        "\n",
        "    tn, fp, fn, tp = confusion_matrix(y_test, y_pred_test).ravel()\n",
        "    precision = tp / (tp + fp) if (tp + fp) > 0 else 0\n",
        "    recall = tp / (tp + fn) if (tp + fn) > 0 else 0\n",
        "    f1 = 2 * (precision * recall) / (precision + recall) if (precision + recall) > 0 else 0\n",
        "    auc = roc_auc_score(y_test, y_prob)\n",
        "    accuracy = accuracy_score(y_test, y_pred_test)\n",
        "\n",
        "    results.append({\n",
        "        'Threshold': threshold,\n",
        "        'Precision': precision,\n",
        "        'Recall': recall,\n",
        "        'F1 Score': f1,\n",
        "        'AUC': auc,\n",
        "        'Acurácia': accuracy\n",
        "    })\n",
        "\n",
        "results_df = pd.DataFrame(results)\n",
        "print(results_df)"
      ],
      "metadata": {
        "colab": {
          "base_uri": "https://localhost:8080/"
        },
        "id": "tddKpT0QCsad",
        "outputId": "1d26d9c2-bcc1-430b-eff4-504b14dc153b"
      },
      "execution_count": 31,
      "outputs": [
        {
          "output_type": "stream",
          "name": "stdout",
          "text": [
            "    Threshold  Precision  Recall  F1 Score  AUC  Acurácia\n",
            "0        0.00       0.50    1.00      0.67 0.84      0.50\n",
            "1        0.10       0.70    0.95      0.81 0.84      0.78\n",
            "2        0.20       0.75    0.93      0.83 0.84      0.81\n",
            "3        0.30       0.76    0.92      0.83 0.84      0.81\n",
            "4        0.40       0.76    0.89      0.82 0.84      0.81\n",
            "5        0.50       0.77    0.85      0.81 0.84      0.80\n",
            "6        0.60       0.78    0.77      0.78 0.84      0.78\n",
            "7        0.70       0.78    0.62      0.69 0.84      0.72\n",
            "8        0.80       0.79    0.37      0.50 0.84      0.64\n",
            "9        0.90       0.82    0.10      0.17 0.84      0.54\n",
            "10       1.00       0.00    0.00      0.00 0.84      0.50\n"
          ]
        }
      ]
    }
  ]
}